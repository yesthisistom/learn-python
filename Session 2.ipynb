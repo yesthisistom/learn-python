{
 "cells": [
  {
   "cell_type": "markdown",
   "metadata": {},
   "source": [
    "# <center>Session 2 - Data Structures and Loops</center>\n",
    "\n",
    "<hr>"
   ]
  },
  {
   "cell_type": "markdown",
   "metadata": {},
   "source": [
    "## Table of Contents\n",
    "\n",
    "<b>\n",
    "\n",
    "* <a href=\"#Loops\">Loops</a>\n",
    "    * for\n",
    "    * while\n",
    "    \n",
    "    \n",
    "* [Data Structures](#Structures)\n",
    "    * List\n",
    "    * Dictionary\n",
    "    * Set\n",
    "    * Tuple\n",
    "    \n",
    "    \n",
    "* Examples\n",
    "* Exercises\n",
    "\n",
    "</b>"
   ]
  },
  {
   "cell_type": "markdown",
   "metadata": {
    "collapsed": true
   },
   "source": [
    "<hr>\n",
    "# Loops\n",
    "\n",
    "Loops are used to control the flow of your program.  They can be used to iterate over a bunch of data, or run a piece of code a bunch of times.  In Python, there are two types of loops; for, and while. "
   ]
  },
  {
   "cell_type": "markdown",
   "metadata": {},
   "source": [
    "## For Loops\n",
    "\n",
    "For loops are used to perform a piece of code a set number of times, or over a set amount of data.  \n",
    "\n",
    "The general format is:\n",
    "\n",
    "    for <var> in <sequence>:\n",
    "        <code to execute>\n",
    "        \n",
    "In each iteration of the loop, the variable <var> is equal to one element in the sequence you're looping over.  A sequence is something like a string or a list (which we'll cover soon). "
   ]
  },
  {
   "cell_type": "code",
   "execution_count": null,
   "metadata": {},
   "outputs": [],
   "source": [
    "test_str = \"1234567\"\n",
    "\n",
    "for char in test_str:\n",
    "    if int(char) % 2 == 0:\n",
    "        print(char, \"is even\")\n",
    "    else:\n",
    "        print(char, \"is odd\")"
   ]
  },
  {
   "cell_type": "code",
   "execution_count": null,
   "metadata": {},
   "outputs": [],
   "source": [
    "# Range is a great built in function for doing an action a specific number of times.\n",
    "# It returns a sequence of numbers starting at the first value, ending at the second value (not inclusive)\n",
    "for x in range(0,10):\n",
    "    if x % 2 == 0:\n",
    "        print(x, \"is even\")\n",
    "    else:\n",
    "        print (x, \"is odd\")"
   ]
  },
  {
   "cell_type": "markdown",
   "metadata": {},
   "source": [
    "## While Loops\n",
    "\n",
    "While loops behave like an if statement; they perform the indented code until a condition is met, not a set number of times. The general structure is:\n",
    "    \n",
    "    while <conditional>:\n",
    "        <code to execute>"
   ]
  },
  {
   "cell_type": "code",
   "execution_count": null,
   "metadata": {},
   "outputs": [],
   "source": [
    "i = 0\n",
    "while i < 10:\n",
    "    print(i)\n",
    "    i += 1"
   ]
  },
  {
   "cell_type": "markdown",
   "metadata": {},
   "source": [
    "### Break and Continue\n",
    "\n",
    "You can skip a portion of the code in a loop, or break out of a loop completely using the break and continue statements.  "
   ]
  },
  {
   "cell_type": "code",
   "execution_count": null,
   "metadata": {},
   "outputs": [],
   "source": [
    "for i in range(0,10):\n",
    "    if i % 2 == 0:\n",
    "        continue;\n",
    "    else:\n",
    "        print(i)"
   ]
  },
  {
   "cell_type": "code",
   "execution_count": null,
   "metadata": {},
   "outputs": [],
   "source": [
    "## This code snipped just demonstrates how it works.  In reality, you might be searching for a specific\n",
    "##  piece of information in some data you already have. \n",
    "\n",
    "i = 0\n",
    "while True:\n",
    "    if i == 10:\n",
    "        break\n",
    "    \n",
    "    print(i)\n",
    "    i += 1\n",
    "    "
   ]
  },
  {
   "cell_type": "markdown",
   "metadata": {},
   "source": [
    "## Loop Exercise 1\n",
    "\n",
    "Asks the user for a postive number and then prints out a list of all the numbers that divide evenly (has no remainder) into that number. \n",
    "\n",
    "eg:\n",
    "\n",
    "    input a number: 24\n",
    "    1\n",
    "    2\n",
    "    3\n",
    "    4\n",
    "    6\n",
    "    8\n",
    "    12"
   ]
  },
  {
   "cell_type": "code",
   "execution_count": null,
   "metadata": {},
   "outputs": [],
   "source": [
    "## Your code here"
   ]
  },
  {
   "cell_type": "markdown",
   "metadata": {},
   "source": [
    "<hr> \n",
    "\n",
    "# Data Structures\n",
    "\n",
    "We've seen how to store single numbers, booleans, or strings as variables.  There are a number of other data structures available in python (as well as most other programming languages). \n",
    "\n",
    "\n",
    "\n",
    "| <center>Data Struture</center> | <center>Description</center> |\n",
    "|----|---|\n",
    "|list| Stores a list of elements.  Elements can be added, removed, or sorted|\n",
    "|set| Stores a list of elements, but automatically de-duplicates.  This is unordered|\n",
    "|tuple|Like a list, but immutable. |\n",
    "|dictionary| Maps a set of keys to a set of values|\n"
   ]
  },
  {
   "cell_type": "markdown",
   "metadata": {},
   "source": [
    "## List\n",
    "\n",
    "Lists are an ordered way of grouping things, called elements. \n",
    " \n",
    "Unlike other languages, python lists can store multiple data types, including other lists.  There are two ways to declare a list. \n",
    " \n",
    "    ## Declare a list using square brackets, with or without intial elements\n",
    "    python_list = []                         ## Declaring empty list\n",
    "    python_list = [\"element_1\", \"element_2\"] ## Declaring a list with two strings as elements\n",
    "    \n",
    "    python_list = list()                     ## Declaring an empty lists\n",
    "    python_list = list(<other sequence>)     ## Declaring a list with the values of a different sequence"
   ]
  },
  {
   "cell_type": "code",
   "execution_count": null,
   "metadata": {},
   "outputs": [],
   "source": [
    "ex_list = [\"string\", 1, 1.0]\n",
    "ex_list.append(\"string2\")\n",
    "\n",
    "print (ex_list)"
   ]
  },
  {
   "cell_type": "code",
   "execution_count": null,
   "metadata": {},
   "outputs": [],
   "source": [
    "str_var = \"Contents of a String\"\n",
    "\n",
    "## The only other sequence type we've covered in a string, so we'll use that here\n",
    "list_of_chars = list(str_var)\n",
    "\n",
    "print(list_of_chars)"
   ]
  },
  {
   "cell_type": "markdown",
   "metadata": {},
   "source": [
    "It's possible to iterate over lists (and other sequences)"
   ]
  },
  {
   "cell_type": "code",
   "execution_count": null,
   "metadata": {},
   "outputs": [],
   "source": [
    "for x in ex_list:\n",
    "    print (type(x))"
   ]
  },
  {
   "cell_type": "markdown",
   "metadata": {},
   "source": [
    "We talked about the 'in' and 'not in' keywords last time in reference to strings.  We can use them for lists (and sets, and dictionaries) as well. "
   ]
  },
  {
   "cell_type": "code",
   "execution_count": null,
   "metadata": {},
   "outputs": [],
   "source": [
    "1 in ex_list"
   ]
  },
  {
   "cell_type": "code",
   "execution_count": null,
   "metadata": {},
   "outputs": [],
   "source": [
    "if 1 in ex_list:\n",
    "    print(\"our list contains a 1\")"
   ]
  },
  {
   "cell_type": "markdown",
   "metadata": {},
   "source": [
    "## Set \n",
    "\n",
    "A set is similar to a list, with two important differences:\n",
    "\n",
    "1. Only holds one instance of each element\n",
    "2. It is unordered\n",
    "\n",
    "The lookup time to determine if an element is in the set is much faster than for a list.  "
   ]
  },
  {
   "cell_type": "markdown",
   "metadata": {},
   "source": [
    "A set can be initialized two ways.\n",
    "\n",
    "    python_set = {<element1>,...,<elementn>}    ## If curly braces are used, elements must be added explicitly\n",
    "    python_set = set()                          ## Initializing an empty set\n",
    "    python_set = set(<other sequence>)          ## Initializing a set with the values in another sequence"
   ]
  },
  {
   "cell_type": "code",
   "execution_count": null,
   "metadata": {},
   "outputs": [],
   "source": [
    "## Initializing a set\n",
    "\n",
    "test_set = {\"string\", \"string\", 1, 2, 3}\n",
    "print(test_set)"
   ]
  },
  {
   "cell_type": "code",
   "execution_count": null,
   "metadata": {},
   "outputs": [],
   "source": [
    "ex_list = [1,1,2,3,4,5,5,6]\n",
    "test_set2 = set(ex_list)\n",
    "\n",
    "print(test_set2)\n",
    "print(test_set2.add(1))"
   ]
  },
  {
   "cell_type": "markdown",
   "metadata": {},
   "source": [
    "# List Exercise 1\n",
    "\n",
    "Take this list:\n",
    "\n",
    "    a = [1, 1, 2, 3, 5, 8, 13, 21, 34, 55, 89]\n",
    "  \n",
    "and print out all the elements of the list that are less than 5."
   ]
  },
  {
   "cell_type": "code",
   "execution_count": null,
   "metadata": {
    "collapsed": true
   },
   "outputs": [],
   "source": [
    "### Your code here"
   ]
  },
  {
   "cell_type": "markdown",
   "metadata": {},
   "source": [
    "### 1.1\n",
    "\n",
    "Instead of printing the elements one by one, make a new list that has all the elements less than 5 from this list in it and print out this new list."
   ]
  },
  {
   "cell_type": "code",
   "execution_count": null,
   "metadata": {
    "collapsed": true
   },
   "outputs": [],
   "source": [
    "### Your code here "
   ]
  },
  {
   "cell_type": "markdown",
   "metadata": {},
   "source": [
    "### 1.2\n",
    "\n",
    "Ask the user for a number and return a list that contains only elements from the original list a that are smaller than that number given by the user."
   ]
  },
  {
   "cell_type": "code",
   "execution_count": null,
   "metadata": {
    "collapsed": true
   },
   "outputs": [],
   "source": [
    "### Your code here"
   ]
  },
  {
   "cell_type": "code",
   "execution_count": null,
   "metadata": {
    "collapsed": true
   },
   "outputs": [],
   "source": []
  }
 ],
 "metadata": {
  "kernelspec": {
   "display_name": "Python [default]",
   "language": "python",
   "name": "python3"
  },
  "language_info": {
   "codemirror_mode": {
    "name": "ipython",
    "version": 3
   },
   "file_extension": ".py",
   "mimetype": "text/x-python",
   "name": "python",
   "nbconvert_exporter": "python",
   "pygments_lexer": "ipython3",
   "version": "3.6.2"
  }
 },
 "nbformat": 4,
 "nbformat_minor": 2
}
