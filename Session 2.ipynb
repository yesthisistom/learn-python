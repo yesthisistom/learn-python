{
 "cells": [
  {
   "cell_type": "markdown",
   "metadata": {},
   "source": [
    "# <center>Session 2 - Data Structures and Loops</center>\n",
    "\n",
    "<hr>"
   ]
  },
  {
   "cell_type": "markdown",
   "metadata": {},
   "source": [
    "## Table of Contents\n",
    "\n",
    "<b>\n",
    "\n",
    "* [Loops](#Loops)\n",
    "    * [For Loops](#For)\n",
    "    * [While Loops](#While)\n",
    "    \n",
    "    * [Exercise 1](#Exercise1)\n",
    "    \n",
    "    \n",
    "* [Data Structures](#Structures)\n",
    "    * [Lists](#Lists)\n",
    "    * [Exercise 2](#Exercise2)\n",
    "    * [Exercise 3](#Exercise3)\n",
    "    * [Sets](#Sets)\n",
    "    * [Exercise 4](#Exercise4)\n",
    "    * [Dictionaries](#Dictionaries)\n",
    "    * [Exercise 5](#Exercise5)\n",
    "</b>"
   ]
  },
  {
   "cell_type": "markdown",
   "metadata": {
    "collapsed": true
   },
   "source": [
    "<hr>\n",
    "# Loops\n",
    "\n",
    "Loops are used to control the flow of your program.  They can be used to iterate over a bunch of data, or run a piece of code a bunch of times.  In Python, there are two types of loops; for, and while. "
   ]
  },
  {
   "cell_type": "markdown",
   "metadata": {},
   "source": [
    "<a id=\"For\"></a>\n",
    "## For Loops\n",
    "\n",
    "For loops are used to perform a piece of code a set number of times, or over a set amount of data.  \n",
    "\n",
    "The general format is:\n",
    "\n",
    "    for var in sequence:\n",
    "        <code to execute>\n",
    "        \n",
    "In each iteration of the loop, the variable 'var' is equal to one element in the sequence you're looping over.  A sequence is something like a string or a list (which we'll cover soon). "
   ]
  },
  {
   "cell_type": "code",
   "execution_count": null,
   "metadata": {
    "collapsed": true
   },
   "outputs": [],
   "source": [
    "test_str = \"1234567\"\n",
    "\n",
    "for char in test_str:\n",
    "    if int(char) % 2 == 0:\n",
    "        print(char, \"is even\")\n",
    "    else:\n",
    "        print(char, \"is odd\")"
   ]
  },
  {
   "cell_type": "code",
   "execution_count": null,
   "metadata": {
    "collapsed": true
   },
   "outputs": [],
   "source": [
    "# Range is a great built in function for doing an action a specific number of times.\n",
    "# It returns a sequence of numbers starting at the first value, ending at the second value (not inclusive)\n",
    "\n",
    "for x in range(0,10):\n",
    "    if x % 2 == 0:\n",
    "        print(x, \"is even\")\n",
    "    else:\n",
    "        print (x, \"is odd\")"
   ]
  },
  {
   "cell_type": "markdown",
   "metadata": {},
   "source": [
    "<a id=\"While\"></a>\n",
    "## While Loops\n",
    "\n",
    "While loops behave like an if statement; they perform the indented code until a condition is met, not a set number of times. The general structure is:\n",
    "    \n",
    "    while <Boolean expression>:\n",
    "        <code to execute>"
   ]
  },
  {
   "cell_type": "code",
   "execution_count": null,
   "metadata": {
    "collapsed": true
   },
   "outputs": [],
   "source": [
    "i = 0\n",
    "while i < 10:\n",
    "    print(i)\n",
    "    i += 1"
   ]
  },
  {
   "cell_type": "code",
   "execution_count": null,
   "metadata": {
    "collapsed": true
   },
   "outputs": [],
   "source": [
    "age = None\n",
    "attempts = 0\n",
    "\n",
    "while age == None and attempts < 5:\n",
    "    age = int(input(\"Enter your age: \"))\n",
    "    if age < 0 or age > 95:\n",
    "        print(age, \"is not a valid input\")\n",
    "        age = None\n",
    "        \n",
    "    attempts += 1\n",
    "    \n",
    "if age != None:    \n",
    "    print(\"Your age is\", age)    "
   ]
  },
  {
   "cell_type": "markdown",
   "metadata": {},
   "source": [
    "# Break and Continue\n",
    "\n",
    "You can skip a portion of the code in a loop, or break out of a loop completely using the break and continue statements.  "
   ]
  },
  {
   "cell_type": "code",
   "execution_count": null,
   "metadata": {
    "collapsed": true
   },
   "outputs": [],
   "source": [
    "while True:\n",
    "    age = int(input(\"Enter your age: \"))\n",
    "    if age > 0 and age < 95:\n",
    "        break\n",
    "        \n",
    "print(\"Your age is\", age)"
   ]
  },
  {
   "cell_type": "code",
   "execution_count": null,
   "metadata": {
    "collapsed": true
   },
   "outputs": [],
   "source": [
    "for i in range(0,10):\n",
    "    if i % 2 == 0:\n",
    "        continue;\n",
    "    \n",
    "    print(i)"
   ]
  },
  {
   "cell_type": "markdown",
   "metadata": {},
   "source": [
    "<a id=\"Exercise1\"></a>\n",
    "<hr>\n",
    "# Exercise 1\n",
    "\n",
    "Asks the user for a postive number and then prints out a list of all the numbers that divide evenly (has no remainder) into that number. \n",
    "\n",
    "eg:\n",
    "\n",
    "    input a number: 24\n",
    "    1\n",
    "    2\n",
    "    3\n",
    "    4\n",
    "    6\n",
    "    8\n",
    "    12"
   ]
  },
  {
   "cell_type": "code",
   "execution_count": null,
   "metadata": {
    "collapsed": true
   },
   "outputs": [],
   "source": [
    "## Your code here"
   ]
  },
  {
   "cell_type": "markdown",
   "metadata": {},
   "source": [
    "<a id=\"Structures\"></a>\n",
    "<hr> \n",
    "\n",
    "# Data Structures\n",
    "\n",
    "We've seen how to store single numbers, booleans, or strings as variables.  There are a number of other data structures available in python (as well as most other programming languages). \n",
    "\n",
    "\n",
    "\n",
    "| <center>Data Struture</center> | <center>Description</center> |\n",
    "|----|---|\n",
    "|list| Stores a list of elements.  Elements can be added, removed, or sorted|\n",
    "|set| Stores a list of elements, but automatically de-duplicates.  This is unordered|\n",
    "|tuple|Like a list, but immutable. |\n",
    "|dictionary| Maps a set of keys to a set of values|\n"
   ]
  },
  {
   "cell_type": "markdown",
   "metadata": {},
   "source": [
    "<a id=\"Lists\"></a>\n",
    "## Lists\n",
    "\n",
    "Just like a shopping list, lists are an ordered way of grouping things, called elements. \n",
    " \n",
    "Unlike other languages, python lists can store multiple data types, including other lists.  There are two ways to declare a list. \n",
    " \n",
    "    ## Declare a list using square brackets, with or without intial elements\n",
    "    python_list = []                         ## Declaring empty list\n",
    "    python_list = [\"element_1\", \"element_2\"] ## Declaring a list with two strings as elements\n",
    "    \n",
    "    python_list = list()                     ## Declaring an empty lists\n",
    "    python_list = list(<other sequence>)     ## Declaring a list with the values of a different sequence"
   ]
  },
  {
   "cell_type": "code",
   "execution_count": null,
   "metadata": {
    "collapsed": true
   },
   "outputs": [],
   "source": [
    "ex_list = [\"string\", 1, 1.0]\n",
    "ex_list.append(\"string2\")\n",
    "\n",
    "print (ex_list)"
   ]
  },
  {
   "cell_type": "code",
   "execution_count": null,
   "metadata": {
    "collapsed": true
   },
   "outputs": [],
   "source": [
    "str_var = \"Contents of a String\"\n",
    "\n",
    "## The only other sequence type we've covered in a string, so we'll use that here\n",
    "list_of_chars = list(str_var)\n",
    "\n",
    "print(list_of_chars)"
   ]
  },
  {
   "cell_type": "markdown",
   "metadata": {},
   "source": [
    "It's possible to iterate over lists (and other sequences)"
   ]
  },
  {
   "cell_type": "code",
   "execution_count": null,
   "metadata": {
    "collapsed": true
   },
   "outputs": [],
   "source": [
    "for x in ex_list:\n",
    "    print (type(x))"
   ]
  },
  {
   "cell_type": "markdown",
   "metadata": {},
   "source": [
    "We talked about the 'in' and 'not in' keywords last time in reference to strings.  We can use them for lists (and sets, and dictionaries) as well. "
   ]
  },
  {
   "cell_type": "code",
   "execution_count": null,
   "metadata": {
    "collapsed": true
   },
   "outputs": [],
   "source": [
    "1 in ex_list"
   ]
  },
  {
   "cell_type": "code",
   "execution_count": null,
   "metadata": {
    "collapsed": true
   },
   "outputs": [],
   "source": [
    "if 1 in ex_list:\n",
    "    print(\"our list contains a 1\")"
   ]
  },
  {
   "cell_type": "code",
   "execution_count": null,
   "metadata": {
    "collapsed": true
   },
   "outputs": [],
   "source": [
    "list1 = [1,2,3,4]\n",
    "list2 = [5,6,7,8]\n",
    "\n",
    "list1.append(list2)\n",
    "\n",
    "list1"
   ]
  },
  {
   "cell_type": "code",
   "execution_count": null,
   "metadata": {
    "collapsed": true
   },
   "outputs": [],
   "source": [
    "list1 = [1,2,3,4]\n",
    "list2 = [5,6,7,8]\n",
    "\n",
    "list1.extend(list2)\n",
    "\n",
    "list1"
   ]
  },
  {
   "cell_type": "markdown",
   "metadata": {},
   "source": [
    "### Slicing\n",
    "\n",
    "You can retrieve items or a range of items from a python using using a 'slice'\n",
    "\n",
    "    list1[0] # Returns the first element in the list\n",
    "    list1[-1] # Returns the last element in the list\n",
    "    list1[1:5] # Returns the second through the 5th element (NOT the 6th; the second number is non-inclusive]"
   ]
  },
  {
   "cell_type": "code",
   "execution_count": null,
   "metadata": {
    "collapsed": true
   },
   "outputs": [],
   "source": [
    "print(list1[0]) # Returns the first element in the list\n",
    "print(list1[-1]) # Returns the last element in the list\n",
    "print(list1[1:5]) # Returns the second through the 5th element (NOT the 6th; the second number is non-inclusive]"
   ]
  },
  {
   "cell_type": "markdown",
   "metadata": {},
   "source": [
    "Slicing also works on strings!"
   ]
  },
  {
   "cell_type": "code",
   "execution_count": null,
   "metadata": {
    "collapsed": true
   },
   "outputs": [],
   "source": [
    "date = \"12-25-1975\"\n",
    "\n",
    "dash_index = date.find(\"-\")\n",
    "dash_index_2 = date.find(\"-\", dash_index+1)\n",
    "\n",
    "month = date[:dash_index]\n",
    "day = date[dash_index + 1:dash_index_2]\n",
    "year = date[dash_index_2 + 1:]\n",
    "\n",
    "print(\"Month: \", month)\n",
    "print(\"Day: \", day)\n",
    "print(\"Year: \", year)"
   ]
  },
  {
   "cell_type": "markdown",
   "metadata": {},
   "source": [
    "<a id=\"Exercise2\"></a>\n",
    "<hr>\n",
    "# Exercise 2\n",
    "\n",
    "Take this list:\n",
    "\n",
    "    a = [1, 1, 2, 3, 5, 8, 13, 21, 34, 55, 89]\n",
    "  \n",
    "and print out all the elements of the list that are less than 5."
   ]
  },
  {
   "cell_type": "code",
   "execution_count": null,
   "metadata": {
    "collapsed": true
   },
   "outputs": [],
   "source": [
    "### Your code here"
   ]
  },
  {
   "cell_type": "markdown",
   "metadata": {},
   "source": [
    "### Exercise 2.1\n",
    "\n",
    "Instead of printing the elements one by one, make a new list that has all the elements less than 5 from this list in it and print out this new list."
   ]
  },
  {
   "cell_type": "code",
   "execution_count": null,
   "metadata": {
    "collapsed": true
   },
   "outputs": [],
   "source": [
    "### Your code here "
   ]
  },
  {
   "cell_type": "markdown",
   "metadata": {},
   "source": [
    "### Exercise 2.2\n",
    "\n",
    "Ask the user for a number and print a list that contains only elements from the original list a that are smaller than that number given by the user."
   ]
  },
  {
   "cell_type": "code",
   "execution_count": null,
   "metadata": {
    "collapsed": true
   },
   "outputs": [],
   "source": [
    "### Your code here"
   ]
  },
  {
   "cell_type": "markdown",
   "metadata": {},
   "source": [
    "<hr>\n",
    "<a id=\"Exercise3\"></a>\n",
    "# Exercise 3\n",
    "\n",
    "Generate a random number between 1 and 9 (including 1 and 9). Ask the user to guess the number, then tell them whether they guessed too low, too high, or exactly right. \n",
    "\n",
    "You can generate a random number in python using the random library. \n",
    "\n",
    "    import random\n",
    "    print random.randint(1, 10) ## this gives you a random number between 0 and 10 inclusive"
   ]
  },
  {
   "cell_type": "code",
   "execution_count": null,
   "metadata": {
    "collapsed": true
   },
   "outputs": [],
   "source": [
    "## Example of using random\n",
    "\n",
    "import random\n",
    "\n",
    "rand_list = []\n",
    "while len(rand_list) < 100:\n",
    "    rand_list.append(random.randint(0,10))\n",
    "    \n",
    "print (min(rand_list))\n",
    "print (max(rand_list))\n",
    "print (rand_list)\n"
   ]
  },
  {
   "cell_type": "code",
   "execution_count": null,
   "metadata": {
    "collapsed": true
   },
   "outputs": [],
   "source": [
    "## Your code here\n"
   ]
  },
  {
   "cell_type": "markdown",
   "metadata": {},
   "source": [
    "### Exercise 3.1\n",
    "\n",
    "Add a loop to let the user keep guessing until they get it right.  Keep track and tell them how many guesses it took and what they've guessed. \n",
    "\n",
    "If they've guessed the same number multiple times, only show them one instance of it. "
   ]
  },
  {
   "cell_type": "code",
   "execution_count": null,
   "metadata": {
    "collapsed": true
   },
   "outputs": [],
   "source": [
    "## Your code here"
   ]
  },
  {
   "cell_type": "markdown",
   "metadata": {},
   "source": [
    "<a id=\"Sets\"></a>\n",
    "## Set \n",
    "\n",
    "A set is similar to a list, with two important differences:\n",
    "\n",
    "1. Only holds one instance of each element\n",
    "2. It is unordered\n",
    "\n",
    "The lookup time to determine if an element is in the set is much faster than for a list.  "
   ]
  },
  {
   "cell_type": "markdown",
   "metadata": {},
   "source": [
    "A set can be initialized two ways.\n",
    "\n",
    "    python_set = {<element1>,...,<elementn>}    ## If curly braces are used, elements must be added explicitly\n",
    "    python_set = set()                          ## Initializing an empty set\n",
    "    python_set = set(<other sequence>)          ## Initializing a set with the values in another sequence"
   ]
  },
  {
   "cell_type": "code",
   "execution_count": null,
   "metadata": {
    "collapsed": true
   },
   "outputs": [],
   "source": [
    "## Initializing a set\n",
    "\n",
    "test_set = {\"string\", \"string\", 1, 2, 3}\n",
    "print(test_set)"
   ]
  },
  {
   "cell_type": "code",
   "execution_count": null,
   "metadata": {
    "collapsed": true
   },
   "outputs": [],
   "source": [
    "ex_list = [1,1,2,3,4,5,5,6]\n",
    "test_set2 = set(ex_list)\n",
    "\n",
    "print(test_set2)\n",
    "print(test_set2.add(1))"
   ]
  },
  {
   "cell_type": "markdown",
   "metadata": {},
   "source": [
    "### Functions for sets"
   ]
  },
  {
   "cell_type": "markdown",
   "metadata": {},
   "source": [
    "![Union](images/A-Union-B.JPG \"Union\")"
   ]
  },
  {
   "cell_type": "code",
   "execution_count": null,
   "metadata": {
    "collapsed": true
   },
   "outputs": [],
   "source": [
    "class_attendance_day1 = {\"Mark\", \"Susan\", \"William\", \"Keith\", \"Horacio\"}\n",
    "class_attendance_day2 = {\"Mark\", \"Susan\", \"Evan\", \"Julie\", \"Keith\"}\n",
    "\n",
    "## Union in this case would show you all students who came any of the days\n",
    "class_attendance_day1.union(class_attendance_day2)"
   ]
  },
  {
   "cell_type": "markdown",
   "metadata": {},
   "source": [
    "![Intersection](images/A-Intersection-B.JPG \"Intersection\")"
   ]
  },
  {
   "cell_type": "code",
   "execution_count": null,
   "metadata": {
    "collapsed": true
   },
   "outputs": [],
   "source": [
    "## Intersection will give you the students who came BOTH days\n",
    "class_attendance_day1.intersection(class_attendance_day2)"
   ]
  },
  {
   "cell_type": "markdown",
   "metadata": {},
   "source": [
    "![Difference](images/Difference.JPG \"Difference\")"
   ]
  },
  {
   "cell_type": "code",
   "execution_count": null,
   "metadata": {
    "collapsed": true
   },
   "outputs": [],
   "source": [
    "## Students who came day one, but not day two\n",
    "class_attendance_day1.difference(class_attendance_day2)"
   ]
  },
  {
   "cell_type": "markdown",
   "metadata": {},
   "source": [
    "![Symmetric Difference](images/Symmetric-Difference.JPG \"Symmetric Difference\")"
   ]
  },
  {
   "cell_type": "code",
   "execution_count": null,
   "metadata": {
    "collapsed": true
   },
   "outputs": [],
   "source": [
    "## Students who only showed up to one class\n",
    "class_attendance_day1.symmetric_difference(class_attendance_day2)"
   ]
  },
  {
   "cell_type": "markdown",
   "metadata": {},
   "source": [
    "<hr>\n",
    "<a id=\"Exercise4\"></a>\n",
    "## Exercise 4\n",
    "\n",
    "Take the class attendance from above, and the class roster included below, and find out who has not attended class"
   ]
  },
  {
   "cell_type": "code",
   "execution_count": null,
   "metadata": {
    "collapsed": true
   },
   "outputs": [],
   "source": [
    "class_roster = ['Evan', 'Horacio', 'Merk', 'Julie', 'Keith', 'Mark', 'Susan', 'William', 'Stephanie']\n",
    "\n",
    "## Your code here"
   ]
  },
  {
   "cell_type": "markdown",
   "metadata": {},
   "source": [
    "<a id=\"Dictionaries\"></a>\n",
    "<hr>\n",
    "## Dictionaries\n",
    "\n",
    "A dictionary is a data structure that maps \"keys\" to \"values\".  Intuitively it makes a lot of sense - the key \"First Name\" would map to the value \"Tom\", etc.  \n",
    "\n",
    "A dictionary can be initialized a couple ways:\n",
    "\n",
    "    dictionary_1 = {}                 # Initializes an empty dictionary\n",
    "    dictionary_2 = {<key1>: <value1>,...,<keyn>:<valuen>}  # Initializes a dictionary with some key-value pairs. \n",
    "    dicationary_3 = dict()"
   ]
  },
  {
   "cell_type": "code",
   "execution_count": null,
   "metadata": {
    "collapsed": true
   },
   "outputs": [],
   "source": [
    "drivers_lic_dict = { \n",
    "    \"Name\": \"McLovin\",\n",
    "    \"Address\": \"892 Momona St\",\n",
    "    \"Weight\": 150,\n",
    "    \"Birthday\": \"06/03/1981\",\n",
    "    \"Sex\": \"Male\"\n",
    "}"
   ]
  },
  {
   "cell_type": "markdown",
   "metadata": {},
   "source": [
    "We can get values out of a dictionary:\n",
    "    \n",
    "    drivers_lic_dict[\"Name\"]\n",
    "    \n",
    "We can also add values or reassign existing ones:\n",
    "\n",
    "    drivers_lic_dict[\"Height\"] = \"5-10\"\n",
    "    drivers_lic_dict[\"Weight\"] = 155\n",
    "    \n",
    "The built-in function del() can be used to remove values\n",
    "    \n",
    "    del(drivers_lic_dict[\"Address\"])"
   ]
  },
  {
   "cell_type": "code",
   "execution_count": null,
   "metadata": {
    "collapsed": true
   },
   "outputs": [],
   "source": [
    "print(drivers_lic_dict[\"Name\"])\n",
    "\n",
    "drivers_lic_dict[\"Height\"] = \"5-10\"\n",
    "drivers_lic_dict[\"Weight\"] = 155\n",
    "\n",
    "del(drivers_lic_dict[\"Address\"])\n",
    "\n",
    "print(drivers_lic_dict)"
   ]
  },
  {
   "cell_type": "markdown",
   "metadata": {},
   "source": [
    "We'll deal with dictionaries more later, but we'll do a quick exercise using them.  "
   ]
  },
  {
   "cell_type": "markdown",
   "metadata": {},
   "source": [
    "<a id=\"Exercise5\"></a>\n",
    "<hr>\n",
    "# Exercise 5\n",
    "\n",
    "Take two dictionaries, one with the stock in a grocery store, one with the prices. \n",
    "\n",
    "    stock = {\n",
    "        \"banana\": 6,\n",
    "        \"apple\": 0,\n",
    "        \"orange\": 32,\n",
    "        \"pear\": 15\n",
    "    }\n",
    "\n",
    "    prices = {\n",
    "        \"banana\": 4,\n",
    "        \"apple\": 2,\n",
    "        \"orange\": 1.5,\n",
    "        \"pear\": 3\n",
    "    }\n",
    "    \n",
    "Ask the user how many they want of each item in stock.  Make sure the number is non-negative, and less than or equal to the amount in stock.  Calculate the total price. \n",
    "\n",
    "As a note, you can loop over the keys of a dictionary using \n",
    "\n",
    "    for key in <dictionary>.keys():"
   ]
  },
  {
   "cell_type": "code",
   "execution_count": null,
   "metadata": {
    "collapsed": true
   },
   "outputs": [],
   "source": [
    "## Your code here\n",
    "\n",
    "stock = {\n",
    "    \"banana\": 6,\n",
    "    \"apple\": 0,\n",
    "    \"orange\": 32,\n",
    "    \"pear\": 15\n",
    "}\n",
    "\n",
    "prices = {\n",
    "    \"banana\": 4,\n",
    "    \"apple\": 2,\n",
    "    \"orange\": 1.5,\n",
    "    \"pear\": 3\n",
    "}"
   ]
  },
  {
   "cell_type": "code",
   "execution_count": null,
   "metadata": {
    "collapsed": true
   },
   "outputs": [],
   "source": [
    "## Your code here"
   ]
  },
  {
   "cell_type": "code",
   "execution_count": null,
   "metadata": {
    "collapsed": true
   },
   "outputs": [],
   "source": []
  },
  {
   "cell_type": "code",
   "execution_count": null,
   "metadata": {
    "collapsed": true
   },
   "outputs": [],
   "source": []
  }
 ],
 "metadata": {
  "kernelspec": {
   "display_name": "Python [default]",
   "language": "python",
   "name": "python3"
  },
  "language_info": {
   "codemirror_mode": {
    "name": "ipython",
    "version": 3
   },
   "file_extension": ".py",
   "mimetype": "text/x-python",
   "name": "python",
   "nbconvert_exporter": "python",
   "pygments_lexer": "ipython3",
   "version": "3.6.2"
  }
 },
 "nbformat": 4,
 "nbformat_minor": 2
}
