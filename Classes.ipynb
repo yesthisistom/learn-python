{
 "cells": [
  {
   "cell_type": "markdown",
   "metadata": {},
   "source": [
    "# <center>Classes</center>\n",
    "\n",
    "<hr>"
   ]
  },
  {
   "cell_type": "markdown",
   "metadata": {},
   "source": [
    "## Table of Contents"
   ]
  },
  {
   "cell_type": "markdown",
   "metadata": {},
   "source": [
    "<a id=\"oop\"></a>\n",
    "<hr>\n",
    "# Object Oriented Programming\n",
    "\n",
    "Object oriented programming (OOP) is a term used to refer to an *object* which has the concept of a sense of self.  It has internal attributes, and methods that can return or modify those attributes. \n",
    "\n",
    "For example, an object may be something like a monster in a video game.  It has attributes like health, movement speed, damage per attack. \n",
    "\n",
    "It may have methods associated with it, such as move which it will perform based on its own attributes and maybe some environmental cues.  \n",
    "\n",
    "Most importantly, you can have multiple instances of this monster, each having different current internal values for those attributes.  If you attack one monster but not another, the one you attacked will have lower internal health and may behave differently.  \n",
    "\n",
    "The use here is obvious - you can write code once, but use it over and over again. More importantly, it allows your code to be really clean and readable.  A third maybe less obvious benefit is that it puts all the logic for your object in one place.  If you want to change or improve it later, there's one convenient place to change it. "
   ]
  },
  {
   "cell_type": "markdown",
   "metadata": {},
   "source": [
    "### Classes\n",
    "\n",
    "In python, the Object in OOP is referred to as classes.  Defining a class in python is fairly straightforward, and can be contained either in its own .py file, or in a larger one you're working on. \n",
    "\n",
    "The naming convention as defined by pep-8 is:\n",
    "\n",
    "    Class names should normally use the CapWords convention.\n",
    "\n",
    "    The naming convention for functions may be used instead in cases where the interface is documented and used primarily as a callable."
   ]
  },
  {
   "cell_type": "code",
   "execution_count": 1,
   "metadata": {
    "collapsed": true
   },
   "outputs": [],
   "source": [
    "class Article:\n",
    "    pass"
   ]
  },
  {
   "cell_type": "code",
   "execution_count": 2,
   "metadata": {},
   "outputs": [
    {
     "name": "stdout",
     "output_type": "stream",
     "text": [
      "<class '__main__.Article'>\n"
     ]
    }
   ],
   "source": [
    "article = Article\n",
    "print(article)"
   ]
  },
  {
   "cell_type": "markdown",
   "metadata": {},
   "source": [
    "There are some functions that python will recognize as having a specific use in a class. \n",
    "\n",
    "For instance, a function **__init__** will be treated as a *constructor*, or a function that takes arguments to initialize all the variables used in that instance of the class.  "
   ]
  },
  {
   "cell_type": "code",
   "execution_count": 3,
   "metadata": {
    "collapsed": true
   },
   "outputs": [],
   "source": [
    "class Article:\n",
    "    def __init__(self, article_text):\n",
    "        self._text = article_text\n",
    "        \n",
    "    def get_text(self):\n",
    "        return self._text\n",
    "    "
   ]
  },
  {
   "cell_type": "code",
   "execution_count": 4,
   "metadata": {
    "collapsed": true
   },
   "outputs": [],
   "source": [
    "article_fn = \"data/articles/568400855.txt\"\n",
    "with open(article_fn) as file_hdl:\n",
    "    text = file_hdl.read()"
   ]
  },
  {
   "cell_type": "code",
   "execution_count": 38,
   "metadata": {
    "collapsed": true
   },
   "outputs": [],
   "source": [
    "from LanguageProcessing import NLTKProcessing\n",
    "\n",
    "class Article:\n",
    "    def __init__(self, article_text):\n",
    "        self._text = article_text\n",
    "        self._nltk_proc = NLTKProcessing(self._text)\n",
    "        \n",
    "    def __len__(self):\n",
    "        return len(self._text)\n",
    "    \n",
    "    def get_text(self):\n",
    "        return self._text\n",
    "    \n",
    "    def get_most_common(self):\n",
    "        return [word for word,count in self._nltk_proc.get_most_common()]\n",
    "    "
   ]
  },
  {
   "cell_type": "code",
   "execution_count": 22,
   "metadata": {},
   "outputs": [],
   "source": [
    "from glob import glob\n",
    "\n",
    "article_files = glob(\"data/articles/*.txt\")\n",
    "\n",
    "articles = []\n",
    "for article_fn in article_files:\n",
    "    with open(article_fn) as file_hdl:\n",
    "        articles.append(Article(file_hdl.read()))"
   ]
  },
  {
   "cell_type": "code",
   "execution_count": 23,
   "metadata": {},
   "outputs": [
    {
     "data": {
      "text/plain": [
       "48"
      ]
     },
     "execution_count": 23,
     "metadata": {},
     "output_type": "execute_result"
    }
   ],
   "source": [
    "len(articles)"
   ]
  },
  {
   "cell_type": "code",
   "execution_count": 36,
   "metadata": {},
   "outputs": [
    {
     "name": "stdout",
     "output_type": "stream",
     "text": [
      "Search word: guitar\n",
      "4\n"
     ]
    }
   ],
   "source": [
    "search_word = input(\"Search word: \")\n",
    "\n",
    "music_articles = [article for article in articles if search_word.lower() in article.get_text().lower()]\n",
    "\n",
    "print(len(music_articles))"
   ]
  },
  {
   "cell_type": "code",
   "execution_count": null,
   "metadata": {
    "collapsed": true
   },
   "outputs": [],
   "source": []
  }
 ],
 "metadata": {
  "kernelspec": {
   "display_name": "Python [default]",
   "language": "python",
   "name": "python3"
  },
  "language_info": {
   "codemirror_mode": {
    "name": "ipython",
    "version": 3
   },
   "file_extension": ".py",
   "mimetype": "text/x-python",
   "name": "python",
   "nbconvert_exporter": "python",
   "pygments_lexer": "ipython3",
   "version": "3.6.2"
  }
 },
 "nbformat": 4,
 "nbformat_minor": 2
}
