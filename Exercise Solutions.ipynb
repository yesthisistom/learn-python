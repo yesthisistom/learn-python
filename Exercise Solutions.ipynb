{
 "cells": [
  {
   "cell_type": "markdown",
   "metadata": {},
   "source": [
    "# Session 1 Exercise 1"
   ]
  },
  {
   "cell_type": "code",
   "execution_count": 1,
   "metadata": {},
   "outputs": [
    {
     "name": "stdout",
     "output_type": "stream",
     "text": [
      "Enter a number: 2\n",
      "2 is even\n"
     ]
    }
   ],
   "source": [
    "user_input = input(\"Enter a number: \")\n",
    "\n",
    "if int(user_input) % 2 == 0:\n",
    "    print (user_input, \"is even\")\n",
    "else:\n",
    "    print (user_input, \"is odd\")"
   ]
  },
  {
   "cell_type": "markdown",
   "metadata": {},
   "source": [
    "# Session 1 Exercise 2"
   ]
  },
  {
   "cell_type": "code",
   "execution_count": 2,
   "metadata": {},
   "outputs": [
    {
     "name": "stdout",
     "output_type": "stream",
     "text": [
      "Enter your age: 33\n",
      "In 5 years you'll be 38\n"
     ]
    }
   ],
   "source": [
    "user_age = int(input(\"Enter your age: \"))\n",
    "\n",
    "print (\"In 5 years you'll be\", user_age + 5)"
   ]
  },
  {
   "cell_type": "markdown",
   "metadata": {},
   "source": [
    "# Session 1 Exercise 3"
   ]
  },
  {
   "cell_type": "code",
   "execution_count": 6,
   "metadata": {},
   "outputs": [
    {
     "name": "stdout",
     "output_type": "stream",
     "text": [
      "Enter a month number (January:1, etc): 4\n",
      "Second quarter\n"
     ]
    }
   ],
   "source": [
    "month_int = int(input(\"Enter a month number (January:1, etc): \"))\n",
    "\n",
    "if month_int < 4:\n",
    "    print (\"First quarter\")\n",
    "elif month_int < 7:\n",
    "    print(\"Second quarter\")\n",
    "elif month_int < 10:\n",
    "    print(\"Third quarter\")\n",
    "else:\n",
    "    print(\"Fourth quarter\")"
   ]
  },
  {
   "cell_type": "markdown",
   "metadata": {},
   "source": [
    "# Session 2 Exercise 1"
   ]
  },
  {
   "cell_type": "code",
   "execution_count": null,
   "metadata": {
    "collapsed": true
   },
   "outputs": [],
   "source": [
    "input_num = int(\"Input a postitive integer: \")\n",
    "\n",
    "for i in range()"
   ]
  }
 ],
 "metadata": {
  "kernelspec": {
   "display_name": "Python [default]",
   "language": "python",
   "name": "python3"
  },
  "language_info": {
   "codemirror_mode": {
    "name": "ipython",
    "version": 3
   },
   "file_extension": ".py",
   "mimetype": "text/x-python",
   "name": "python",
   "nbconvert_exporter": "python",
   "pygments_lexer": "ipython3",
   "version": "3.6.2"
  }
 },
 "nbformat": 4,
 "nbformat_minor": 2
}
