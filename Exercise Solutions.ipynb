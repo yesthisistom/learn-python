{
 "cells": [
  {
   "cell_type": "markdown",
   "metadata": {},
   "source": [
    "# Session 1 Exercise 1"
   ]
  },
  {
   "cell_type": "code",
   "execution_count": null,
   "metadata": {
    "collapsed": true
   },
   "outputs": [],
   "source": [
    "user_input = input(\"Enter a number: \")\n",
    "\n",
    "if int(user_input) % 2 == 0:\n",
    "    print (user_input, \"is even\")\n",
    "else:\n",
    "    print (user_input, \"is odd\")"
   ]
  },
  {
   "cell_type": "markdown",
   "metadata": {},
   "source": [
    "# Session 1 Exercise 2"
   ]
  },
  {
   "cell_type": "code",
   "execution_count": null,
   "metadata": {
    "collapsed": true
   },
   "outputs": [],
   "source": [
    "user_age = int(input(\"Enter your age: \"))\n",
    "\n",
    "print (\"In 5 years you'll be\", user_age + 5)"
   ]
  },
  {
   "cell_type": "markdown",
   "metadata": {},
   "source": [
    "# Session 1 Exercise 3"
   ]
  },
  {
   "cell_type": "code",
   "execution_count": null,
   "metadata": {
    "collapsed": true
   },
   "outputs": [],
   "source": [
    "month_int = int(input(\"Enter a month number (January:1, etc): \"))\n",
    "\n",
    "if month_int < 4:\n",
    "    print (\"First quarter\")\n",
    "elif month_int < 7:\n",
    "    print(\"Second quarter\")\n",
    "elif month_int < 10:\n",
    "    print(\"Third quarter\")\n",
    "else:\n",
    "    print(\"Fourth quarter\")"
   ]
  },
  {
   "cell_type": "markdown",
   "metadata": {},
   "source": [
    "# Session 2 Exercise 1"
   ]
  },
  {
   "cell_type": "code",
   "execution_count": null,
   "metadata": {
    "collapsed": true
   },
   "outputs": [],
   "source": [
    "input_num = int(input(\"Input a postitive integer: \"))\n",
    "\n",
    "for i in range(1, input_num):\n",
    "    if input_num % i == 0:\n",
    "        print (i)"
   ]
  },
  {
   "cell_type": "markdown",
   "metadata": {},
   "source": [
    "# Session 2 Exercise 2"
   ]
  },
  {
   "cell_type": "code",
   "execution_count": null,
   "metadata": {
    "collapsed": true
   },
   "outputs": [],
   "source": [
    "a = [1, 1, 2, 3, 5, 8, 13, 21, 34, 55, 89]\n",
    "\n",
    "for i in a:\n",
    "    if i < 5:\n",
    "        print (i)"
   ]
  },
  {
   "cell_type": "code",
   "execution_count": null,
   "metadata": {
    "collapsed": true
   },
   "outputs": [],
   "source": [
    "### 2.1\n",
    "\n",
    "sub_5_list = []\n",
    "for i in a:\n",
    "    if i < 5:\n",
    "        sub_5_list.append(i)\n",
    "        \n",
    "print(sub_5_list)"
   ]
  },
  {
   "cell_type": "code",
   "execution_count": null,
   "metadata": {
    "collapsed": true
   },
   "outputs": [],
   "source": [
    "### 2.2\n",
    "\n",
    "threshold = int(input(\"Enter a number: \"))\n",
    "\n",
    "sub_threshold_list = []\n",
    "for i in a:\n",
    "    if i < threshold:\n",
    "        sub_threshold_list.append(i)\n",
    "        \n",
    "print (sub_threshold_list)\n",
    "        "
   ]
  },
  {
   "cell_type": "markdown",
   "metadata": {},
   "source": [
    "# Session 2 Exercise 3\n"
   ]
  },
  {
   "cell_type": "code",
   "execution_count": null,
   "metadata": {
    "collapsed": true
   },
   "outputs": [],
   "source": [
    "rand_number = random.randint(1,9)\n",
    "user_guess = input(\"Guess a number between 1 and 9: \")\n",
    "\n",
    "print(\"The number was\", rand_number)\n",
    "if int(user_guess) == rand_number:\n",
    "    print (\"Correct!\")\n",
    "elif int(user_guess) > rand_number:\n",
    "    print (\"You guessed too high\")\n",
    "else:\n",
    "    print (\"You guessed too low\")"
   ]
  },
  {
   "cell_type": "code",
   "execution_count": null,
   "metadata": {
    "collapsed": true
   },
   "outputs": [],
   "source": [
    "### 3.1\n",
    "import random\n",
    "guesses = []\n",
    "rand_number = random.randint(1,9)\n",
    "\n",
    "while True:\n",
    "    if len(guesses) > 0:\n",
    "        print(\"So far you've guessed\", set(guesses))\n",
    "        \n",
    "    user_guess = input(\"Guess a number between 1 and 9: \")\n",
    "    guesses.append(user_guess)\n",
    "\n",
    "    if int(user_guess) == rand_number:\n",
    "        print (\"Correct! You took\", len(guesses), \"guesses to get it right. \")\n",
    "        break\n",
    "    elif int(user_guess) > rand_number:\n",
    "        print (\"You guessed too high\")\n",
    "    else:\n",
    "        print (\"You guessed too low\")"
   ]
  },
  {
   "cell_type": "markdown",
   "metadata": {},
   "source": [
    "# Session 2 Exercise 4"
   ]
  },
  {
   "cell_type": "code",
   "execution_count": null,
   "metadata": {
    "collapsed": true
   },
   "outputs": [],
   "source": [
    "class_roster = ['Evan', 'Horacio', 'Merk', 'Julie', 'Keith', 'Mark', 'Susan', 'William', 'Stephanie']\n",
    "\n",
    "class_attendance_day1 = {\"Mark\", \"Susan\", \"William\", \"Keith\", \"Horacio\"}\n",
    "class_attendance_day2 = {\"Mark\", \"Susan\", \"Evan\", \"Julie\", \"Keith\"}\n",
    "\n",
    "class_attendance = class_attendance_day1.union(class_attendance_day2)\n",
    "\n",
    "set(class_roster).difference(class_attendance)"
   ]
  },
  {
   "cell_type": "markdown",
   "metadata": {},
   "source": [
    "# Session 2 Exercise 5"
   ]
  },
  {
   "cell_type": "code",
   "execution_count": null,
   "metadata": {
    "collapsed": true
   },
   "outputs": [],
   "source": [
    "stock = {\n",
    "    \"banana\": 6,\n",
    "    \"apple\": 0,\n",
    "    \"orange\": 32,\n",
    "    \"pear\": 15\n",
    "}\n",
    "\n",
    "prices = {\n",
    "    \"banana\": 4,\n",
    "    \"apple\": 2,\n",
    "    \"orange\": 1.5,\n",
    "    \"pear\": 3\n",
    "}\n",
    "\n",
    "total_cost = 0.0\n",
    "for item in stock.keys():\n",
    "    amount = 0\n",
    "    while True:\n",
    "        amount = int(input(\"How many \" + item + \"s would you like? \"))\n",
    "        if amount < 0:\n",
    "            print(\"The amount you entered is less than 0\")\n",
    "        elif amount > stock[item]:\n",
    "            print (\"You entered too many. There are \", stock[item], \"in stock\")\n",
    "        else:\n",
    "            total_cost += amount * prices[item]  \n",
    "            break\n",
    "             \n",
    "print(\"Total cost is\", total_cost)"
   ]
  },
  {
   "cell_type": "markdown",
   "metadata": {},
   "source": [
    "# Session 3 Exercise 1"
   ]
  },
  {
   "cell_type": "code",
   "execution_count": null,
   "metadata": {},
   "outputs": [],
   "source": [
    "import csv  # You only need to run this once per project\n",
    "    \n",
    "csv_path = \"data/quiz_questions.csv\"\n",
    "    \n",
    "with open(csv_path) as csvfile:\n",
    "    csv_reader = csv.DictReader(csvfile)\n",
    "    for row in csv_reader:\n",
    "         pass\n",
    "\n",
    "while True:\n",
    "    print(row['question'])\n",
    "    print('a.', row['optiona'])\n",
    "    print('b.', row['optionb'])\n",
    "    print('c.', row['optionc'])\n",
    "    print('d.', row['optiond'])\n",
    "    \n",
    "    user_guess = input(\"Enter a,b,c, or d: \")\n",
    "    \n",
    "    response = row[user_guess.lower() + \"_response\"]\n",
    "    if response == 'correct':\n",
    "        print (\"Correct!\")\n",
    "        break\n",
    "    else:\n",
    "        print (response)\n",
    "        \n",
    "    print ('------')"
   ]
  },
  {
   "cell_type": "markdown",
   "metadata": {},
   "source": [
    "# Session 3 Exercise 2"
   ]
  },
  {
   "cell_type": "code",
   "execution_count": null,
   "metadata": {
    "collapsed": true
   },
   "outputs": [],
   "source": [
    "data_dict = {}\n",
    "\n",
    "with open('data/articles/article_log.csv') as file_hdl:\n",
    "    reader = csv.DictReader(file_hdl)\n",
    "    \n",
    "    for line in reader:\n",
    "        data_dict[line[\"ID\"]] = line\n",
    "        \n",
    "print(len(data_dict))\n",
    "\n",
    "from pprint import pprint\n",
    "pprint(data_dict)\n"
   ]
  },
  {
   "cell_type": "code",
   "execution_count": null,
   "metadata": {},
   "outputs": [],
   "source": [
    "### Session 3 Exercise 2.1\n",
    "from glob import glob\n",
    "\n",
    "txt_list = glob(\"data/articles/*.txt\")\n",
    "for file in txt_list:\n",
    "    file_id = file.replace(\"data/articles/\", \"\").replace(\".txt\",\"\")\n",
    "    \n",
    "    with open(file) as file_hdl:\n",
    "        text = file_hdl.read()\n",
    "        \n",
    "        length = len(text)\n",
    "        sentences = len(text.split(\".\"))\n",
    "        paragraphs = len(text.split(\"\\n\\n\"))\n",
    "        \n",
    "        data_dict[file_id][\"Length\"] = length\n",
    "        data_dict[file_id][\"Sentences\"] = sentences \n",
    "        data_dict[file_id][\"Paragraphs\"] = paragraphs\n",
    "        \n",
    "pprint(data_dict)    "
   ]
  },
  {
   "cell_type": "markdown",
   "metadata": {},
   "source": [
    "# Session 3 Exercise 3"
   ]
  },
  {
   "cell_type": "code",
   "execution_count": null,
   "metadata": {
    "collapsed": true
   },
   "outputs": [],
   "source": [
    "text = r.text\n",
    "\n",
    "text_only = \"\"\n",
    "while True:\n",
    "    start = text.find(\"<p>\")\n",
    "    end = text.find(\"</p>\")\n",
    "    if start == -1:\n",
    "        break\n",
    "\n",
    "    p_text = text[start+3:end]\n",
    "    text_only += p_text + \"\\n\\n\"\n",
    "    text = text[end+4:]\n",
    "\n",
    "print (text_only)\n",
    "    "
   ]
  },
  {
   "cell_type": "markdown",
   "metadata": {},
   "source": [
    "# Classes Exercise 1"
   ]
  },
  {
   "cell_type": "code",
   "execution_count": null,
   "metadata": {
    "collapsed": true
   },
   "outputs": [],
   "source": [
    "from LanguageProcessing import NLTKProcessing\n",
    "\n",
    "class Article:\n",
    "    def __init__(self, article_id, article_date, article_title, article_url, article_text):\n",
    "        self._text = article_text\n",
    "        self._nltk_proc = NLTKProcessing(self._text)\n",
    "        \n",
    "        self._id = article_id\n",
    "        self._date = article_date\n",
    "        self._title = article_title\n",
    "        self._url = article_url\n",
    "        \n",
    "    def __len__(self):\n",
    "        return len(self._text)\n",
    "    \n",
    "    def get_title(self):\n",
    "        return self._title\n",
    "    \n",
    "    def get_url(self):\n",
    "        return self._url\n",
    "    \n",
    "    def get_text(self):\n",
    "        return self._text\n",
    "    \n",
    "    def get_most_common(self):\n",
    "        return [word for word,count in self._nltk_proc.get_most_common()]\n",
    "    \n",
    "    def contains_word(self, word):\n",
    "        return word.lower() in self._text.lower()"
   ]
  },
  {
   "cell_type": "code",
   "execution_count": null,
   "metadata": {
    "collapsed": true
   },
   "outputs": [],
   "source": [
    "import csv\n",
    "\n",
    "def read_csv(filename, read_dicts=False):\n",
    "    \n",
    "    lines = []\n",
    "    with open(filename, 'r') as file_hdl:\n",
    "        if read_dicts:\n",
    "            csv_reader = csv.DictReader(file_hdl)\n",
    "        else:\n",
    "            csv_reader = csv.reader(file_hdl)\n",
    "        \n",
    "        for row in csv_reader:\n",
    "            lines.append(row)\n",
    "    return lines\n",
    "\n",
    "def read_text(filename):\n",
    "    with open(filename) as file_hdl:\n",
    "        return file_hdl.read()\n",
    "    \n",
    "results = read_csv('data/articles/article_log.csv', read_dicts=True)\n",
    "\n",
    "articles = []\n",
    "for result in results:\n",
    "    text = read_text('data/articles/' + result['ID'] + \".txt\")\n",
    "    # ID,Date,Title,Link\n",
    "    articles.append(Article(result[\"ID\"], result[\"Date\"], result[\"Title\"], result[\"Link\"], text))"
   ]
  },
  {
   "cell_type": "code",
   "execution_count": null,
   "metadata": {},
   "outputs": [],
   "source": [
    "len(articles)"
   ]
  },
  {
   "cell_type": "code",
   "execution_count": null,
   "metadata": {},
   "outputs": [],
   "source": [
    "search_word = input(\"Enter a search word: \")\n",
    "\n",
    "contains = set([x for x in articles if x.contains_word(search_word)])\n",
    "common_results = set([x for x in articles if search_word in x.get_most_common()])\n",
    "print(\"\\n\")\n",
    "print(\"Best results:\\n\")\n",
    "\n",
    "for result in common_results:\n",
    "    print (\"*\", result.get_title() + \":\", result.get_url())\n",
    "\n",
    "print (\"-\" *50, \"\\n\")\n",
    "\n",
    "print(\"Contains Search Term:\\n\")\n",
    "\n",
    "for result in contains - common_results:\n",
    "    print (\"*\", result.get_title() + \":\", result.get_url())"
   ]
  },
  {
   "cell_type": "code",
   "execution_count": null,
   "metadata": {},
   "outputs": [],
   "source": [
    "len(contains)"
   ]
  },
  {
   "cell_type": "code",
   "execution_count": null,
   "metadata": {},
   "outputs": [],
   "source": [
    "len(common_results)"
   ]
  },
  {
   "cell_type": "code",
   "execution_count": null,
   "metadata": {},
   "outputs": [],
   "source": [
    "print(\"Best results:\\n\")\n",
    "\n",
    "for result in common_results:\n",
    "    print (\"*\", result.get_title() + \":\", result.get_url())\n",
    "\n",
    "print (\"-\" *50, \"\\n\")\n",
    "\n",
    "print(\"Contains Search Term:\\n\")\n",
    "\n",
    "for result in contains:\n",
    "    print (\"*\", result.get_title() + \":\", result.get_url())"
   ]
  },
  {
   "cell_type": "code",
   "execution_count": null,
   "metadata": {
    "collapsed": true
   },
   "outputs": [],
   "source": []
  },
  {
   "cell_type": "code",
   "execution_count": null,
   "metadata": {
    "collapsed": true
   },
   "outputs": [],
   "source": []
  }
 ],
 "metadata": {
  "kernelspec": {
   "display_name": "Python [default]",
   "language": "python",
   "name": "python3"
  },
  "language_info": {
   "codemirror_mode": {
    "name": "ipython",
    "version": 3
   },
   "file_extension": ".py",
   "mimetype": "text/x-python",
   "name": "python",
   "nbconvert_exporter": "python",
   "pygments_lexer": "ipython3",
   "version": "3.6.2"
  }
 },
 "nbformat": 4,
 "nbformat_minor": 2
}
