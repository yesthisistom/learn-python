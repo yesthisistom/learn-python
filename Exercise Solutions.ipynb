{
 "cells": [
  {
   "cell_type": "markdown",
   "metadata": {},
   "source": [
    "# Session 1 Exercise 1"
   ]
  },
  {
   "cell_type": "code",
   "execution_count": 1,
   "metadata": {},
   "outputs": [
    {
     "name": "stdout",
     "output_type": "stream",
     "text": [
      "Enter a number: 2\n",
      "2 is even\n"
     ]
    }
   ],
   "source": [
    "user_input = input(\"Enter a number: \")\n",
    "\n",
    "if int(user_input) % 2 == 0:\n",
    "    print (user_input, \"is even\")\n",
    "else:\n",
    "    print (user_input, \"is odd\")"
   ]
  },
  {
   "cell_type": "markdown",
   "metadata": {},
   "source": [
    "# Session 1 Exercise 2"
   ]
  },
  {
   "cell_type": "code",
   "execution_count": 2,
   "metadata": {},
   "outputs": [
    {
     "name": "stdout",
     "output_type": "stream",
     "text": [
      "Enter your age: 33\n",
      "In 5 years you'll be 38\n"
     ]
    }
   ],
   "source": [
    "user_age = int(input(\"Enter your age: \"))\n",
    "\n",
    "print (\"In 5 years you'll be\", user_age + 5)"
   ]
  },
  {
   "cell_type": "markdown",
   "metadata": {},
   "source": [
    "# Session 1 Exercise 3"
   ]
  },
  {
   "cell_type": "code",
   "execution_count": 6,
   "metadata": {},
   "outputs": [
    {
     "name": "stdout",
     "output_type": "stream",
     "text": [
      "Enter a month number (January:1, etc): 4\n",
      "Second quarter\n"
     ]
    }
   ],
   "source": [
    "month_int = int(input(\"Enter a month number (January:1, etc): \"))\n",
    "\n",
    "if month_int < 4:\n",
    "    print (\"First quarter\")\n",
    "elif month_int < 7:\n",
    "    print(\"Second quarter\")\n",
    "elif month_int < 10:\n",
    "    print(\"Third quarter\")\n",
    "else:\n",
    "    print(\"Fourth quarter\")"
   ]
  },
  {
   "cell_type": "markdown",
   "metadata": {},
   "source": [
    "# Session 2 Exercise 1"
   ]
  },
  {
   "cell_type": "code",
   "execution_count": 8,
   "metadata": {},
   "outputs": [
    {
     "name": "stdout",
     "output_type": "stream",
     "text": [
      "Input a postitive integer: 24\n",
      "1\n",
      "2\n",
      "3\n",
      "4\n",
      "6\n",
      "8\n",
      "12\n"
     ]
    }
   ],
   "source": [
    "input_num = int(input(\"Input a postitive integer: \"))\n",
    "\n",
    "for i in range(1, input_num):\n",
    "    if input_num % i == 0:\n",
    "        print (i)"
   ]
  },
  {
   "cell_type": "markdown",
   "metadata": {},
   "source": [
    "# Session 2 Exercise 2"
   ]
  },
  {
   "cell_type": "code",
   "execution_count": 9,
   "metadata": {},
   "outputs": [
    {
     "name": "stdout",
     "output_type": "stream",
     "text": [
      "1\n",
      "1\n",
      "2\n",
      "3\n"
     ]
    }
   ],
   "source": [
    "a = [1, 1, 2, 3, 5, 8, 13, 21, 34, 55, 89]\n",
    "\n",
    "for i in a:\n",
    "    if i < 5:\n",
    "        print (i)"
   ]
  },
  {
   "cell_type": "code",
   "execution_count": 10,
   "metadata": {},
   "outputs": [
    {
     "name": "stdout",
     "output_type": "stream",
     "text": [
      "[1, 1, 2, 3]\n"
     ]
    }
   ],
   "source": [
    "### 2.1\n",
    "\n",
    "sub_5_list = []\n",
    "for i in a:\n",
    "    if i < 5:\n",
    "        sub_5_list.append(i)\n",
    "        \n",
    "print(sub_5_list)"
   ]
  },
  {
   "cell_type": "code",
   "execution_count": 12,
   "metadata": {},
   "outputs": [
    {
     "name": "stdout",
     "output_type": "stream",
     "text": [
      "Enter a number: 25\n",
      "[1, 1, 2, 3, 5, 8, 13, 21]\n"
     ]
    }
   ],
   "source": [
    "### 2.2\n",
    "\n",
    "threshold = int(input(\"Enter a number: \"))\n",
    "\n",
    "sub_threshold_list = []\n",
    "for i in a:\n",
    "    if i < threshold:\n",
    "        sub_threshold_list.append(i)\n",
    "        \n",
    "print (sub_threshold_list)\n",
    "        "
   ]
  },
  {
   "cell_type": "markdown",
   "metadata": {},
   "source": [
    "# Exercise 3\n"
   ]
  },
  {
   "cell_type": "code",
   "execution_count": null,
   "metadata": {
    "collapsed": true
   },
   "outputs": [],
   "source": [
    "rand_number = random.randint(1,9)\n",
    "user_guess = input(\"Guess a number between 1 and 9: \")\n",
    "\n",
    "print(\"The number was\", rand_number)\n",
    "if int(user_guess) == rand_number:\n",
    "    print (\"Correct!\")\n",
    "elif int(user_guess) > rand_number:\n",
    "    print (\"You guessed too high\")\n",
    "else:\n",
    "    print (\"You guessed too low\")"
   ]
  },
  {
   "cell_type": "code",
   "execution_count": 13,
   "metadata": {},
   "outputs": [
    {
     "name": "stdout",
     "output_type": "stream",
     "text": [
      "Guess a number between 1 and 9: 8\n",
      "You guessed too high\n",
      "So far you've guessed {'8'}\n",
      "Guess a number between 1 and 9: 5\n",
      "Correct! You took 2 guesses to get it right. \n"
     ]
    }
   ],
   "source": [
    "### 3.1\n",
    "import random\n",
    "guesses = []\n",
    "rand_number = random.randint(1,9)\n",
    "\n",
    "while True:\n",
    "    if len(guesses) > 0:\n",
    "        print(\"So far you've guessed\", set(guesses))\n",
    "        \n",
    "    user_guess = input(\"Guess a number between 1 and 9: \")\n",
    "    guesses.append(user_guess)\n",
    "\n",
    "    if int(user_guess) == rand_number:\n",
    "        print (\"Correct! You took\", len(guesses), \"guesses to get it right. \")\n",
    "        break\n",
    "    elif int(user_guess) > rand_number:\n",
    "        print (\"You guessed too high\")\n",
    "    else:\n",
    "        print (\"You guessed too low\")"
   ]
  },
  {
   "cell_type": "markdown",
   "metadata": {},
   "source": [
    "# Exercise 4"
   ]
  },
  {
   "cell_type": "code",
   "execution_count": 15,
   "metadata": {},
   "outputs": [
    {
     "name": "stdout",
     "output_type": "stream",
     "text": [
      "How many bananas would you like? 25\n",
      "You entered too many. There are  6 in stock\n",
      "How many bananas would you like? 6\n",
      "How many apples would you like? 2\n",
      "You entered too many. There are  0 in stock\n",
      "How many apples would you like? 0\n",
      "How many oranges would you like? 2\n",
      "How many pears would you like? 2\n",
      "Total cost is 33.0\n"
     ]
    }
   ],
   "source": [
    "stock = {\n",
    "    \"banana\": 6,\n",
    "    \"apple\": 0,\n",
    "    \"orange\": 32,\n",
    "    \"pear\": 15\n",
    "}\n",
    "\n",
    "prices = {\n",
    "    \"banana\": 4,\n",
    "    \"apple\": 2,\n",
    "    \"orange\": 1.5,\n",
    "    \"pear\": 3\n",
    "}\n",
    "\n",
    "total_cost = 0.0\n",
    "for item in stock.keys():\n",
    "    amount = 0\n",
    "    while True:\n",
    "        amount = int(input(\"How many \" + item + \"s would you like? \"))\n",
    "        if amount < 0:\n",
    "            print(\"The amount you entered is less than 0\")\n",
    "        elif amount > stock[item]:\n",
    "            print (\"You entered too many. There are \", stock[item], \"in stock\")\n",
    "        else:\n",
    "            total_cost += amount * prices[item]  \n",
    "            break\n",
    "             \n",
    "print(\"Total cost is\", total_cost)"
   ]
  },
  {
   "cell_type": "markdown",
   "metadata": {},
   "source": [
    "# Session 3 Exercise 1"
   ]
  },
  {
   "cell_type": "code",
   "execution_count": null,
   "metadata": {
    "collapsed": true
   },
   "outputs": [],
   "source": [
    "while True:\n",
    "    print(row['question'])\n",
    "    print('a.', row['optiona'])\n",
    "    print('b.', row['optionb'])\n",
    "    print('c.', row['optionc'])\n",
    "    print('d.', row['optiond'])\n",
    "    \n",
    "    user_guess = input(\"Enter a,b,c, or d: \")\n",
    "    \n",
    "    response = row[user_guess.lower() + \"_response\"]\n",
    "    if response == 'correct':\n",
    "        print (\"Correct!\")\n",
    "        break\n",
    "    else:\n",
    "        print (response)\n",
    "        \n",
    "    print ('------')"
   ]
  }
 ],
 "metadata": {
  "kernelspec": {
   "display_name": "Python [default]",
   "language": "python",
   "name": "python3"
  },
  "language_info": {
   "codemirror_mode": {
    "name": "ipython",
    "version": 3
   },
   "file_extension": ".py",
   "mimetype": "text/x-python",
   "name": "python",
   "nbconvert_exporter": "python",
   "pygments_lexer": "ipython3",
   "version": "3.6.2"
  }
 },
 "nbformat": 4,
 "nbformat_minor": 2
}
