{
 "cells": [
  {
   "cell_type": "markdown",
   "metadata": {},
   "source": [
    "# <center>Session 4 - Functions </center>\n",
    "\n",
    "<hr>"
   ]
  },
  {
   "cell_type": "markdown",
   "metadata": {},
   "source": [
    "## Table of Contents\n",
    "\n",
    "<b>\n",
    "\n",
    "* [Functions](#Functions)\n",
    "* [Project: Creating an NPR Scraper](#Scraper)\n",
    "</b>"
   ]
  },
  {
   "cell_type": "markdown",
   "metadata": {
    "collapsed": true
   },
   "source": [
    "<hr>\n",
    "<a id=\"Functions\"></a>\n",
    "# Functions\n",
    "\n",
    "A function is a block of organized, reusable code that is used to perform a single, related action. Functions provide better modularity for your application and a high degree of code reusing.\n",
    "\n",
    "Any piece of code that you might want to reuse, or that might be overly complicated, is a good candidate for becoming a function.  Having good function names and pushing specific pieces of logic into them can make your code infinitely more readable (and editable in the future). \n",
    "\n",
    "    def functionname( parameters ):\n",
    "       <function behavior>\n",
    "       return <return value>"
   ]
  },
  {
   "cell_type": "code",
   "execution_count": 3,
   "metadata": {
    "collapsed": true
   },
   "outputs": [],
   "source": [
    "## Example function definition\n",
    "def sum_numbers(num_1, num_2):\n",
    "    summed_value = num_1 + num_2\n",
    "    return summed_value"
   ]
  },
  {
   "cell_type": "markdown",
   "metadata": {},
   "source": [
    "What happens when you run the code block above?  Call the new function you've created.  Now you can treat it like the built-in functions we've seen before. "
   ]
  },
  {
   "cell_type": "code",
   "execution_count": 4,
   "metadata": {
    "collapsed": true
   },
   "outputs": [],
   "source": [
    "## Call the function above.  Your code here"
   ]
  },
  {
   "cell_type": "markdown",
   "metadata": {},
   "source": [
    "Before running the next code cell, what do you think it will print out and in what order?"
   ]
  },
  {
   "cell_type": "code",
   "execution_count": 5,
   "metadata": {},
   "outputs": [
    {
     "name": "stdout",
     "output_type": "stream",
     "text": [
      "When will this evaluate?\n",
      "Happy Birthday to you!\n",
      "Happy Birthday to you!\n",
      "Happy Birthday, dear Cynthia.\n",
      "Happy Birthday to you!\n"
     ]
    }
   ],
   "source": [
    "def happyBirthdaySong(name):\n",
    "    print(\"Happy Birthday to you!\")\n",
    "    print(\"Happy Birthday to you!\")\n",
    "    print(\"Happy Birthday, dear\", name + \".\")\n",
    "    print(\"Happy Birthday to you!\")\n",
    "    \n",
    "print (\"When will this evaluate?\")\n",
    "happyBirthdaySong(\"Cynthia\")"
   ]
  },
  {
   "cell_type": "markdown",
   "metadata": {},
   "source": [
    "### Variable Scope\n",
    "\n",
    "Variables have a scope in which they can be referenced.  It's inevitable that you will have variables with the same name, so knowing WHERE they can be accessed is important. "
   ]
  },
  {
   "cell_type": "code",
   "execution_count": 7,
   "metadata": {},
   "outputs": [
    {
     "name": "stdout",
     "output_type": "stream",
     "text": [
      "12.56636\n",
      "3.14\n"
     ]
    }
   ],
   "source": [
    "def area_of_a_circle(radius):\n",
    "    pi = 3.14159\n",
    "    return pi * radius**2\n",
    "\n",
    "pi = 3.14\n",
    "print(area_of_a_circle(2))\n",
    "\n",
    "print(pi)"
   ]
  },
  {
   "cell_type": "markdown",
   "metadata": {},
   "source": [
    "Will these next two examples work?"
   ]
  },
  {
   "cell_type": "code",
   "execution_count": 11,
   "metadata": {},
   "outputs": [
    {
     "name": "stdout",
     "output_type": "stream",
     "text": [
      "12.56\n"
     ]
    }
   ],
   "source": [
    "def area_of_a_circle(radius):\n",
    "    return pi_ex2 * radius**2\n",
    "\n",
    "pi_ex2 = 3.14\n",
    "print(area_of_a_circle(2))\n"
   ]
  },
  {
   "cell_type": "code",
   "execution_count": 10,
   "metadata": {},
   "outputs": [
    {
     "name": "stdout",
     "output_type": "stream",
     "text": [
      "12.56636\n"
     ]
    },
    {
     "ename": "NameError",
     "evalue": "name 'pi_val' is not defined",
     "output_type": "error",
     "traceback": [
      "\u001b[0;31m---------------------------------------------------------------------------\u001b[0m",
      "\u001b[0;31mNameError\u001b[0m                                 Traceback (most recent call last)",
      "\u001b[0;32m<ipython-input-10-cf9c02844f0d>\u001b[0m in \u001b[0;36m<module>\u001b[0;34m()\u001b[0m\n\u001b[1;32m      5\u001b[0m \u001b[0mprint\u001b[0m\u001b[0;34m(\u001b[0m\u001b[0marea_of_a_circle\u001b[0m\u001b[0;34m(\u001b[0m\u001b[0;36m2\u001b[0m\u001b[0;34m)\u001b[0m\u001b[0;34m)\u001b[0m\u001b[0;34m\u001b[0m\u001b[0m\n\u001b[1;32m      6\u001b[0m \u001b[0;34m\u001b[0m\u001b[0m\n\u001b[0;32m----> 7\u001b[0;31m \u001b[0mprint\u001b[0m\u001b[0;34m(\u001b[0m\u001b[0mpi_val\u001b[0m\u001b[0;34m)\u001b[0m\u001b[0;34m\u001b[0m\u001b[0m\n\u001b[0m",
      "\u001b[0;31mNameError\u001b[0m: name 'pi_val' is not defined"
     ]
    }
   ],
   "source": [
    "def area_of_a_circle(radius):\n",
    "    pi_val = 3.14159\n",
    "    return pi_val * radius**2\n",
    "\n",
    "print(area_of_a_circle(2))\n",
    "\n",
    "print(pi_val)"
   ]
  },
  {
   "cell_type": "markdown",
   "metadata": {},
   "source": [
    "<hr>\n",
    "\n",
    "<a id=\"Scraper\"></a>\n",
    "# Creating an NPR Web Scraper\n",
    "\n",
    "We'll work through this problem step by step, creating some logic, turning it into a series of functions as we work out each piece. \n",
    "\n",
    "The goal is:\n",
    "\n",
    "* Start with the webpage 'http://text.npr.org/'\n",
    "* Identify all article links\n",
    "    * Create a queue of articles to process, add all these links to the queue\n",
    "* Download each article\n",
    "    * Pop a link off the queue\n",
    "    * Identify the article text\n",
    "    * Write the article text to a file with the article id as the filename\n",
    "    * Find any other articles linked to in the article\n",
    "        * Make sure the new links haven't already been processed\n",
    "        * Add them to the queue of articles to process if they're new\n",
    "    "
   ]
  },
  {
   "cell_type": "markdown",
   "metadata": {},
   "source": [
    "#### Step 1\n",
    "\n",
    "Use the Requests library to get the content of 'http://text.npr.org/'\n",
    "\n",
    "Create a loop and use string functions to identify every link.  Add each link to a set.\n",
    "\n",
    "*Hint:* The beginning of any link in an HTML file will be '<a href=\"'  \n"
   ]
  },
  {
   "cell_type": "code",
   "execution_count": 13,
   "metadata": {
    "collapsed": true
   },
   "outputs": [],
   "source": [
    "import requests"
   ]
  },
  {
   "cell_type": "code",
   "execution_count": 34,
   "metadata": {
    "collapsed": true
   },
   "outputs": [],
   "source": [
    "path = 'http://text.npr.org'\n",
    "r = requests.get(path)\n",
    "\n",
    "text_to_process = r.text\n",
    "\n",
    "link_queue = set()\n",
    "while text_to_process.find('href=\"') >= 0:\n",
    "    text_to_process = text_to_process[text_to_process.find('href=\"') + 6:]\n",
    "    link = text_to_process[:text_to_process.find('\"')]\n",
    "    if not link.startswith('http'):\n",
    "        link = path + link\n",
    "    link_queue.add(link)\n",
    "    text_to_process = text_to_process[text_to_process.find('\"') + 1:]\n",
    "    "
   ]
  },
  {
   "cell_type": "markdown",
   "metadata": {},
   "source": [
    "#### Part 2\n",
    "\n",
    "Take a look at all the links.  You'll notice that some are relative (ie don't start with http).  Modify your code above to add 'http://text.npr.org' to the beginning of every relative link. \n",
    "\n",
    "Note that strings have a function 'startswith'"
   ]
  },
  {
   "cell_type": "code",
   "execution_count": 27,
   "metadata": {},
   "outputs": [
    {
     "data": {
      "text/plain": [
       "{'http://text.npr.org/s.php?sId=575392333',\n",
       " 'http://text.npr.org/s.php?sId=575906151',\n",
       " 'http://text.npr.org/s.php?sId=575916244',\n",
       " 'http://text.npr.org/s.php?sId=575954398',\n",
       " 'http://text.npr.org/s.php?sId=575975670',\n",
       " 'http://text.npr.org/s.php?sId=576050497',\n",
       " 'http://text.npr.org/s.php?sId=576087864',\n",
       " 'http://text.npr.org/s.php?sId=576096900',\n",
       " 'http://text.npr.org/s.php?sId=576123068',\n",
       " 'http://text.npr.org/s.php?sId=576139303',\n",
       " 'http://text.npr.org/t.php?tid=1001',\n",
       " 'http://text.npr.org/t.php?tid=1008',\n",
       " 'http://text.npr.org/t.php?tid=1039',\n",
       " 'https://about.npr.org',\n",
       " 'https://help.npr.org/customer/portal/emails/new',\n",
       " 'https://www.npr.org',\n",
       " 'https://www.npr.org/about-npr/179876898/terms-of-use',\n",
       " 'https://www.npr.org/about-npr/179878450/privacy-policy',\n",
       " 'https://www.npr.org/about-npr/179881519/rights-and-permissions-information'}"
      ]
     },
     "execution_count": 27,
     "metadata": {},
     "output_type": "execute_result"
    }
   ],
   "source": [
    "link_queue"
   ]
  },
  {
   "cell_type": "markdown",
   "metadata": {},
   "source": [
    "#### Part 3\n",
    "\n",
    "Once you have a set of links, remove any that aren't for npr.org, or don't fit the format of the npr articles or topics.  \n",
    "\n",
    "*Hint:* The article link format is 'http://text.npr.org/s.php?sId=< Article ID >&rid=< Topic ID >', athough not all articles will have a topic id.  \n",
    "*Hint 2:* The topic link format is 'http://text.npr.org/t.php?tid= < Topic ID >'"
   ]
  },
  {
   "cell_type": "code",
   "execution_count": 35,
   "metadata": {},
   "outputs": [
    {
     "data": {
      "text/plain": [
       "{'http://text.npr.org/s.php?sId=575392333',\n",
       " 'http://text.npr.org/s.php?sId=575906151',\n",
       " 'http://text.npr.org/s.php?sId=575916244',\n",
       " 'http://text.npr.org/s.php?sId=575954398',\n",
       " 'http://text.npr.org/s.php?sId=575975670',\n",
       " 'http://text.npr.org/s.php?sId=576050497',\n",
       " 'http://text.npr.org/s.php?sId=576087864',\n",
       " 'http://text.npr.org/s.php?sId=576096900',\n",
       " 'http://text.npr.org/s.php?sId=576123068',\n",
       " 'http://text.npr.org/s.php?sId=576139303',\n",
       " 'http://text.npr.org/t.php?tid=1001',\n",
       " 'http://text.npr.org/t.php?tid=1008',\n",
       " 'http://text.npr.org/t.php?tid=1039'}"
      ]
     },
     "execution_count": 35,
     "metadata": {},
     "output_type": "execute_result"
    }
   ],
   "source": [
    "queue_to_return = set()\n",
    "\n",
    "for link in link_queue:\n",
    "    if 'npr.org' in link:\n",
    "        if  'sid=' in link.lower() or 'tid=' in link.lower():\n",
    "            queue_to_return.add(link)\n",
    "        \n",
    "queue_to_return"
   ]
  },
  {
   "cell_type": "markdown",
   "metadata": {},
   "source": [
    "#### Part 3\n",
    "\n",
    "Take the logic you've created for identifying links in an HTML string, and create a function. \n",
    "\n",
    "It stands to reason the input for the function should be a string (HTML), and the output should be a set where each element is a link to a topic or an article. \n",
    "\n",
    "You are welcome to re-configure the code a bit to be shorter. "
   ]
  },
  {
   "cell_type": "code",
   "execution_count": 36,
   "metadata": {},
   "outputs": [
    {
     "data": {
      "text/plain": [
       "{'http://text.npr.org/s.php?sId=575392333',\n",
       " 'http://text.npr.org/s.php?sId=575906151',\n",
       " 'http://text.npr.org/s.php?sId=575916244',\n",
       " 'http://text.npr.org/s.php?sId=575954398',\n",
       " 'http://text.npr.org/s.php?sId=575975670',\n",
       " 'http://text.npr.org/s.php?sId=576050497',\n",
       " 'http://text.npr.org/s.php?sId=576087864',\n",
       " 'http://text.npr.org/s.php?sId=576096900',\n",
       " 'http://text.npr.org/s.php?sId=576123068',\n",
       " 'http://text.npr.org/s.php?sId=576139303',\n",
       " 'http://text.npr.org/t.php?tid=1001',\n",
       " 'http://text.npr.org/t.php?tid=1008',\n",
       " 'http://text.npr.org/t.php?tid=1039'}"
      ]
     },
     "execution_count": 36,
     "metadata": {},
     "output_type": "execute_result"
    }
   ],
   "source": [
    "def get_links(html_text):\n",
    "    link_queue = set()\n",
    "    while html_text.find('href=\"') >= 0:\n",
    "        html_text = html_text[html_text.find('href=\"') + 6:]\n",
    "        link = html_text[:html_text.find('\"')]\n",
    "        \n",
    "        if not link.startswith('http'):\n",
    "            link = path + link\n",
    "        \n",
    "        if 'npr.org' in link:\n",
    "            if  'sid=' in link.lower() or 'tid=' in link.lower():\n",
    "                link_queue.add(link)\n",
    "        \n",
    "        html_text = html_text[html_text.find('\"') + 1:]\n",
    "        \n",
    "    return link_queue\n",
    "\n",
    "link_queue = get_links(r.text)\n",
    "link_queue"
   ]
  },
  {
   "cell_type": "markdown",
   "metadata": {},
   "source": [
    "#### Part 4\n",
    "\n",
    "Take one of the article links you found and use the requests library to get its content.  Inspect it, and try to identify what defines the content of the article itself. "
   ]
  },
  {
   "cell_type": "code",
   "execution_count": 54,
   "metadata": {},
   "outputs": [
    {
     "data": {
      "text/plain": [
       "'    <!DOCTYPE HTML PUBLIC \"-//W3C//DTD HTML 4.01 Transitional//EN\">\\n<html>\\n<head><title>Text-Only NPR.org : Nixon\\'s Manhunt For The High Priest Of LSD In \\'The Most Dangerous Man In America\\'</title><meta name=\"robots\" content=\"noindex, nofollow\" />\\n<meta name=\"viewport\" content=\"width=device-width, initial-scale=1\" /></head>\\n<body>\\n<script type=\"text/javascript\">\\nif (window != top)\\n  {\\n      top.location.href = location.href;\\n  }\\n</script>\\n<p>Text-Only NPR.org (go to <a href=\"https://www.npr.org\">full version</a>)</p>\\n<p><a href=\"/\">Home</a> &gt; <a href=\"/p.php?pid=2\"> Program: All Things Considered</a></p>\\n<p>Nixon\\'s Manhunt For The High Priest Of LSD In \\'The Most Dangerous Man In America\\'</p>\\n<p>By Ari Shapiro</p>\\n<p>All Things Considered,  &middot; In the early 1970s, with a counter-cultural revolution in full swing, an unlikely figure became the No. 1 enemy of the state — Timothy Leary, the so called \"High Priest of LSD.\" Leary was a former Harvard psychologist who left the ivory tower behind to spread the gospel of psychedelics. After breaking out of a California prison, he went on the run, sparking a madcap manhunt for a bumbling fugitive.  </p>\\n<p>Steven L. Davis and Bill Minutaglio\\'s new book asks if Leary really was \"the most dangerous man in America,\" as President Richard Nixon claimed. The story follows Leary as he hops from country to country, trying to stay one step ahead of the Nixon administration.</p>\\n<p>\"He\\'s kind of, you know, a Mr. Magoo on acid, if you will,\" Minutaglio says. \"He\\'s just tripping his way through life, and circumstances happen. He opens one door and then plummets nine stories but somehow or other lands on a trampoline and goes to another floor.\"</p>\\n<p><hr /></p>\\n<p><h3><strong>Interview Highlights</strong></h3></p>\\n<p><strong>On Leary\\'s escape from his 10-year prison sentence for possession of two marijuana cigarettes </strong></p>\\n<p>He\\'s a 50-year-old, middle-aged guy, not in the greatest shape in the world, and he manages to escape from a pretty strong security prison in California by dangling over a wire — a telephone wire — and pulling himself out of the prison that many others tried to escape from. He gets picked up by underground activists, he puts on a disguise that allows him to escape the country, including using fake passports, and then embeds himself in the most unlikely way with extremely scary, dangerous, tending toward violence, members of the Black Panther Party who are living in exile in Algeria, of all places. ... He escapes to Europe and then suddenly turns into this other sort of wild, living above the cloud-line, European aristocrat experience, where he\\'s hanging out with Andy Warhol, royalty ... Allen Ginsburg shows up for a split second. His life was — you know, in our acknowledgements in the book, the first line says, \"We\\'d like to thank Timothy Leary for leading a very interesting life.\"</p>\\n<p><strong>On why Nixon viewed Leary as the \\'most dangerous man in America\\'</strong></p>\\n<p>You know, a lot of people had called Nixon that, so maybe he was doing some diversionary politics there. Nixon needed a poster child — someone to vilify in his burgeoning war on drugs. But it really was a matter of misdirection. The war in Vietnam was still raging, and there was a lot of violence and aggressive activism on the streets of the country. And we stumbled across, in doing some research, a tape where Nixon at the White House with his many of his infamous colleagues — a lot of the Watergate era folks — had gathered around and said, \"You know what? To salvage your approval ratings, to misdirect attention away from this flagging war in Vietnam, a stagnant economy, your swooning poll numbers, we need to find a villain, a guy in a black hat, and why not choose Timothy Leary? He\\'s sort of the godfather of the counter-cultural revolution. And we can make him public enemy No. 1.\"</p>\\n<p>The other thing that was working in the background was that Nixon really was convinced that there was something going on out there — there was a disturbance in The Shire, to steal a line from <em>The Lord Of The Rings</em>. I guess that makes him Sauron. But he was looking out from the tower and he saw revolution in the streets. Things were unhinged; the social fabric was unraveling. And I think he wanted to find, again you know, somebody symbolically whom he could kind of pin all of this on and essentially identify him as not only a drug kingpin but the leader of, sort of, the domestic terrorist movement.</p>\\n<p><strong>On John Lennon writing \\'Come Together\\' for Leary\\'s campaign for California governor against Ronald Reagan </strong></p>\\n<p>Leary, almost as a joke, had run for the governor\\'s office in California. And that was an early warning, kind of missile system attack in some ways, against Nixon and Reagan. They were going, \"What is happening?\" People were getting interested and beginning to think about voting for him. And yeah, his campaign slogan was you know, \"Why can\\'t we come together? Why don\\'t we rally together?\" And he was friends with John Lennon, and John Lennon said, \"Well, let me help you out with a campaign song. Let me sketch out something called \\'Come Together.\\'\" You know, it was really based on Timothy Leary\\'s life and campaign.</p>\\n<p><strong>On how much of this story Leary himself knew by the time he died in 1996</strong></p>\\n<p>I met him in the early 1980s when we had a very robust discussion in a dark bar in Houston that lasted for several hours, as far as I could remember. And he told me then that he just couldn\\'t figure out really what had happened to him, but he was one of these people that I think just enjoyed uncertainty, if that makes sense. He really embraced the next adventure, and maybe that\\'s part of, not to get too deep into my theories on the use of LSD, but I think that\\'s why he advocated its use and proselytized about it.</p>\\n<p>He considered it a sacrament at the end of the day really, you know, a tool for spiritual discovery. And I think it just led to other portals, other doors, and I know that\\'s beginning to sound like I\\'m proselytizing as well. But he didn\\'t know what had happened to him, but I think he sort of expected it because he embraced uncertainty and assumed that whatever came next would be really unusual.</p>\\n<p>So the book ends in some way with a nod to the fact that Leary had wanted to have his ashes blasted into outer space, which in fact did happen. I like the fact that when they were blasted into outer space, his ashes were commingled with the ashes of Gene Roddenberry, the inventor of <em>Star Trek</em>. And then when the capsule that was holding his ashes disintegrated, Timothy Leary\\'s ashes filtered all over the planet. And I think that was his last kind of cosmic joke and also, in a way, his sense of continuing adventure — you know, little pieces of him were far-flung and cast to the wind. I don\\'t know that he had the full grasp and understanding that Richard Nixon had essentially put a poster of Timothy Leary up on the wall of the Oval Office and was tracking him like a hellhound around the world. I think even he would have been mildly surprised at the depth and the cunning to which Nixon, you know, applied that effort.</p>\\n<p><em>Noah Caldwell and Jolie Myers produced and edited this interview for broadcast. Sydnee Monday and Patrick Jarenwattananon adapted it for the Web.</em></p>\\n<p></p>\\n<ul>\\n  <li>Oct 4 2017: <a href=\"/s.php?sId=555139348\"> 50 Years After The Summer Of Love, Hippie Counterculture Is Relegated To Kitsch</a></li>\\n  <li>Dec 16 2017: <a href=\"/s.php?sId=571123483\"> VIDEO: For LSD, What A Long Strange Trip It\\'s Been</a></li>\\n</ul>\\n    <ul>\\n        <li><a href=\"https://about.npr.org\">About NPR</a></li>\\n        <li><a href=\"https://help.npr.org/customer/portal/emails/new\">Contact Us</a></li>\\n        <li><a href=\"https://www.npr.org/about-npr/179876898/terms-of-use\">Terms of Use</a></li>\\n        <li><a href=\"https://www.npr.org/about-npr/179881519/rights-and-permissions-information\">Permissions</a></li>\\n        <li><a href=\"https://www.npr.org/about-npr/179878450/privacy-policy\">Privacy Policy</a></li>\\n    </ul>\\n    <p>&copy; NPR</p>\\n</body>\\n</html>\\n'"
      ]
     },
     "execution_count": 54,
     "metadata": {},
     "output_type": "execute_result"
    }
   ],
   "source": [
    "article_html = requests.get(\"http://text.npr.org/s.php?sId=575392333\").text\n",
    "article_html"
   ]
  },
  {
   "cell_type": "markdown",
   "metadata": {},
   "source": [
    "#### Part 5\n",
    "\n",
    "Use a similar loop to the link finding code to identify every paragraph in the text.  Create a list of each paragraph. Note that right now we're just trying to pull the text between the '&lt;p&gt;' and '&lt;/p&gt;' "
   ]
  },
  {
   "cell_type": "code",
   "execution_count": 55,
   "metadata": {
    "collapsed": true
   },
   "outputs": [
    {
     "name": "stdout",
     "output_type": "stream",
     "text": [
      "Text-Only NPR.org (go to <a href=\"https://www.npr.org\">full version</a>)\n",
      "<a href=\"/\">Home</a> &gt; <a href=\"/p.php?pid=2\"> Program: All Things Considered</a>\n",
      "Nixon's Manhunt For The High Priest Of LSD In 'The Most Dangerous Man In America'\n",
      "By Ari Shapiro\n",
      "All Things Considered,  &middot; In the early 1970s, with a counter-cultural revolution in full swing, an unlikely figure became the No. 1 enemy of the state — Timothy Leary, the so called \"High Priest of LSD.\" Leary was a former Harvard psychologist who left the ivory tower behind to spread the gospel of psychedelics. After breaking out of a California prison, he went on the run, sparking a madcap manhunt for a bumbling fugitive.  \n",
      "Steven L. Davis and Bill Minutaglio's new book asks if Leary really was \"the most dangerous man in America,\" as President Richard Nixon claimed. The story follows Leary as he hops from country to country, trying to stay one step ahead of the Nixon administration.\n",
      "\"He's kind of, you know, a Mr. Magoo on acid, if you will,\" Minutaglio says. \"He's just tripping his way through life, and circumstances happen. He opens one door and then plummets nine stories but somehow or other lands on a trampoline and goes to another floor.\"\n",
      "<hr />\n",
      "<h3><strong>Interview Highlights</strong></h3>\n",
      "<strong>On Leary's escape from his 10-year prison sentence for possession of two marijuana cigarettes </strong>\n",
      "He's a 50-year-old, middle-aged guy, not in the greatest shape in the world, and he manages to escape from a pretty strong security prison in California by dangling over a wire — a telephone wire — and pulling himself out of the prison that many others tried to escape from. He gets picked up by underground activists, he puts on a disguise that allows him to escape the country, including using fake passports, and then embeds himself in the most unlikely way with extremely scary, dangerous, tending toward violence, members of the Black Panther Party who are living in exile in Algeria, of all places. ... He escapes to Europe and then suddenly turns into this other sort of wild, living above the cloud-line, European aristocrat experience, where he's hanging out with Andy Warhol, royalty ... Allen Ginsburg shows up for a split second. His life was — you know, in our acknowledgements in the book, the first line says, \"We'd like to thank Timothy Leary for leading a very interesting life.\"\n",
      "<strong>On why Nixon viewed Leary as the 'most dangerous man in America'</strong>\n",
      "You know, a lot of people had called Nixon that, so maybe he was doing some diversionary politics there. Nixon needed a poster child — someone to vilify in his burgeoning war on drugs. But it really was a matter of misdirection. The war in Vietnam was still raging, and there was a lot of violence and aggressive activism on the streets of the country. And we stumbled across, in doing some research, a tape where Nixon at the White House with his many of his infamous colleagues — a lot of the Watergate era folks — had gathered around and said, \"You know what? To salvage your approval ratings, to misdirect attention away from this flagging war in Vietnam, a stagnant economy, your swooning poll numbers, we need to find a villain, a guy in a black hat, and why not choose Timothy Leary? He's sort of the godfather of the counter-cultural revolution. And we can make him public enemy No. 1.\"\n",
      "The other thing that was working in the background was that Nixon really was convinced that there was something going on out there — there was a disturbance in The Shire, to steal a line from <em>The Lord Of The Rings</em>. I guess that makes him Sauron. But he was looking out from the tower and he saw revolution in the streets. Things were unhinged; the social fabric was unraveling. And I think he wanted to find, again you know, somebody symbolically whom he could kind of pin all of this on and essentially identify him as not only a drug kingpin but the leader of, sort of, the domestic terrorist movement.\n",
      "<strong>On John Lennon writing 'Come Together' for Leary's campaign for California governor against Ronald Reagan </strong>\n",
      "Leary, almost as a joke, had run for the governor's office in California. And that was an early warning, kind of missile system attack in some ways, against Nixon and Reagan. They were going, \"What is happening?\" People were getting interested and beginning to think about voting for him. And yeah, his campaign slogan was you know, \"Why can't we come together? Why don't we rally together?\" And he was friends with John Lennon, and John Lennon said, \"Well, let me help you out with a campaign song. Let me sketch out something called 'Come Together.'\" You know, it was really based on Timothy Leary's life and campaign.\n",
      "<strong>On how much of this story Leary himself knew by the time he died in 1996</strong>\n",
      "I met him in the early 1980s when we had a very robust discussion in a dark bar in Houston that lasted for several hours, as far as I could remember. And he told me then that he just couldn't figure out really what had happened to him, but he was one of these people that I think just enjoyed uncertainty, if that makes sense. He really embraced the next adventure, and maybe that's part of, not to get too deep into my theories on the use of LSD, but I think that's why he advocated its use and proselytized about it.\n",
      "He considered it a sacrament at the end of the day really, you know, a tool for spiritual discovery. And I think it just led to other portals, other doors, and I know that's beginning to sound like I'm proselytizing as well. But he didn't know what had happened to him, but I think he sort of expected it because he embraced uncertainty and assumed that whatever came next would be really unusual.\n",
      "So the book ends in some way with a nod to the fact that Leary had wanted to have his ashes blasted into outer space, which in fact did happen. I like the fact that when they were blasted into outer space, his ashes were commingled with the ashes of Gene Roddenberry, the inventor of <em>Star Trek</em>. And then when the capsule that was holding his ashes disintegrated, Timothy Leary's ashes filtered all over the planet. And I think that was his last kind of cosmic joke and also, in a way, his sense of continuing adventure — you know, little pieces of him were far-flung and cast to the wind. I don't know that he had the full grasp and understanding that Richard Nixon had essentially put a poster of Timothy Leary up on the wall of the Oval Office and was tracking him like a hellhound around the world. I think even he would have been mildly surprised at the depth and the cunning to which Nixon, you know, applied that effort.\n",
      "<em>Noah Caldwell and Jolie Myers produced and edited this interview for broadcast. Sydnee Monday and Patrick Jarenwattananon adapted it for the Web.</em>\n",
      "\n",
      "&copy; NPR\n"
     ]
    }
   ],
   "source": [
    "paragraphs = []\n",
    "while article_html.find('<p>') >= 0:\n",
    "    article_html = article_html[article_html.find('<p>') + 3:]\n",
    "    paragraph = article_html[:article_html.find('</p>')]\n",
    "    \n",
    "    print(paragraph)\n",
    "    paragraphs.append(paragraph)\n",
    "    \n",
    "    article_html = article_html[article_html.find('</p>') + 4:]"
   ]
  },
  {
   "cell_type": "markdown",
   "metadata": {},
   "source": [
    "Note that we still have a lot of HTML in our code.  Luckily all HTML tags are defined by an opening bracket and closing bracket, so we can identify and remove them pretty easily. \n",
    "\n",
    "Loop over your list of paragraphs, identify any html in them, and remove it.  Ensure your list now contains html free strings. "
   ]
  },
  {
   "cell_type": "code",
   "execution_count": 67,
   "metadata": {
    "collapsed": true
   },
   "outputs": [],
   "source": [
    "cleaned_paragraphs = []\n",
    "for paragraph in paragraphs:\n",
    "    new_paragraph = \"\"\n",
    "    \n",
    "    tag = False\n",
    "    for char in paragraph:\n",
    "        \n",
    "        if char == \"<\":\n",
    "            tag = True\n",
    "            \n",
    "        if not tag:\n",
    "            new_paragraph += char\n",
    "            \n",
    "        if char == \">\":\n",
    "            tag = False\n",
    "        \n",
    "        \n",
    "    if len(new_paragraph.strip()) > 0:\n",
    "        cleaned_paragraphs.append(new_paragraph)"
   ]
  },
  {
   "cell_type": "code",
   "execution_count": 69,
   "metadata": {
    "scrolled": true
   },
   "outputs": [
    {
     "name": "stdout",
     "output_type": "stream",
     "text": [
      "Text-Only NPR.org (go to full version)\n",
      "\n",
      "Home &gt;  Program: All Things Considered\n",
      "\n",
      "Nixon's Manhunt For The High Priest Of LSD In 'The Most Dangerous Man In America'\n",
      "\n",
      "By Ari Shapiro\n",
      "\n",
      "All Things Considered,  &middot; In the early 1970s, with a counter-cultural revolution in full swing, an unlikely figure became the No. 1 enemy of the state — Timothy Leary, the so called \"High Priest of LSD.\" Leary was a former Harvard psychologist who left the ivory tower behind to spread the gospel of psychedelics. After breaking out of a California prison, he went on the run, sparking a madcap manhunt for a bumbling fugitive.  \n",
      "\n",
      "Steven L. Davis and Bill Minutaglio's new book asks if Leary really was \"the most dangerous man in America,\" as President Richard Nixon claimed. The story follows Leary as he hops from country to country, trying to stay one step ahead of the Nixon administration.\n",
      "\n",
      "\"He's kind of, you know, a Mr. Magoo on acid, if you will,\" Minutaglio says. \"He's just tripping his way through life, and circumstances happen. He opens one door and then plummets nine stories but somehow or other lands on a trampoline and goes to another floor.\"\n",
      "\n",
      "Interview Highlights\n",
      "\n",
      "On Leary's escape from his 10-year prison sentence for possession of two marijuana cigarettes \n",
      "\n",
      "He's a 50-year-old, middle-aged guy, not in the greatest shape in the world, and he manages to escape from a pretty strong security prison in California by dangling over a wire — a telephone wire — and pulling himself out of the prison that many others tried to escape from. He gets picked up by underground activists, he puts on a disguise that allows him to escape the country, including using fake passports, and then embeds himself in the most unlikely way with extremely scary, dangerous, tending toward violence, members of the Black Panther Party who are living in exile in Algeria, of all places. ... He escapes to Europe and then suddenly turns into this other sort of wild, living above the cloud-line, European aristocrat experience, where he's hanging out with Andy Warhol, royalty ... Allen Ginsburg shows up for a split second. His life was — you know, in our acknowledgements in the book, the first line says, \"We'd like to thank Timothy Leary for leading a very interesting life.\"\n",
      "\n",
      "On why Nixon viewed Leary as the 'most dangerous man in America'\n",
      "\n",
      "You know, a lot of people had called Nixon that, so maybe he was doing some diversionary politics there. Nixon needed a poster child — someone to vilify in his burgeoning war on drugs. But it really was a matter of misdirection. The war in Vietnam was still raging, and there was a lot of violence and aggressive activism on the streets of the country. And we stumbled across, in doing some research, a tape where Nixon at the White House with his many of his infamous colleagues — a lot of the Watergate era folks — had gathered around and said, \"You know what? To salvage your approval ratings, to misdirect attention away from this flagging war in Vietnam, a stagnant economy, your swooning poll numbers, we need to find a villain, a guy in a black hat, and why not choose Timothy Leary? He's sort of the godfather of the counter-cultural revolution. And we can make him public enemy No. 1.\"\n",
      "\n",
      "The other thing that was working in the background was that Nixon really was convinced that there was something going on out there — there was a disturbance in The Shire, to steal a line from The Lord Of The Rings. I guess that makes him Sauron. But he was looking out from the tower and he saw revolution in the streets. Things were unhinged; the social fabric was unraveling. And I think he wanted to find, again you know, somebody symbolically whom he could kind of pin all of this on and essentially identify him as not only a drug kingpin but the leader of, sort of, the domestic terrorist movement.\n",
      "\n",
      "On John Lennon writing 'Come Together' for Leary's campaign for California governor against Ronald Reagan \n",
      "\n",
      "Leary, almost as a joke, had run for the governor's office in California. And that was an early warning, kind of missile system attack in some ways, against Nixon and Reagan. They were going, \"What is happening?\" People were getting interested and beginning to think about voting for him. And yeah, his campaign slogan was you know, \"Why can't we come together? Why don't we rally together?\" And he was friends with John Lennon, and John Lennon said, \"Well, let me help you out with a campaign song. Let me sketch out something called 'Come Together.'\" You know, it was really based on Timothy Leary's life and campaign.\n",
      "\n",
      "On how much of this story Leary himself knew by the time he died in 1996\n",
      "\n",
      "I met him in the early 1980s when we had a very robust discussion in a dark bar in Houston that lasted for several hours, as far as I could remember. And he told me then that he just couldn't figure out really what had happened to him, but he was one of these people that I think just enjoyed uncertainty, if that makes sense. He really embraced the next adventure, and maybe that's part of, not to get too deep into my theories on the use of LSD, but I think that's why he advocated its use and proselytized about it.\n",
      "\n",
      "He considered it a sacrament at the end of the day really, you know, a tool for spiritual discovery. And I think it just led to other portals, other doors, and I know that's beginning to sound like I'm proselytizing as well. But he didn't know what had happened to him, but I think he sort of expected it because he embraced uncertainty and assumed that whatever came next would be really unusual.\n",
      "\n",
      "So the book ends in some way with a nod to the fact that Leary had wanted to have his ashes blasted into outer space, which in fact did happen. I like the fact that when they were blasted into outer space, his ashes were commingled with the ashes of Gene Roddenberry, the inventor of Star Trek. And then when the capsule that was holding his ashes disintegrated, Timothy Leary's ashes filtered all over the planet. And I think that was his last kind of cosmic joke and also, in a way, his sense of continuing adventure — you know, little pieces of him were far-flung and cast to the wind. I don't know that he had the full grasp and understanding that Richard Nixon had essentially put a poster of Timothy Leary up on the wall of the Oval Office and was tracking him like a hellhound around the world. I think even he would have been mildly surprised at the depth and the cunning to which Nixon, you know, applied that effort.\n",
      "\n",
      "Noah Caldwell and Jolie Myers produced and edited this interview for broadcast. Sydnee Monday and Patrick Jarenwattananon adapted it for the Web.\n",
      "\n",
      "&copy; NPR\n",
      "\n"
     ]
    }
   ],
   "source": [
    "for paragraph in cleaned_paragraphs:\n",
    "    print(paragraph + '\\n')"
   ]
  },
  {
   "cell_type": "markdown",
   "metadata": {},
   "source": [
    "#### Part 6\n",
    "\n",
    "Now that you have HTML free text, merge the list back together, with each paragraph separated by two new line characters ('\\n\\n').  \n",
    "\n",
    "Turn the ability to take the html from an articles webpage and create a cleaned article into a function. \n",
    "\n",
    "The function should take the html string as input and return a string of the articles content.  "
   ]
  },
  {
   "cell_type": "code",
   "execution_count": 72,
   "metadata": {
    "collapsed": true
   },
   "outputs": [],
   "source": [
    "def parse_text(article_html):\n",
    "    paragraphs = []\n",
    "    while article_html.find('<p>') >= 0:\n",
    "        article_html = article_html[article_html.find('<p>') + 3:]\n",
    "        paragraph = article_html[:article_html.find('</p>')]\n",
    "\n",
    "        new_paragraph = \"\"\n",
    "    \n",
    "        tag = False\n",
    "        for char in paragraph:\n",
    "\n",
    "            if char == \"<\":\n",
    "                tag = True\n",
    "            if not tag:\n",
    "                new_paragraph += char\n",
    "            if char == \">\":\n",
    "                tag = False\n",
    "\n",
    "        if len(new_paragraph.strip()) > 0:\n",
    "            paragraphs.append(new_paragraph)\n",
    "\n",
    "        article_html = article_html[article_html.find('</p>') + 4:]\n",
    "        \n",
    "    return \"\\n\\n\".join(paragraphs)"
   ]
  },
  {
   "cell_type": "code",
   "execution_count": null,
   "metadata": {
    "collapsed": true
   },
   "outputs": [],
   "source": [
    "article_html = requests.get(\"http://text.npr.org/s.php?sId=575392333\").text\n",
    "\n",
    "print(parse_text(article_html))"
   ]
  },
  {
   "cell_type": "markdown",
   "metadata": {},
   "source": [
    "#### Part 7 - Put it all together\n",
    "\n",
    "We have two functions - one that will get all the relevant links out of an article, and another that will get the actual content. \n",
    "\n",
    "Now we need to write the logic that controls the actual flow of our web scraper. "
   ]
  },
  {
   "cell_type": "code",
   "execution_count": 76,
   "metadata": {},
   "outputs": [
    {
     "data": {
      "text/plain": [
       "'575943681'"
      ]
     },
     "execution_count": 76,
     "metadata": {},
     "output_type": "execute_result"
    }
   ],
   "source": [
    "def get_id(url):\n",
    "    url = url[url.lower().find('sid=') + 4:]\n",
    "    if '&' in url:\n",
    "        url = url[:url.find('&')]\n",
    "        \n",
    "    return url\n",
    "    "
   ]
  },
  {
   "cell_type": "code",
   "execution_count": 78,
   "metadata": {
    "collapsed": true
   },
   "outputs": [],
   "source": [
    "import os\n",
    "\n",
    "starting_url = 'http://text.npr.org'\n",
    "folder_out   = 'data/scraper_test/'\n",
    "\n",
    "if not os.path.exists(folder_out):\n",
    "    os.makedirs(folder_out)\n",
    "\n",
    "links_visited = set()\n",
    "links_queue   = get_links(requests.get(starting_url).text)\n",
    "\n",
    "while len(links_queue) > 0:\n",
    "    \n",
    "    link = links_queue.pop()\n",
    "    links_visited.add(link)\n",
    "    \n",
    "    html = requests.get(link).text\n",
    "    \n",
    "    urls = get_links(html)\n",
    "    for url in urls:\n",
    "        if not url in links_visited:\n",
    "            links_queue.add(url)\n",
    "            \n",
    "    if 'sid=' in link.lower():\n",
    "        text = parse_text(html)\n",
    "        article_id = get_id(link)\n",
    "        \n",
    "        with open(folder_out + article_id + \".txt\", \"w\") as ft_hdl:\n",
    "            ft_hdl.write(text)"
   ]
  },
  {
   "cell_type": "code",
   "execution_count": null,
   "metadata": {
    "collapsed": true
   },
   "outputs": [],
   "source": []
  }
 ],
 "metadata": {
  "kernelspec": {
   "display_name": "Python [default]",
   "language": "python",
   "name": "python3"
  },
  "language_info": {
   "codemirror_mode": {
    "name": "ipython",
    "version": 3
   },
   "file_extension": ".py",
   "mimetype": "text/x-python",
   "name": "python",
   "nbconvert_exporter": "python",
   "pygments_lexer": "ipython3",
   "version": "3.6.2"
  }
 },
 "nbformat": 4,
 "nbformat_minor": 2
}
