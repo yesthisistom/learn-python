{
 "cells": [
  {
   "cell_type": "markdown",
   "metadata": {},
   "source": [
    "# <center>Session 4 - Functions </center>\n",
    "\n",
    "<hr>"
   ]
  },
  {
   "cell_type": "markdown",
   "metadata": {},
   "source": [
    "## Table of Contents\n",
    "\n",
    "<b>\n",
    "\n",
    "* [Functions](#Functions)\n",
    "* [Project: Creating an NPR Scraper](#Scraper)\n",
    "</b>"
   ]
  },
  {
   "cell_type": "markdown",
   "metadata": {
    "collapsed": true
   },
   "source": [
    "<hr>\n",
    "<a id=\"Functions\"></a>\n",
    "# Functions\n",
    "\n",
    "A function is a block of organized, reusable code that is used to perform a single, related action. Functions provide better modularity for your application and a high degree of code reusing.\n",
    "\n",
    "Any piece of code that you might want to reuse, or that might be overly complicated, is a good candidate for becoming a function.  Having good function names and pushing specific pieces of logic into them can make your code infinitely more readable (and editable in the future). \n",
    "\n",
    "    def functionname( parameters ):\n",
    "       <function behavior>\n",
    "       return <return value>"
   ]
  },
  {
   "cell_type": "code",
   "execution_count": 3,
   "metadata": {
    "collapsed": true
   },
   "outputs": [],
   "source": [
    "## Example function definition\n",
    "def sum_numbers(num_1, num_2):\n",
    "    summed_value = num_1 + num_2\n",
    "    return summed_value"
   ]
  },
  {
   "cell_type": "markdown",
   "metadata": {},
   "source": [
    "What happens when you run the code block above?  Call the new function you've created.  Now you can treat it like the built-in functions we've seen before. "
   ]
  },
  {
   "cell_type": "code",
   "execution_count": 4,
   "metadata": {
    "collapsed": true
   },
   "outputs": [],
   "source": [
    "## Call the function above.  Your code here"
   ]
  },
  {
   "cell_type": "markdown",
   "metadata": {},
   "source": [
    "Before running the next code cell, what do you think it will print out and in what order?"
   ]
  },
  {
   "cell_type": "code",
   "execution_count": 5,
   "metadata": {},
   "outputs": [
    {
     "name": "stdout",
     "output_type": "stream",
     "text": [
      "When will this evaluate?\n",
      "Happy Birthday to you!\n",
      "Happy Birthday to you!\n",
      "Happy Birthday, dear Cynthia.\n",
      "Happy Birthday to you!\n"
     ]
    }
   ],
   "source": [
    "def happyBirthdaySong(name):\n",
    "    print(\"Happy Birthday to you!\")\n",
    "    print(\"Happy Birthday to you!\")\n",
    "    print(\"Happy Birthday, dear\", name + \".\")\n",
    "    print(\"Happy Birthday to you!\")\n",
    "    \n",
    "print (\"When will this evaluate?\")\n",
    "happyBirthdaySong(\"Cynthia\")"
   ]
  },
  {
   "cell_type": "markdown",
   "metadata": {},
   "source": [
    "### Variable Scope\n",
    "\n",
    "Variables have a scope in which they can be referenced.  It's inevitable that you will have variables with the same name, so knowing WHERE they can be accessed is important. "
   ]
  },
  {
   "cell_type": "code",
   "execution_count": 7,
   "metadata": {},
   "outputs": [
    {
     "name": "stdout",
     "output_type": "stream",
     "text": [
      "12.56636\n",
      "3.14\n"
     ]
    }
   ],
   "source": [
    "def area_of_a_circle(radius):\n",
    "    pi = 3.14159\n",
    "    return pi * radius**2\n",
    "\n",
    "pi = 3.14\n",
    "print(area_of_a_circle(2))\n",
    "\n",
    "print(pi)"
   ]
  },
  {
   "cell_type": "markdown",
   "metadata": {},
   "source": [
    "Will these next two examples work?"
   ]
  },
  {
   "cell_type": "code",
   "execution_count": 11,
   "metadata": {},
   "outputs": [
    {
     "name": "stdout",
     "output_type": "stream",
     "text": [
      "12.56\n"
     ]
    }
   ],
   "source": [
    "def area_of_a_circle(radius):\n",
    "    return pi_ex2 * radius**2\n",
    "\n",
    "pi_ex2 = 3.14\n",
    "print(area_of_a_circle(2))\n"
   ]
  },
  {
   "cell_type": "code",
   "execution_count": 10,
   "metadata": {},
   "outputs": [
    {
     "name": "stdout",
     "output_type": "stream",
     "text": [
      "12.56636\n"
     ]
    },
    {
     "ename": "NameError",
     "evalue": "name 'pi_val' is not defined",
     "output_type": "error",
     "traceback": [
      "\u001b[0;31m---------------------------------------------------------------------------\u001b[0m",
      "\u001b[0;31mNameError\u001b[0m                                 Traceback (most recent call last)",
      "\u001b[0;32m<ipython-input-10-cf9c02844f0d>\u001b[0m in \u001b[0;36m<module>\u001b[0;34m()\u001b[0m\n\u001b[1;32m      5\u001b[0m \u001b[0mprint\u001b[0m\u001b[0;34m(\u001b[0m\u001b[0marea_of_a_circle\u001b[0m\u001b[0;34m(\u001b[0m\u001b[0;36m2\u001b[0m\u001b[0;34m)\u001b[0m\u001b[0;34m)\u001b[0m\u001b[0;34m\u001b[0m\u001b[0m\n\u001b[1;32m      6\u001b[0m \u001b[0;34m\u001b[0m\u001b[0m\n\u001b[0;32m----> 7\u001b[0;31m \u001b[0mprint\u001b[0m\u001b[0;34m(\u001b[0m\u001b[0mpi_val\u001b[0m\u001b[0;34m)\u001b[0m\u001b[0;34m\u001b[0m\u001b[0m\n\u001b[0m",
      "\u001b[0;31mNameError\u001b[0m: name 'pi_val' is not defined"
     ]
    }
   ],
   "source": [
    "def area_of_a_circle(radius):\n",
    "    pi_val = 3.14159\n",
    "    return pi_val * radius**2\n",
    "\n",
    "print(area_of_a_circle(2))\n",
    "\n",
    "print(pi_val)"
   ]
  },
  {
   "cell_type": "code",
   "execution_count": null,
   "metadata": {
    "collapsed": true
   },
   "outputs": [],
   "source": []
  }
 ],
 "metadata": {
  "kernelspec": {
   "display_name": "Python [default]",
   "language": "python",
   "name": "python3"
  },
  "language_info": {
   "codemirror_mode": {
    "name": "ipython",
    "version": 3
   },
   "file_extension": ".py",
   "mimetype": "text/x-python",
   "name": "python",
   "nbconvert_exporter": "python",
   "pygments_lexer": "ipython3",
   "version": "3.6.2"
  }
 },
 "nbformat": 4,
 "nbformat_minor": 2
}
