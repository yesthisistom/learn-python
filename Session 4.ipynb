{
 "cells": [
  {
   "cell_type": "markdown",
   "metadata": {},
   "source": [
    "# <center>Session 4 - Functions </center>\n",
    "\n",
    "<hr>"
   ]
  },
  {
   "cell_type": "markdown",
   "metadata": {},
   "source": [
    "## Table of Contents\n",
    "\n",
    "<b>\n",
    "\n",
    "* [Functions](#Functions)\n",
    "* [Project: Creating an NPR Scraper](#Scraper)\n",
    "</b>"
   ]
  },
  {
   "cell_type": "markdown",
   "metadata": {
    "collapsed": true
   },
   "source": [
    "<hr>\n",
    "<a id=\"Functions\"></a>\n",
    "# Functions\n",
    "\n",
    "A function is a block of organized, reusable code that is used to perform a single, related action. Functions provide better modularity for your application and a high degree of code reusing.\n",
    "\n",
    "Any piece of code that you might want to reuse, or that might be overly complicated, is a good candidate for becoming a function.  Having good function names and pushing specific pieces of logic into them can make your code infinitely more readable (and editable in the future). \n",
    "\n",
    "    def functionname( parameters ):\n",
    "       <function behavior>\n",
    "       return <return value>"
   ]
  },
  {
   "cell_type": "code",
   "execution_count": null,
   "metadata": {
    "collapsed": true
   },
   "outputs": [],
   "source": [
    "## Example function definition\n",
    "def sum_numbers(num_1, num_2):\n",
    "    summed_value = num_1 + num_2\n",
    "    return summed_value"
   ]
  },
  {
   "cell_type": "markdown",
   "metadata": {},
   "source": [
    "What happens when you run the code block above?  Call the new function you've created.  Now you can treat it like the built-in functions we've seen before. "
   ]
  },
  {
   "cell_type": "code",
   "execution_count": null,
   "metadata": {
    "collapsed": true
   },
   "outputs": [],
   "source": [
    "## Call the function above.  Your code here"
   ]
  },
  {
   "cell_type": "markdown",
   "metadata": {},
   "source": [
    "Before running the next code cell, what do you think it will print out and in what order?"
   ]
  },
  {
   "cell_type": "code",
   "execution_count": null,
   "metadata": {},
   "outputs": [],
   "source": [
    "def happyBirthdaySong(name):\n",
    "    print(\"Happy Birthday to you!\")\n",
    "    print(\"Happy Birthday to you!\")\n",
    "    print(\"Happy Birthday, dear\", name + \".\")\n",
    "    print(\"Happy Birthday to you!\")\n",
    "    \n",
    "print (\"When will this evaluate?\")\n",
    "happyBirthdaySong(\"Cynthia\")"
   ]
  },
  {
   "cell_type": "markdown",
   "metadata": {},
   "source": [
    "There's no return value for the function above.  What do you think it returns?"
   ]
  },
  {
   "cell_type": "code",
   "execution_count": null,
   "metadata": {},
   "outputs": [],
   "source": [
    "print(happyBirthdaySong(\"Cynthia\"))"
   ]
  },
  {
   "cell_type": "markdown",
   "metadata": {},
   "source": [
    "### Optional Arguments\n",
    "\n",
    "Not all arguments are required.  You can set *optional* or *default* arguments that have a default behavior if they're not explicitly passed in. \n",
    "\n",
    "Say we write a function that reads CSV's.  We use the original csv reader to read CSV's as lists.  We later realize we want the option to read them in as dictionaries, but don't want to break any code already calling our function.  We can add an optional argument, and set the value to keep our code's behavior the same.  "
   ]
  },
  {
   "cell_type": "code",
   "execution_count": null,
   "metadata": {
    "collapsed": true
   },
   "outputs": [],
   "source": [
    "import csv \n",
    "\n",
    "def read_csv(filename):\n",
    "    lines = []\n",
    "    with open(filename, 'r') as file_hdl:\n",
    "        csv_reader = csv.reader(file_hdl)\n",
    "        for row in csv_reader:\n",
    "            lines.append(row)\n",
    "    \n",
    "    return lines"
   ]
  },
  {
   "cell_type": "code",
   "execution_count": null,
   "metadata": {},
   "outputs": [],
   "source": [
    "results = read_csv('data/articles/article_log.csv')\n",
    "results[1]"
   ]
  },
  {
   "cell_type": "code",
   "execution_count": null,
   "metadata": {},
   "outputs": [],
   "source": [
    "import csv \n",
    "\n",
    "def read_csv(filename, read_dicts=False):\n",
    "    \n",
    "    lines = []\n",
    "    with open(filename, 'r') as file_hdl:\n",
    "        if read_dicts:\n",
    "            csv_reader = csv.DictReader(file_hdl)\n",
    "        else:\n",
    "            csv_reader = csv.reader(file_hdl)\n",
    "        \n",
    "        for row in csv_reader:\n",
    "            lines.append(row)\n",
    "    return lines\n",
    "    "
   ]
  },
  {
   "cell_type": "code",
   "execution_count": null,
   "metadata": {},
   "outputs": [],
   "source": [
    "results = read_csv('data/articles/article_log.csv')\n",
    "results[1]"
   ]
  },
  {
   "cell_type": "code",
   "execution_count": null,
   "metadata": {},
   "outputs": [],
   "source": [
    "results = read_csv('data/articles/article_log.csv', read_dicts=True)\n",
    "results[0]"
   ]
  },
  {
   "cell_type": "markdown",
   "metadata": {},
   "source": [
    "### Variable Scope\n",
    "\n",
    "Variables have a scope in which they can be referenced.  It's inevitable that you will have variables with the same name, so knowing WHERE they can be accessed is important. "
   ]
  },
  {
   "cell_type": "code",
   "execution_count": null,
   "metadata": {},
   "outputs": [],
   "source": [
    "def area_of_a_circle(radius):\n",
    "    pi = 3.14159\n",
    "    return pi * radius**2\n",
    "\n",
    "pi = 3.14\n",
    "print(area_of_a_circle(2))\n",
    "\n",
    "print(pi)"
   ]
  },
  {
   "cell_type": "markdown",
   "metadata": {},
   "source": [
    "Will these next two examples work?"
   ]
  },
  {
   "cell_type": "code",
   "execution_count": null,
   "metadata": {},
   "outputs": [],
   "source": [
    "def area_of_a_circle(radius):\n",
    "    return pi_ex2 * radius**2\n",
    "\n",
    "pi_ex2 = 3.14\n",
    "print(area_of_a_circle(2))\n"
   ]
  },
  {
   "cell_type": "code",
   "execution_count": null,
   "metadata": {},
   "outputs": [],
   "source": [
    "def area_of_a_circle(radius):\n",
    "    pi_val = 3.14159\n",
    "    return pi_val * radius**2\n",
    "\n",
    "print(area_of_a_circle(2))\n",
    "\n",
    "print(pi_val)"
   ]
  },
  {
   "cell_type": "markdown",
   "metadata": {},
   "source": [
    "<hr>\n",
    "\n",
    "<a id=\"Scraper\"></a>\n",
    "# Creating an NPR Web Scraper\n",
    "\n",
    "We'll work through this problem step by step, creating some logic, turning it into a series of functions as we work out each piece. \n",
    "\n",
    "The goal is:\n",
    "\n",
    "* Start with the webpage 'http://text.npr.org/'\n",
    "* Identify all article links\n",
    "    * Create a queue of articles to process, add all these links to the queue\n",
    "* Download each article\n",
    "    * Pop a link off the queue\n",
    "    * Identify the article text\n",
    "    * Write the article text to a file with the article id as the filename\n",
    "    * Find any other articles linked to in the article\n",
    "        * Make sure the new links haven't already been processed\n",
    "        * Add them to the queue of articles to process if they're new\n",
    "    "
   ]
  },
  {
   "cell_type": "markdown",
   "metadata": {},
   "source": [
    "#### Part 1\n",
    "\n",
    "Use the Requests library to get the content of 'http://text.npr.org/'\n",
    "\n",
    "Create a loop and use string functions to identify every link.  Add each link to a set.\n",
    "\n",
    "*Hint:* The beginning of any link in an HTML file will be '<a href=\"'  \n"
   ]
  },
  {
   "cell_type": "code",
   "execution_count": null,
   "metadata": {
    "collapsed": true
   },
   "outputs": [],
   "source": [
    "## Your code here"
   ]
  },
  {
   "cell_type": "code",
   "execution_count": null,
   "metadata": {
    "collapsed": true
   },
   "outputs": [],
   "source": [
    "## Your code here"
   ]
  },
  {
   "cell_type": "markdown",
   "metadata": {},
   "source": [
    "#### Part 2\n",
    "\n",
    "Take a look at all the links.  You'll notice that some are relative (ie don't start with http).  Modify your code above to add 'http://text.npr.org' to the beginning of every relative link. \n",
    "\n",
    "Note that strings have a function 'startswith'"
   ]
  },
  {
   "cell_type": "code",
   "execution_count": null,
   "metadata": {},
   "outputs": [],
   "source": [
    "## Your code here"
   ]
  },
  {
   "cell_type": "markdown",
   "metadata": {},
   "source": [
    "#### Part 3\n",
    "\n",
    "Once you have a set of links, remove any that aren't for npr.org, or don't fit the format of the npr articles or topics.  \n",
    "\n",
    "*Hint:* The article link format is 'http://text.npr.org/s.php?sId=< Article ID >&rid=< Topic ID >', athough not all articles will have a topic id.  \n",
    "*Hint 2:* The topic link format is 'http://text.npr.org/t.php?tid= < Topic ID >'"
   ]
  },
  {
   "cell_type": "code",
   "execution_count": null,
   "metadata": {},
   "outputs": [],
   "source": [
    "## Your code here"
   ]
  },
  {
   "cell_type": "markdown",
   "metadata": {},
   "source": [
    "#### Part 4\n",
    "\n",
    "Take the logic you've created for identifying links in an HTML string, and create a function. \n",
    "\n",
    "It stands to reason the input for the function should be a string (HTML), and the output should be a set where each element is a link to a topic or an article. \n",
    "\n",
    "You are welcome to re-configure the code a bit to be shorter. "
   ]
  },
  {
   "cell_type": "code",
   "execution_count": null,
   "metadata": {},
   "outputs": [],
   "source": [
    "## Your code here"
   ]
  },
  {
   "cell_type": "markdown",
   "metadata": {},
   "source": [
    "#### Part 5\n",
    "\n",
    "Take one of the article links you found and use the requests library to get its content.  Inspect it, and try to identify what defines the content of the article itself. "
   ]
  },
  {
   "cell_type": "code",
   "execution_count": null,
   "metadata": {
    "scrolled": true
   },
   "outputs": [],
   "source": [
    "## Your code here"
   ]
  },
  {
   "cell_type": "markdown",
   "metadata": {},
   "source": [
    "#### Part 6\n",
    "\n",
    "Use a similar loop to the link finding code to identify every paragraph in the text.  Create a list of each paragraph. Note that right now we're just trying to pull the text between the '&lt;p&gt;' and '&lt;/p&gt;' "
   ]
  },
  {
   "cell_type": "code",
   "execution_count": null,
   "metadata": {},
   "outputs": [],
   "source": [
    "## Your code here"
   ]
  },
  {
   "cell_type": "markdown",
   "metadata": {},
   "source": [
    "Note that we still have a lot of HTML in our code.  Luckily all HTML tags are defined by an opening bracket and closing bracket, so we can identify and remove them pretty easily. \n",
    "\n",
    "Loop over your list of paragraphs, identify any html in them, and remove it.  Ensure your list now contains html free strings. "
   ]
  },
  {
   "cell_type": "code",
   "execution_count": null,
   "metadata": {
    "collapsed": true
   },
   "outputs": [],
   "source": [
    "## Your code here"
   ]
  },
  {
   "cell_type": "code",
   "execution_count": null,
   "metadata": {
    "scrolled": true
   },
   "outputs": [],
   "source": [
    "## Your code here"
   ]
  },
  {
   "cell_type": "markdown",
   "metadata": {},
   "source": [
    "#### Part 7\n",
    "\n",
    "Now that you have HTML free text, merge the list back together, with each paragraph separated by two new line characters ('\\n\\n').  \n",
    "\n",
    "Turn the ability to take the html from an articles webpage and create a cleaned article into a function. \n",
    "\n",
    "The function should take the html string as input and return a string of the articles content.  "
   ]
  },
  {
   "cell_type": "code",
   "execution_count": null,
   "metadata": {
    "collapsed": true
   },
   "outputs": [],
   "source": [
    "## Your code here"
   ]
  },
  {
   "cell_type": "code",
   "execution_count": null,
   "metadata": {
    "collapsed": true
   },
   "outputs": [],
   "source": [
    "## Your code here"
   ]
  },
  {
   "cell_type": "markdown",
   "metadata": {},
   "source": [
    "#### Part 8 - Put it all together\n",
    "\n",
    "We have two functions - one that will get all the relevant links out of an article, and another that will get the actual content. \n",
    "\n",
    "Now we need to write the logic that controls the actual flow of our web scraper. \n",
    "\n",
    "Write a function that, given the url string, extracts the id (\"sid=\") of the article.  \n",
    "\n",
    "Once you have that, write code to start with the starting url 'http://text.npr.org', the output folder 'data/scraper_test', creates a queue of links to process. \n",
    "\n",
    "For each link, download the html, pull out any npr links and add them to the processing queue.  Clean up the text, and pull out its id.  Write out the cleaned text to the output folder, using its id as the filename.\n",
    "\n",
    "**See the steps at the beginning of the exercise for the full logic**"
   ]
  },
  {
   "cell_type": "code",
   "execution_count": null,
   "metadata": {},
   "outputs": [],
   "source": [
    "## Your code here"
   ]
  },
  {
   "cell_type": "code",
   "execution_count": null,
   "metadata": {
    "collapsed": true
   },
   "outputs": [],
   "source": [
    "## Your code here"
   ]
  },
  {
   "cell_type": "code",
   "execution_count": null,
   "metadata": {
    "collapsed": true
   },
   "outputs": [],
   "source": [
    "## Your code here"
   ]
  }
 ],
 "metadata": {
  "kernelspec": {
   "display_name": "Python [default]",
   "language": "python",
   "name": "python3"
  },
  "language_info": {
   "codemirror_mode": {
    "name": "ipython",
    "version": 3
   },
   "file_extension": ".py",
   "mimetype": "text/x-python",
   "name": "python",
   "nbconvert_exporter": "python",
   "pygments_lexer": "ipython3",
   "version": "3.6.2"
  }
 },
 "nbformat": 4,
 "nbformat_minor": 2
}
