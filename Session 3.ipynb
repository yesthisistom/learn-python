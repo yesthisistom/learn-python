{
 "cells": [
  {
   "cell_type": "markdown",
   "metadata": {},
   "source": [
    "# <center>Session 3 - Reading/Writing Data</center>\n",
    "\n",
    "<hr>"
   ]
  },
  {
   "cell_type": "markdown",
   "metadata": {},
   "source": [
    "## Table of Contents\n",
    "\n",
    "<b>\n",
    "\n",
    "* <a href=\"#Text\">Reading Text</a>\n",
    "* <a href=\"#CSV\">CSV</a>\n",
    "* <a href=\"#Writing\">Writing</a>\n",
    "* <a href=\"#Requests\">Requests</a>\n",
    "* [Exercises](#Exercises)\n",
    "\n",
    "</b>\n"
   ]
  },
  {
   "cell_type": "markdown",
   "metadata": {},
   "source": [
    "<hr>\n",
    "## Reading Text\n",
    "\n",
    "Python comes with a built-in function 'open()', which takes the path (relative or absolute) to the file you're interested in opening.  \n",
    "\n",
    "    # Example \n",
    "    file = 'data/text_file.txt'\n",
    "    file_hdl = open(file)\n",
    "    text = file_hdl.read()"
   ]
  },
  {
   "cell_type": "code",
   "execution_count": 2,
   "metadata": {},
   "outputs": [
    {
     "data": {
      "text/plain": [
       "'You’ve successfully read in a text file!'"
      ]
     },
     "execution_count": 2,
     "metadata": {},
     "output_type": "execute_result"
    }
   ],
   "source": [
    "file = 'data/text_file.txt'\n",
    "file_hdl = open(file)\n",
    "text = file_hdl.read()\n",
    "\n",
    "print(text)"
   ]
  },
  {
   "cell_type": "code",
   "execution_count": 3,
   "metadata": {
    "collapsed": true
   },
   "outputs": [],
   "source": [
    "import requests"
   ]
  },
  {
   "cell_type": "code",
   "execution_count": 5,
   "metadata": {
    "collapsed": true
   },
   "outputs": [],
   "source": [
    "path = 'http://text.npr.org/s.php?sId=572945894'\n",
    "r = requests.get(path)"
   ]
  },
  {
   "cell_type": "code",
   "execution_count": 6,
   "metadata": {},
   "outputs": [
    {
     "data": {
      "text/plain": [
       "'    <!DOCTYPE HTML PUBLIC \"-//W3C//DTD HTML 4.01 Transitional//EN\">\\n<html>\\n<head><title>Text-Only NPR.org : How An American Became Santa In A Little Town In France</title><meta name=\"robots\" content=\"noindex, nofollow\" />\\n<meta name=\"viewport\" content=\"width=device-width, initial-scale=1\" /></head>\\n<body>\\n<script type=\"text/javascript\">\\nif (window != top)\\n  {\\n      top.location.href = location.href;\\n  }\\n</script>\\n<p>Text-Only NPR.org (go to <a href=\"https://www.npr.org\">full version</a>)</p>\\n<p><a href=\"/\">Home</a></p>\\n<p>How An American Became Santa In A Little Town In France</p>\\n<p>By Eleanor Beardsley</p>\\n<p>NPR.org, December 22, 2017 &middot; Aurelie Garat still can\\'t get over how she found her Pere Noel this year. She\\'s the Christmas pageant organizer for the tiny Normandy town of Vimoutiers. </p>\\n<p>\"I was parking when I saw a nice young man with a beautiful beard sitting in his car on the phone,\" says Garat. \"So I said to him, your beard speaks to me. Would you be our Father Christmas this year?\"</p>\\n<p>Garat says they had been looking everywhere and had almost given up hope. She says it was as if this Pere Noel — as the French call Santa Claus — had just fallen out of the sky.</p>\\n<p>That heaven-sent Santa is 66-year-old retired American photographer Tom Haley, who happens to be fixing up a house he recently bought near Vimoutiers. Haley says he wasn\\'t actually so surprised by Garat\\'s request.</p>\\n<p>\"For the last several years now I\\'ll be walking along in Paris or anywhere,\" he says, \"and kids will all of a sudden stop in their tracks like they see Santa Claus.\"</p>\\n<p>After Haley is helped into a century-old red felt hood and cape, he takes his place in a carriage pulled by a donkey. He is surrounded by lots of children dressed as elves and characters from the French fairy tales of Charles Perrault.</p>\\n<p>With bells jingling, the joyous party sets off down the street. They are soon joined by an organ grinder.</p>\\n<p>Excited children wave from windows. Others stop and gape from the sidewalk. </p>\\n<p>After a stop at the retirement home to give out chocolates and sing a few songs, the little pageant arrives in the town square. There\\'s a Christmas market and a big comfy chair awaiting Pere Noel.</p>\\n<p>With a long line in front of him, Haley begins by taking each child on his knee.</p>\\n<p>Six-year-old Luna tells Haley she wants Barbie dolls.</p>\\n<p>There are other, less young residents of Vimoutiers who also visit Santa for a talk.</p>\\n<p>Eighty-eight-year-old Andree Boursier tells Haley she worked her whole life making cheese.</p>\\n<p>She refuses to sit in his lap, but assures him that she still believes in Pere Noel.</p>\\n<p>Haley has a connection to Normandy that goes back to his father, who landed here on D-Day plus two. He says in the 1990s he and his father returned and were able to find the farm where his company bivouacked.</p>\\n<p>\"We knocked on the door and this older gentleman answered and I explained to him what we were doing there and that my father had landed on Omaha Beach,\" Haley says. \"And the guy just sort of broke down and grabbed my father in his arms and hugged him. I mean it was incredible.\"</p>\\n<p>Today Vimoutier has a Muslim community. Many emigrated from Morocco in the decades after World War II. Loubna Sadkaoui has her children participate in the Christmas pageant because she thinks it\\'s important to share in each other\\'s holidays and cultures.</p>\\n<p>\"It shows respect and tolerance,\" she says. \"When it\\'s Ramadan people also celebrate with us.\"</p>\\n<p>Sadkaoui says it\\'s wonderful to have an American Pere Noel this year. It gives them another culture to celebrate. </p>\\n    <ul>\\n        <li><a href=\"https://about.npr.org\">About NPR</a></li>\\n        <li><a href=\"https://help.npr.org/customer/portal/emails/new\">Contact Us</a></li>\\n        <li><a href=\"https://www.npr.org/about-npr/179876898/terms-of-use\">Terms of Use</a></li>\\n        <li><a href=\"https://www.npr.org/about-npr/179881519/rights-and-permissions-information\">Permissions</a></li>\\n        <li><a href=\"https://www.npr.org/about-npr/179878450/privacy-policy\">Privacy Policy</a></li>\\n    </ul>\\n    <p>&copy; NPR</p>\\n</body>\\n</html>\\n'"
      ]
     },
     "execution_count": 6,
     "metadata": {},
     "output_type": "execute_result"
    }
   ],
   "source": [
    "r.text"
   ]
  }
 ],
 "metadata": {
  "kernelspec": {
   "display_name": "Python [default]",
   "language": "python",
   "name": "python3"
  },
  "language_info": {
   "codemirror_mode": {
    "name": "ipython",
    "version": 3
   },
   "file_extension": ".py",
   "mimetype": "text/x-python",
   "name": "python",
   "nbconvert_exporter": "python",
   "pygments_lexer": "ipython3",
   "version": "3.6.2"
  }
 },
 "nbformat": 4,
 "nbformat_minor": 2
}
