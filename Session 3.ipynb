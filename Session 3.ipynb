{
 "cells": [
  {
   "cell_type": "markdown",
   "metadata": {},
   "source": [
    "# <center>Session 3 - Reading/Writing Data</center>\n",
    "\n",
    "<hr>"
   ]
  },
  {
   "cell_type": "markdown",
   "metadata": {},
   "source": [
    "## Table of Contents\n",
    "\n",
    "<b>\n",
    "\n",
    "* <a href=\"#Reading Text\">Reading Text</a>\n",
    "* <a href=\"#CSV\">CSV</a>\n",
    "* [Exercise 1](#Exercise 1)\n",
    "* [Finding Multiple Files](#Glob)\n",
    "* [Exercise 2](#Exercise2)\n",
    "* <a href=\"#Writing\">Writing</a>\n",
    "* <a href=\"#Requests\">Requests</a>\n",
    "* [Exercise 3](#Exercise3)\n",
    "\n",
    "</b>\n"
   ]
  },
  {
   "cell_type": "markdown",
   "metadata": {},
   "source": [
    "<a id=\"Reading Text\"></a>\n",
    "<hr>\n",
    "# Reading Text\n",
    "\n",
    "Python comes with a built-in function 'open()', which takes the path (relative or absolute) to the file you're interested in opening.  \n",
    "\n",
    "    # Example \n",
    "    file = 'data/text_file.txt'\n",
    "    file_hdl = open(file)\n",
    "    text = file_hdl.read()\n",
    "    \n",
    "    file_hdl.close() # Don't forget to close that file handle!!"
   ]
  },
  {
   "cell_type": "code",
   "execution_count": 159,
   "metadata": {},
   "outputs": [
    {
     "name": "stdout",
     "output_type": "stream",
     "text": [
      "You’ve successfully read in a text file!\n"
     ]
    }
   ],
   "source": [
    "file = 'data/text_file.txt'\n",
    "file_hdl = open(file)\n",
    "text = file_hdl.read()\n",
    "\n",
    "file_hdl.close()\n",
    "\n",
    "print(text)"
   ]
  },
  {
   "cell_type": "markdown",
   "metadata": {},
   "source": [
    "Python has an more consise way to do this that doesn't require the developer to remember to close the file handle. \n",
    "\n",
    "    with open(file) as file_hdl:\n",
    "        text = file_hdl.read()\n",
    "        \n",
    "When the indented block ends, python closes the file handle automatically. "
   ]
  },
  {
   "cell_type": "code",
   "execution_count": 161,
   "metadata": {},
   "outputs": [
    {
     "name": "stdout",
     "output_type": "stream",
     "text": [
      "You’ve successfully read in a text file!\n"
     ]
    }
   ],
   "source": [
    "with open(file) as file_hdl:\n",
    "    text_v2 = file_hdl.read()\n",
    "    \n",
    "print(text_v2)"
   ]
  },
  {
   "cell_type": "markdown",
   "metadata": {},
   "source": [
    "<a id=\"CSV\"></a>\n",
    "<hr>\n",
    "# CSV\n",
    "\n",
    "A CSV (Comma Seperated Value) file is a lot like an excel workbook (and in fact can be read by excel).  Python has a library intended for reading and writing CSV files, and it relies on the built in open function. \n",
    "\n",
    "    import csv  # You only need to run this once per project\n",
    "    \n",
    "    csv_path = \"data/quiz_questions.csv\"\n",
    "    \n",
    "    with open(csv_path) as csvfile:\n",
    "        csv_reader = csv.reader(csvfile)\n",
    "        for row in csv_reader:\n",
    "             print(row)\n",
    "    \n",
    "    "
   ]
  },
  {
   "cell_type": "code",
   "execution_count": 167,
   "metadata": {},
   "outputs": [
    {
     "name": "stdout",
     "output_type": "stream",
     "text": [
      "['question', 'optiona', 'optionb', 'optionc', 'optiond', 'optiona_response', 'optionb_response', 'optionc_response', 'optiond_response']\n",
      "['How many sides does a triangle have?', '1', '2', '3', '4', 'What do we call something with one side?', 'Maybe draw something with only two sides first', 'correct', 'draw a four sided shape then try again']\n"
     ]
    }
   ],
   "source": [
    "import csv  # You only need to run this once per project\n",
    "    \n",
    "csv_path = \"data/quiz_questions.csv\"\n",
    "    \n",
    "with open(csv_path) as csvfile:\n",
    "    csv_reader = csv.reader(csvfile)\n",
    "    for row in csv_reader:\n",
    "         print(row)"
   ]
  },
  {
   "cell_type": "markdown",
   "metadata": {},
   "source": [
    "Note that it pulls the header as the first row - Having a header be able to map to each row would be really useful.  The CSV library has a dictionary reader that reads each line in as a single dictionary, mapping the column header to the value in the row.  \n",
    "\n",
    "    with open(csv_path) as csvfile:\n",
    "        csv_reader = csv.DictReader(csvfile)\n",
    "        for row in csv_reader:\n",
    "             print(row)"
   ]
  },
  {
   "cell_type": "code",
   "execution_count": 170,
   "metadata": {},
   "outputs": [
    {
     "name": "stdout",
     "output_type": "stream",
     "text": [
      "OrderedDict([('question', 'How many sides does a triangle have?'), ('optiona', '1'), ('optionb', '2'), ('optionc', '3'), ('optiond', '4'), ('a_response', 'What do we call something with one side?'), ('b_response', 'Maybe draw something with only two sides first'), ('c_response', 'correct'), ('d_response', 'draw a four sided shape then try again')])\n"
     ]
    }
   ],
   "source": [
    "with open(csv_path) as csvfile:\n",
    "    csv_reader = csv.DictReader(csvfile)\n",
    "    for row in csv_reader:\n",
    "         print(row)"
   ]
  },
  {
   "cell_type": "code",
   "execution_count": 171,
   "metadata": {},
   "outputs": [
    {
     "data": {
      "text/plain": [
       "'How many sides does a triangle have?'"
      ]
     },
     "execution_count": 171,
     "metadata": {},
     "output_type": "execute_result"
    }
   ],
   "source": [
    "row['question']"
   ]
  },
  {
   "cell_type": "markdown",
   "metadata": {},
   "source": [
    "<a id=\"Exercise 1\"></a>\n",
    "\n",
    "# Exercise 1\n",
    "\n",
    "Take the dictionary we just read in using CSV, and ask the user for their answer.  If that answer is not mapped to the value 'correct' in the dictionary, print the hint and ask again. \n",
    "\n",
    "Look at the dictionary keys if you're not sure exactly where to begin!"
   ]
  },
  {
   "cell_type": "code",
   "execution_count": null,
   "metadata": {
    "collapsed": true
   },
   "outputs": [],
   "source": [
    "## Your code here"
   ]
  },
  {
   "cell_type": "markdown",
   "metadata": {},
   "source": [
    "<hr>\n",
    "<a id=\"Glob\"></a>\n",
    "# Finding multiples files\n",
    "\n",
    "If you have a folder with a lot of files, and you're looking for a generic pattern or extension, using a library like glob can make you life a lot easier. \n",
    "\n",
    "In the 'data/articles' folder there is a bunch of .txt files, each containing an article pulled from NPR.  There's also a .csv file containing additional information about the articles.  If we wanted to read ALL of the txt files, we can get a list of them in one fell swoop. "
   ]
  },
  {
   "cell_type": "code",
   "execution_count": 174,
   "metadata": {},
   "outputs": [
    {
     "name": "stdout",
     "output_type": "stream",
     "text": [
      "48\n",
      "data/articles/267166222.txt\n"
     ]
    }
   ],
   "source": [
    "import glob\n",
    "\n",
    "path = \"data/articles\"\n",
    "txt_list = glob.glob(path + \"/*.txt\")\n",
    "\n",
    "print(len(txt_list))\n",
    "print(txt_list[0])"
   ]
  },
  {
   "cell_type": "code",
   "execution_count": null,
   "metadata": {
    "collapsed": true
   },
   "outputs": [],
   "source": []
  },
  {
   "cell_type": "markdown",
   "metadata": {},
   "source": [
    "<a id=\"Exercise2\"></a>\n",
    "\n",
    "# Exercise 2\n",
    "\n",
    "Look at the file '/data/articles/article_log.csv', and get a sense of what it contains.  Note that the id maps to a filename (ie ID 569893288 maps to 569893288.txt)\n",
    "\n",
    "Write some code that reads in each line in the article_log.csv as a dictionary, and add each dictionary to a larger dictionary, mapping the ID of the article to that dictionary for that line. See below for the results of reading in a single line. \n",
    "\n",
    "\n",
    "    {'569893288': {('ID', '569893288'),\n",
    "               ('Date', '2017-12-14'),\n",
    "               ('Title', \"NPR's Favorite TV Shows Of 2017\"),\n",
    "               ('Link',\n",
    "               'https://www.npr.org/sections/monkeysee/2017/12/14/569893288/nprs-favorite-tv-shows-of-2017')])}"
   ]
  },
  {
   "cell_type": "code",
   "execution_count": 181,
   "metadata": {},
   "outputs": [
    {
     "name": "stdout",
     "output_type": "stream",
     "text": [
      "48\n"
     ]
    }
   ],
   "source": [
    "data_dict = {}\n",
    "\n",
    "with open('data/articles/article_log.csv') as file_hdl:\n",
    "    reader = csv.DictReader(file_hdl)\n",
    "    \n",
    "    for line in reader:\n",
    "        data_dict[line[\"ID\"]] = line\n",
    "        \n",
    "print(len(data_dict))\n"
   ]
  },
  {
   "cell_type": "markdown",
   "metadata": {},
   "source": [
    "### Exercise 2.1\n",
    "\n",
    "Loop over all the article txt files you found.  For each file:\n",
    "\n",
    "1. Get the ID from the filename\n",
    "2. Read in the content\n",
    "3. Get the following and add them to the dictionary for each article:\n",
    "    3. Get the number of characters for each article\n",
    "    4. Get the number of sentences for each article\n",
    "    5. Get the number of paragraphs for each article\n",
    "    \n",
    "Potentially useful functions:\n",
    "\n",
    "If you have a string as a variable, you can replace text in it, using .replace()\n",
    "    \n",
    "    For example, if you have the variable \n",
    "    \n",
    "    test = \"textfile.txt\"\n",
    "    test = test.replace(\".txt\", \"\")\n",
    "    # test now equals 'textfile'\n",
    "    \n",
    "    test2 = \"Sentence one. Sentence 2\"\n",
    "    split_test2 = test2.split(\".\")\n",
    "    # split_test2 is now a list containing the string \"Setence one\" and \" Sentence 2\"\n",
    "    \n",
    "In a string variaible, a newline can be found using the '\\n' character.  In many news articles, a paragraph can be indentified by two newline characters in a row. "
   ]
  },
  {
   "cell_type": "code",
   "execution_count": 194,
   "metadata": {},
   "outputs": [],
   "source": [
    "for file in txt_list:\n",
    "    file_id = file.replace(\"data/articles/\", \"\").replace(\".txt\",\"\")\n",
    "    \n",
    "    with open(file) as file_hdl:\n",
    "        text = file_hdl.read()\n",
    "        \n",
    "        length = len(text)\n",
    "        sentences = len(text.split(\".\"))\n",
    "        paragraphs = len(text.split(\"\\n\\n\"))\n",
    "        \n",
    "        data_dict[file_id][\"Length\"] = length\n",
    "        data_dict[file_id][\"Sentences\"] = sentences \n",
    "        data_dict[file_id][\"Paragraphs\"] = paragraphs\n",
    "        \n",
    "        "
   ]
  },
  {
   "cell_type": "markdown",
   "metadata": {},
   "source": [
    "<a id=\"Writing\"></a>\n",
    "\n",
    "<hr>\n",
    "# Writing to File\n",
    "\n",
    "The open function can take more than just a filename. The second argument, which is optional, defaults to reading, but can have a number of other options.  You can tell it to append to a file, write to a file, write to a file ONLY if the file doesn't already exist, and more. \n",
    "\n",
    "In the case of writing to a file, we pass the 'w' argument.  "
   ]
  },
  {
   "cell_type": "markdown",
   "metadata": {},
   "source": [
    "To write the CSV file with the adjusted dictionaries, we'll use the the DictWriter from the csv library, and a 'w' in our open call"
   ]
  },
  {
   "cell_type": "code",
   "execution_count": 195,
   "metadata": {},
   "outputs": [],
   "source": [
    "file_out = \"data/articles/article_log_improved.csv\"\n",
    "with open(file_out, 'w') as file_out_hdl:\n",
    "    # This line is a bit confusing. \n",
    "    # We need to tell the writer WHERE to write, but also what the headers are. \n",
    "    # To get the headers, we need to get ANY single line dictionary, and get the keys for it\n",
    "    writer = csv.DictWriter(file_out_hdl, next (iter (data_dict.values())).keys())\n",
    "    \n",
    "    writer.writeheader()\n",
    "\n",
    "    for key,value in data_dict.items():\n",
    "        writer.writerow(value)"
   ]
  },
  {
   "cell_type": "markdown",
   "metadata": {},
   "source": [
    "<hr>\n",
    "<a id=\"Writing\"></a>\n",
    "\n",
    "# Requests\n",
    "\n",
    "One final way to get data is the requests library.  We can use it to get all the contant of a URL, whether that be HTML, JSON, or some other internet format. "
   ]
  },
  {
   "cell_type": "code",
   "execution_count": 199,
   "metadata": {
    "collapsed": true
   },
   "outputs": [],
   "source": [
    "import requests\n",
    "\n",
    "path = 'http://text.npr.org/s.php?sId=572945894'\n",
    "r = requests.get(path)"
   ]
  },
  {
   "cell_type": "code",
   "execution_count": 200,
   "metadata": {},
   "outputs": [
    {
     "data": {
      "text/plain": [
       "requests.models.Response"
      ]
     },
     "execution_count": 200,
     "metadata": {},
     "output_type": "execute_result"
    }
   ],
   "source": [
    "type(r)"
   ]
  },
  {
   "cell_type": "code",
   "execution_count": 201,
   "metadata": {},
   "outputs": [
    {
     "data": {
      "text/plain": [
       "<Response [200]>"
      ]
     },
     "execution_count": 201,
     "metadata": {},
     "output_type": "execute_result"
    }
   ],
   "source": [
    "r"
   ]
  },
  {
   "cell_type": "code",
   "execution_count": 219,
   "metadata": {},
   "outputs": [
    {
     "data": {
      "text/plain": [
       "'    <!DOCTYPE HTML PUBLIC \"-//W3C//DTD HTML 4.01 Transitional//EN\">\\n<html>\\n<head><title>Text-Only NPR.org : How An American Became Santa In A Little Town In France</title><meta name=\"robots\" content=\"noindex, nofollow\" />\\n<meta name=\"viewport\" content=\"width=device-width, initial-scale=1\" /></head>\\n<body>\\n<script type=\"text/javascript\">\\nif (window != top)\\n  {\\n      top.location.href = location.href;\\n  }\\n</script>\\n<p>Text-Only NPR.org (go to <a href=\"https://www.npr.org\">full version</a>)</p>\\n<p><a href=\"/\">Home</a> &gt; <a href=\"/p.php?pid=3\"> Program: Morning Edition</a></p>\\n<p>How An American Became Santa In A Little Town In France</p>\\n<p>By Eleanor Beardsley</p>\\n<p>Morning Edition,  &middot; Aurelie Garat still can\\'t get over how she found her Pere Noel this year. She\\'s the Christmas pageant organizer for the tiny Normandy town of Vimoutiers. </p>\\n<p>\"I was parking when I saw a nice young man with a beautiful beard sitting in his car on the phone,\" says Garat. \"So I said to him, your beard speaks to me. Would you be our Father Christmas this year?\"</p>\\n<p>Garat says they had been looking everywhere and had almost given up hope. She says it was as if this Pere Noel — as the French call Santa Claus — had just fallen out of the sky.</p>\\n<p>That heaven-sent Santa is 66-year-old retired American photographer Tom Haley, who happens to be fixing up a house he recently bought near Vimoutiers. Haley says he wasn\\'t actually so surprised by Garat\\'s request.</p>\\n<p>\"For the last several years now I\\'ll be walking along in Paris or anywhere,\" he says, \"and kids will all of a sudden stop in their tracks like they see Santa Claus.\"</p>\\n<p>After Haley is helped into a century-old red felt hood and cape, he takes his place in a carriage pulled by a donkey. He is surrounded by lots of children dressed as elves and characters from the French fairy tales of Charles Perrault.</p>\\n<p>With bells jingling, the joyous party sets off down the street. They are soon joined by an organ grinder.</p>\\n<p>Excited children wave from windows. Others stop and gape from the sidewalk. </p>\\n<p>After a stop at the retirement home to give out chocolates and sing a few songs, the little pageant arrives in the town square. There\\'s a Christmas market and a big comfy chair awaiting Pere Noel.</p>\\n<p>With a long line in front of him, Haley begins by taking each child on his knee.</p>\\n<p>Six-year-old Luna tells Haley she wants Barbie dolls.</p>\\n<p>There are other, less young residents of Vimoutiers who also visit Santa for a talk.</p>\\n<p>Eighty-eight-year-old Andree Boursier tells Haley she worked her whole life making cheese.</p>\\n<p>She refuses to sit in his lap, but assures him that she still believes in Pere Noel.</p>\\n<p>Haley has a connection to Normandy that goes back to his father, who landed here on D-Day plus two. He says in the 1990s he and his father returned and were able to find the farm where his company bivouacked.</p>\\n<p>\"We knocked on the door and this older gentleman answered and I explained to him what we were doing there and that my father had landed on Omaha Beach,\" Haley says. \"And the guy just sort of broke down and grabbed my father in his arms and hugged him. I mean it was incredible.\"</p>\\n<p>Today Vimoutier has a Muslim community. Many emigrated from Morocco in the decades after World War II. Loubna Sadkaoui has her children participate in the Christmas pageant because she thinks it\\'s important to share in each other\\'s holidays and cultures.</p>\\n<p>\"It shows respect and tolerance,\" she says. \"When it\\'s Ramadan people also celebrate with us.\"</p>\\n<p>Sadkaoui says it\\'s wonderful to have an American Pere Noel this year. It gives them another culture to celebrate. </p>\\n    <ul>\\n        <li><a href=\"https://about.npr.org\">About NPR</a></li>\\n        <li><a href=\"https://help.npr.org/customer/portal/emails/new\">Contact Us</a></li>\\n        <li><a href=\"https://www.npr.org/about-npr/179876898/terms-of-use\">Terms of Use</a></li>\\n        <li><a href=\"https://www.npr.org/about-npr/179881519/rights-and-permissions-information\">Permissions</a></li>\\n        <li><a href=\"https://www.npr.org/about-npr/179878450/privacy-policy\">Privacy Policy</a></li>\\n    </ul>\\n    <p>&copy; NPR</p>\\n</body>\\n</html>\\n'"
      ]
     },
     "execution_count": 219,
     "metadata": {},
     "output_type": "execute_result"
    }
   ],
   "source": [
    "r.text"
   ]
  },
  {
   "cell_type": "markdown",
   "metadata": {},
   "source": [
    "<a id=\"Exercise3\"></a>\n",
    "\n",
    "# Exercise 3\n",
    "\n",
    "Use string functions to print ONLY the text between the paragraph tags in the html. \n",
    "\n",
    "To find the starting index of a character sequence in a string, use the .find() function. \n",
    "\n",
    "    test_str = \"The quick brown fox jumped over the lazy dog\"\n",
    "    fox_idx = test_str.find(\"fox\") #now fox_idx will equal 16\n",
    "    \n",
    "    print(test_str[fox_idx:]) ## Will print 'fox jumped over the lazy dog'"
   ]
  },
  {
   "cell_type": "code",
   "execution_count": 223,
   "metadata": {},
   "outputs": [
    {
     "name": "stdout",
     "output_type": "stream",
     "text": [
      "fox jumped over the lazy dog\n"
     ]
    }
   ],
   "source": [
    "    test_str = \"The quick brown fox jumped over the lazy dog\"\n",
    "    fox_idx = test_str.find(\"fox\") #now fox_idx will equal \n",
    "    fox_idx\n",
    "    \n",
    "    print(test_str[fox_idx:]) ## Will printfox jumped over the lazy dog\n",
    "In [220]:\n"
   ]
  },
  {
   "cell_type": "code",
   "execution_count": 226,
   "metadata": {},
   "outputs": [
    {
     "name": "stdout",
     "output_type": "stream",
     "text": [
      "Text-Only NPR.org (go to <a href=\"https://www.npr.org\">full version</a>)\n",
      "\n",
      "<a href=\"/\">Home</a> &gt; <a href=\"/p.php?pid=3\"> Program: Morning Edition</a>\n",
      "\n",
      "How An American Became Santa In A Little Town In France\n",
      "\n",
      "By Eleanor Beardsley\n",
      "\n",
      "Morning Edition,  &middot; Aurelie Garat still can't get over how she found her Pere Noel this year. She's the Christmas pageant organizer for the tiny Normandy town of Vimoutiers. \n",
      "\n",
      "\"I was parking when I saw a nice young man with a beautiful beard sitting in his car on the phone,\" says Garat. \"So I said to him, your beard speaks to me. Would you be our Father Christmas this year?\"\n",
      "\n",
      "Garat says they had been looking everywhere and had almost given up hope. She says it was as if this Pere Noel — as the French call Santa Claus — had just fallen out of the sky.\n",
      "\n",
      "That heaven-sent Santa is 66-year-old retired American photographer Tom Haley, who happens to be fixing up a house he recently bought near Vimoutiers. Haley says he wasn't actually so surprised by Garat's request.\n",
      "\n",
      "\"For the last several years now I'll be walking along in Paris or anywhere,\" he says, \"and kids will all of a sudden stop in their tracks like they see Santa Claus.\"\n",
      "\n",
      "After Haley is helped into a century-old red felt hood and cape, he takes his place in a carriage pulled by a donkey. He is surrounded by lots of children dressed as elves and characters from the French fairy tales of Charles Perrault.\n",
      "\n",
      "With bells jingling, the joyous party sets off down the street. They are soon joined by an organ grinder.\n",
      "\n",
      "Excited children wave from windows. Others stop and gape from the sidewalk. \n",
      "\n",
      "After a stop at the retirement home to give out chocolates and sing a few songs, the little pageant arrives in the town square. There's a Christmas market and a big comfy chair awaiting Pere Noel.\n",
      "\n",
      "With a long line in front of him, Haley begins by taking each child on his knee.\n",
      "\n",
      "Six-year-old Luna tells Haley she wants Barbie dolls.\n",
      "\n",
      "There are other, less young residents of Vimoutiers who also visit Santa for a talk.\n",
      "\n",
      "Eighty-eight-year-old Andree Boursier tells Haley she worked her whole life making cheese.\n",
      "\n",
      "She refuses to sit in his lap, but assures him that she still believes in Pere Noel.\n",
      "\n",
      "Haley has a connection to Normandy that goes back to his father, who landed here on D-Day plus two. He says in the 1990s he and his father returned and were able to find the farm where his company bivouacked.\n",
      "\n",
      "\"We knocked on the door and this older gentleman answered and I explained to him what we were doing there and that my father had landed on Omaha Beach,\" Haley says. \"And the guy just sort of broke down and grabbed my father in his arms and hugged him. I mean it was incredible.\"\n",
      "\n",
      "Today Vimoutier has a Muslim community. Many emigrated from Morocco in the decades after World War II. Loubna Sadkaoui has her children participate in the Christmas pageant because she thinks it's important to share in each other's holidays and cultures.\n",
      "\n",
      "\"It shows respect and tolerance,\" she says. \"When it's Ramadan people also celebrate with us.\"\n",
      "\n",
      "Sadkaoui says it's wonderful to have an American Pere Noel this year. It gives them another culture to celebrate. \n",
      "\n",
      "&copy; NPR\n",
      "\n",
      "\n"
     ]
    }
   ],
   "source": [
    "text = r.text\n",
    "\n",
    "text_only = \"\"\n",
    "while True:\n",
    "    start = text.find(\"<p>\")\n",
    "    end = text.find(\"</p>\")\n",
    "    if start == -1:\n",
    "        break\n",
    "\n",
    "    p_text = text[start+3:end]\n",
    "    text_only += p_text + \"\\n\\n\"\n",
    "    text = text[end+4:]\n",
    "\n",
    "print (text_only)\n",
    "    "
   ]
  },
  {
   "cell_type": "code",
   "execution_count": null,
   "metadata": {
    "collapsed": true
   },
   "outputs": [],
   "source": []
  }
 ],
 "metadata": {
  "kernelspec": {
   "display_name": "Python [default]",
   "language": "python",
   "name": "python3"
  },
  "language_info": {
   "codemirror_mode": {
    "name": "ipython",
    "version": 3
   },
   "file_extension": ".py",
   "mimetype": "text/x-python",
   "name": "python",
   "nbconvert_exporter": "python",
   "pygments_lexer": "ipython3",
   "version": "3.6.2"
  }
 },
 "nbformat": 4,
 "nbformat_minor": 2
}
