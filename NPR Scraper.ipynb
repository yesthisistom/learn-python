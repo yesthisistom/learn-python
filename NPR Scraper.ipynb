{
 "cells": [
  {
   "cell_type": "code",
   "execution_count": 1,
   "metadata": {
    "collapsed": true
   },
   "outputs": [],
   "source": [
    "import os\n",
    "import re\n",
    "\n",
    "import csv\n",
    "\n",
    "import requests\n",
    "\n",
    "from bs4 import BeautifulSoup"
   ]
  },
  {
   "cell_type": "code",
   "execution_count": 2,
   "metadata": {
    "collapsed": true
   },
   "outputs": [],
   "source": [
    "def get_text(soup):\n",
    "    text = \"\"\n",
    "    for paragraph in soup.find_all('p'):\n",
    "        if not paragraph.has_attr('class') and not paragraph.findChildren('b'):\n",
    "            text += paragraph.get_text() + \"\\n\\n\"\n",
    "            \n",
    "    return text"
   ]
  },
  {
   "cell_type": "code",
   "execution_count": 3,
   "metadata": {
    "collapsed": true
   },
   "outputs": [],
   "source": [
    "def get_npr_urls(soup):\n",
    "    \n",
    "    pattern = r'20[\\d]{2}/[\\d]{1,2}/[\\d]{1,2}/[\\d]+/'\n",
    "    \n",
    "    urls = []\n",
    "    for link in soup.find_all('a', href=True):\n",
    "        url = link['href']\n",
    "        if (url.startswith('https://www.npr.org/')):\n",
    "            if re.search(pattern, url):\n",
    "                urls.append(url)\n",
    "        \n",
    "    return urls"
   ]
  },
  {
   "cell_type": "code",
   "execution_count": 4,
   "metadata": {
    "collapsed": true
   },
   "outputs": [],
   "source": [
    "def get_title(soup):\n",
    "    title = \"\"\n",
    "    #find href with class == title, then get b\n",
    "    for link in soup.find_all('a'):\n",
    "        if link.has_attr('class'):\n",
    "            if link['class'][0] == \"title\":\n",
    "                title = link.findChildren('b')[0].get_text()\n",
    "    \n",
    "    return title"
   ]
  },
  {
   "cell_type": "code",
   "execution_count": 5,
   "metadata": {
    "collapsed": true
   },
   "outputs": [],
   "source": [
    "def get_details(url):\n",
    "    pattern = r'20[\\d]{2}/[\\d]{1,2}/[\\d]{1,2}/[\\d]+/'\n",
    "    \n",
    "    matchObject = re.search(pattern, url, flags=0)\n",
    "    match_split = matchObject[0].split(\"/\")\n",
    "    date = match_split[0] + \"-\" + match_split[1] + \"-\" + match_split[2]\n",
    "    article_id = match_split[3]\n",
    "    \n",
    "    return date, article_id"
   ]
  },
  {
   "cell_type": "code",
   "execution_count": 6,
   "metadata": {},
   "outputs": [
    {
     "name": "stdout",
     "output_type": "stream",
     "text": [
      "0 : 1\n",
      "50 : 69\n",
      "100 : 162\n",
      "150 : 253\n",
      "200 : 303\n",
      "250 : 387\n",
      "300 : 444\n",
      "350 : 445\n",
      "400 : 471\n",
      "450 : 466\n",
      "500 : 538\n",
      "550 : 604\n",
      "600 : 622\n",
      "650 : 646\n",
      "700 : 744\n",
      "750 : 791\n",
      "800 : 872\n",
      "850 : 927\n",
      "900 : 932\n",
      "950 : 950\n",
      "1000 : 1038\n",
      "1050 : 1167\n",
      "1100 : 1211\n",
      "1150 : 1261\n",
      "1200 : 1283\n",
      "1250 : 1331\n",
      "1300 : 1381\n",
      "1350 : 1437\n",
      "1400 : 1469\n",
      "1450 : 1446\n",
      "1500 : 1549\n",
      "1550 : 1584\n",
      "1600 : 1584\n",
      "1650 : 1639\n",
      "1700 : 1677\n",
      "1750 : 1728\n",
      "1800 : 1781\n",
      "1850 : 1839\n",
      "1900 : 1957\n",
      "1950 : 2003\n"
     ]
    }
   ],
   "source": [
    "##############\n",
    "## \n",
    "\n",
    "start_url = \"https://www.npr.org/\"\n",
    "traversed_urls = set()\n",
    "\n",
    "to_traverse = set()\n",
    "to_traverse.add(start_url)\n",
    "\n",
    "folder_out = 'data/articles/'\n",
    "if not os.path.exists(folder_out):\n",
    "    os.makedirs(folder_out)\n",
    "\n",
    "article_count = 0\n",
    "\n",
    "with open(folder_out + \"article_log.csv\", 'w') as csvfile:\n",
    "    fieldnames = [\"ID\", \"Date\", \"Title\", \"Link\"]\n",
    "    writer = csv.DictWriter(csvfile, fieldnames=fieldnames)\n",
    "    \n",
    "    writer.writeheader()\n",
    "    while len(to_traverse) > 0 and article_count < 2000:\n",
    "        if article_count % 50 == 0:\n",
    "            print(article_count, \":\", len(to_traverse))\n",
    "        url = to_traverse.pop()\n",
    "        traversed_urls.add(url)\n",
    "\n",
    "        soup = BeautifulSoup(requests.get(url).text, 'html.parser')\n",
    "\n",
    "        links = get_npr_urls(soup)\n",
    "\n",
    "        urls = [x for x in get_npr_urls(soup) if x not in traversed_urls]\n",
    "        to_traverse.update(urls)\n",
    "\n",
    "        text = get_text(soup)\n",
    "\n",
    "        if len(text) > 100:\n",
    "            title = get_title(soup)\n",
    "            date, article_id = get_details(url)\n",
    "\n",
    "            writer.writerow({\"Link\": url, \"Title\": title, \"Date\": date, \"ID\": article_id})\n",
    "            with open (folder_out + article_id + \".txt\", 'w') as article_hdl:\n",
    "                article_hdl.write(text)\n",
    "            \n",
    "\n",
    "        article_count += 1"
   ]
  },
  {
   "cell_type": "code",
   "execution_count": 7,
   "metadata": {},
   "outputs": [
    {
     "data": {
      "text/plain": [
       "1938"
      ]
     },
     "execution_count": 7,
     "metadata": {},
     "output_type": "execute_result"
    }
   ],
   "source": [
    "import glob\n",
    "len(glob.glob(folder_out + \"*.txt\"))"
   ]
  },
  {
   "cell_type": "code",
   "execution_count": 8,
   "metadata": {},
   "outputs": [
    {
     "name": "stdout",
     "output_type": "stream",
     "text": [
      "1988\n"
     ]
    }
   ],
   "source": [
    "with open (folder_out + \"article_log.csv\") as csv_hdl:\n",
    "    count = 0\n",
    "    reader = csv.reader(csv_hdl)\n",
    "    for row in reader:\n",
    "        count+=1\n",
    "        \n",
    "    print (count)"
   ]
  },
  {
   "cell_type": "code",
   "execution_count": null,
   "metadata": {
    "collapsed": true
   },
   "outputs": [],
   "source": []
  }
 ],
 "metadata": {
  "kernelspec": {
   "display_name": "Python [default]",
   "language": "python",
   "name": "python3"
  },
  "language_info": {
   "codemirror_mode": {
    "name": "ipython",
    "version": 3
   },
   "file_extension": ".py",
   "mimetype": "text/x-python",
   "name": "python",
   "nbconvert_exporter": "python",
   "pygments_lexer": "ipython3",
   "version": "3.6.2"
  }
 },
 "nbformat": 4,
 "nbformat_minor": 2
}
