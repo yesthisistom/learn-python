{
 "cells": [
  {
   "cell_type": "markdown",
   "metadata": {},
   "source": [
    "# Session 1</center>"
   ]
  },
  {
   "cell_type": "markdown",
   "metadata": {},
   "source": [
    "## Table of Contents\n",
    "\n",
    "<b>\n",
    "* <a href=\"#Variables\">Variables</a>\n",
    "    * <a href=\"#Numbers\">Numbers</a>\n",
    "    * <a href=\"#Boolean\">Boolean</a>\n",
    "    * <a href=\"#Strings\">Strings</a>\n",
    "    * <a href=\"#None\">None</a>\n",
    "    \n",
    "\n",
    "* <a href=\"#Built\">Built in Functions</a>\n",
    "* <a href=\"#Flow\">Flow Control</a>\n",
    "* <a href=\"#Exercises\">Exercises</a>\n",
    "</b>"
   ]
  },
  {
   "cell_type": "markdown",
   "metadata": {},
   "source": [
    "<hr>\n",
    "## Variables\n",
    "\n",
    "Variables are like pointers to data, and can represent a number of different data types. You can assign a variable to a value using an assignment operator.  The general format is \n",
    "\n",
    "    variable_name = data_value\n",
    "    \n",
    "The single equals sign is the assignment operator. If you enter the assignment statement 'pi = 3.14', then a variable named 'pi' will have the value 3.14 stored in it."
   ]
  },
  {
   "cell_type": "markdown",
   "metadata": {},
   "source": [
    "### Numbers\n",
    "\n",
    "There are two primitive data types for numbers - floating point (has decimal point) or integer"
   ]
  },
  {
   "cell_type": "code",
   "execution_count": 1,
   "metadata": {
    "collapsed": true
   },
   "outputs": [],
   "source": [
    "floating_var = 3.14159\n",
    "int_var = 3"
   ]
  },
  {
   "cell_type": "code",
   "execution_count": 2,
   "metadata": {},
   "outputs": [
    {
     "data": {
      "text/plain": [
       "3"
      ]
     },
     "execution_count": 2,
     "metadata": {},
     "output_type": "execute_result"
    }
   ],
   "source": [
    "int_var"
   ]
  },
  {
   "cell_type": "code",
   "execution_count": 3,
   "metadata": {
    "scrolled": true
   },
   "outputs": [
    {
     "data": {
      "text/plain": [
       "3.14159"
      ]
     },
     "execution_count": 3,
     "metadata": {},
     "output_type": "execute_result"
    }
   ],
   "source": [
    "floating_var"
   ]
  },
  {
   "cell_type": "markdown",
   "metadata": {},
   "source": [
    "#### Operators\n",
    "\n",
    "\n",
    "| Operator | What it does|\n",
    "|----|-------|\n",
    "| + | Addition|\n",
    "| - | Subraction|\n",
    "| * | Multiplication|\n",
    "| \\ | Division|\n",
    "| ** | To the Power of |\n",
    "| % | Modulus, gives the remainder of division|\n",
    "\n"
   ]
  },
  {
   "cell_type": "code",
   "execution_count": 4,
   "metadata": {},
   "outputs": [
    {
     "data": {
      "text/plain": [
       "25"
      ]
     },
     "execution_count": 4,
     "metadata": {},
     "output_type": "execute_result"
    }
   ],
   "source": [
    "square_side_length = 5\n",
    "area_of_square = square_side_length * square_side_length\n",
    "\n",
    "area_of_square"
   ]
  },
  {
   "cell_type": "code",
   "execution_count": 5,
   "metadata": {},
   "outputs": [
    {
     "data": {
      "text/plain": [
       "78.53975"
      ]
     },
     "execution_count": 5,
     "metadata": {},
     "output_type": "execute_result"
    }
   ],
   "source": [
    "circle_radius = 5\n",
    "pi = 3.14159\n",
    "area_of_circle = (circle_radius**2) * pi\n",
    "\n",
    "area_of_circle"
   ]
  },
  {
   "cell_type": "markdown",
   "metadata": {},
   "source": [
    "##### Using operators and the variables in the code block below, get the remainder of dividing 13 by 2"
   ]
  },
  {
   "cell_type": "code",
   "execution_count": 6,
   "metadata": {
    "collapsed": true
   },
   "outputs": [],
   "source": [
    "divisor = 2\n",
    "dividend = 13\n",
    "\n",
    "## your code here"
   ]
  },
  {
   "cell_type": "markdown",
   "metadata": {},
   "source": [
    "### Strings\n",
    "\n",
    "In most programming languages, the primitive type is a 'char', and strings are treated like a list of that primitive type.  In python, there's no such data type, but strings are still treated like a list, which we'll cover later.  \n",
    "\n",
    "There are three ways to assign a string in python.\n"
   ]
  },
  {
   "cell_type": "code",
   "execution_count": 7,
   "metadata": {
    "collapsed": true
   },
   "outputs": [],
   "source": [
    "string_1 = 'test string 1'\n",
    "string_2 = \"test string 2\"\n",
    "string_3 = '''test string 4\n",
    "\n",
    "                multi-line string'''"
   ]
  },
  {
   "cell_type": "code",
   "execution_count": 8,
   "metadata": {},
   "outputs": [
    {
     "data": {
      "text/plain": [
       "'test string 1'"
      ]
     },
     "execution_count": 8,
     "metadata": {},
     "output_type": "execute_result"
    }
   ],
   "source": [
    "string_1"
   ]
  },
  {
   "cell_type": "markdown",
   "metadata": {},
   "source": [
    "### Boolean\n",
    "\n",
    "Boolean has two values: True or False (capitalization is important here). "
   ]
  },
  {
   "cell_type": "code",
   "execution_count": 9,
   "metadata": {},
   "outputs": [
    {
     "data": {
      "text/plain": [
       "False"
      ]
     },
     "execution_count": 9,
     "metadata": {},
     "output_type": "execute_result"
    }
   ],
   "source": [
    "bool_var = False\n",
    "\n",
    "bool_var"
   ]
  },
  {
   "cell_type": "code",
   "execution_count": 10,
   "metadata": {},
   "outputs": [
    {
     "data": {
      "text/plain": [
       "True"
      ]
     },
     "execution_count": 10,
     "metadata": {},
     "output_type": "execute_result"
    }
   ],
   "source": [
    "pi > 3"
   ]
  },
  {
   "cell_type": "markdown",
   "metadata": {
    "collapsed": true
   },
   "source": [
    "#### Comparison Operator\n",
    "\n",
    "Use of comparison operators returns boolean values\n",
    "\n",
    "| Operator | Useage|\n",
    "|----|----|\n",
    "| == | Determine if two values are equal |\n",
    "| < | Less than|\n",
    "| > | Greater than|\n",
    "| <= | Less than or equal to |\n",
    "| >= | Greater than or equal to |\n",
    "| != | Not equals|"
   ]
  },
  {
   "cell_type": "code",
   "execution_count": 11,
   "metadata": {},
   "outputs": [
    {
     "data": {
      "text/plain": [
       "True"
      ]
     },
     "execution_count": 11,
     "metadata": {},
     "output_type": "execute_result"
    }
   ],
   "source": [
    "5 == 2*2.5"
   ]
  },
  {
   "cell_type": "code",
   "execution_count": 12,
   "metadata": {},
   "outputs": [
    {
     "data": {
      "text/plain": [
       "True"
      ]
     },
     "execution_count": 12,
     "metadata": {},
     "output_type": "execute_result"
    }
   ],
   "source": [
    "2 != 5"
   ]
  },
  {
   "cell_type": "code",
   "execution_count": 13,
   "metadata": {},
   "outputs": [
    {
     "data": {
      "text/plain": [
       "False"
      ]
     },
     "execution_count": 13,
     "metadata": {},
     "output_type": "execute_result"
    }
   ],
   "source": [
    "5 > 10"
   ]
  },
  {
   "cell_type": "markdown",
   "metadata": {},
   "source": [
    "#### In\n",
    "\n",
    "The 'in' and 'not in' keywords can be used for testing membership.  Right now we can use them for strings, but they can be used for larger data structures as well. The use of these membership tests return boolean values."
   ]
  },
  {
   "cell_type": "code",
   "execution_count": 14,
   "metadata": {},
   "outputs": [
    {
     "data": {
      "text/plain": [
       "False"
      ]
     },
     "execution_count": 14,
     "metadata": {},
     "output_type": "execute_result"
    }
   ],
   "source": [
    "'s' in 'String'"
   ]
  },
  {
   "cell_type": "code",
   "execution_count": 15,
   "metadata": {},
   "outputs": [
    {
     "data": {
      "text/plain": [
       "True"
      ]
     },
     "execution_count": 15,
     "metadata": {},
     "output_type": "execute_result"
    }
   ],
   "source": [
    "'S' in 'String'"
   ]
  },
  {
   "cell_type": "markdown",
   "metadata": {},
   "source": [
    "### None\n",
    "\n",
    "None is an interesting type, its not equivalent to zero, or an empty string, it is its own type with only one value.  It becomes useful when we cover functions"
   ]
  },
  {
   "cell_type": "code",
   "execution_count": 16,
   "metadata": {
    "collapsed": true
   },
   "outputs": [],
   "source": [
    "none_var = None"
   ]
  },
  {
   "cell_type": "code",
   "execution_count": 17,
   "metadata": {},
   "outputs": [
    {
     "data": {
      "text/plain": [
       "False"
      ]
     },
     "execution_count": 17,
     "metadata": {},
     "output_type": "execute_result"
    }
   ],
   "source": [
    "none_var == 0"
   ]
  },
  {
   "cell_type": "code",
   "execution_count": 18,
   "metadata": {},
   "outputs": [
    {
     "data": {
      "text/plain": [
       "False"
      ]
     },
     "execution_count": 18,
     "metadata": {},
     "output_type": "execute_result"
    }
   ],
   "source": [
    "none_var == ''"
   ]
  },
  {
   "cell_type": "markdown",
   "metadata": {},
   "source": [
    "A quick note about variable names - they should make sense.  You should be able to read your code later and know what the variable contains. \n",
    "\n",
    "Python has some rules for variables:\n",
    "1. It can be only one word.\n",
    "2. It can use only letters, numbers, and the underscore (_) character.\n",
    "3. It can’t begin with a number.\n",
    "\n",
    "Variable names are case-sensitive, meaning that spam, SPAM, Spam, and sPaM are four different variables. It is a Python convention to start your variables with a lowercase letter.\n",
    "\n",
    "[Pep-8](https://www.python.org/dev/peps/pep-0008/) defines the style guide for python code. "
   ]
  },
  {
   "cell_type": "markdown",
   "metadata": {},
   "source": [
    "<a id=\"Built\"></a>\n",
    "<hr>\n",
    "## Built in functions\n",
    "\n",
    "Python has a number of built in functions that we can use th determine the type of a variable, its length, etc. \n",
    "A function requires arguments, which are passed in using parentheses.  \n",
    "\n",
    "| <center>Function</center> | <center>Inputs and returns</center> |\n",
    "|----|----|\n",
    "|type()|Returns to the type of the variable it is passed.  ex: type(3.5) returns float|\n",
    "|len()|Returns the length of the variable passed in.  ex: type(\"test\") returns 4|\n",
    "|print()|Takes a variable and prints it out.  If multiple variables are passed, <br>it prints them with a space between them.  It returns None as no return is required. |\n",
    "|input()|Prints whatever variable it is passed, then waits for a user to type something <br>and hit enter.  Always returns a string representation of whatever the user typed.  |"
   ]
  },
  {
   "cell_type": "code",
   "execution_count": 19,
   "metadata": {},
   "outputs": [
    {
     "data": {
      "text/plain": [
       "float"
      ]
     },
     "execution_count": 19,
     "metadata": {},
     "output_type": "execute_result"
    }
   ],
   "source": [
    "pi = 3.14\n",
    "\n",
    "type(pi)"
   ]
  },
  {
   "cell_type": "code",
   "execution_count": 20,
   "metadata": {},
   "outputs": [
    {
     "data": {
      "text/plain": [
       "False"
      ]
     },
     "execution_count": 20,
     "metadata": {},
     "output_type": "execute_result"
    }
   ],
   "source": [
    "pi_str = '3.14'\n",
    "type(pi) == str"
   ]
  },
  {
   "cell_type": "code",
   "execution_count": 21,
   "metadata": {},
   "outputs": [
    {
     "data": {
      "text/plain": [
       "4"
      ]
     },
     "execution_count": 21,
     "metadata": {},
     "output_type": "execute_result"
    }
   ],
   "source": [
    "len(pi_str)"
   ]
  },
  {
   "cell_type": "code",
   "execution_count": 22,
   "metadata": {},
   "outputs": [
    {
     "data": {
      "text/plain": [
       "float"
      ]
     },
     "execution_count": 22,
     "metadata": {},
     "output_type": "execute_result"
    }
   ],
   "source": [
    "## Casting\n",
    "pi_float = float(pi_str)\n",
    "\n",
    "type(pi_float)"
   ]
  },
  {
   "cell_type": "code",
   "execution_count": 24,
   "metadata": {},
   "outputs": [
    {
     "name": "stdout",
     "output_type": "stream",
     "text": [
      "The value of pi is 3.14\n"
     ]
    },
    {
     "ename": "TypeError",
     "evalue": "must be str, not float",
     "output_type": "error",
     "traceback": [
      "\u001b[0;31m---------------------------------------------------------------------------\u001b[0m",
      "\u001b[0;31mTypeError\u001b[0m                                 Traceback (most recent call last)",
      "\u001b[0;32m<ipython-input-24-c6e4ea958202>\u001b[0m in \u001b[0;36m<module>\u001b[0;34m()\u001b[0m\n\u001b[1;32m      2\u001b[0m \u001b[0;34m\u001b[0m\u001b[0m\n\u001b[1;32m      3\u001b[0m \u001b[0mprint\u001b[0m\u001b[0;34m(\u001b[0m\u001b[0;34m\"The value of pi is \"\u001b[0m \u001b[0;34m+\u001b[0m \u001b[0mstr\u001b[0m\u001b[0;34m(\u001b[0m\u001b[0mpi\u001b[0m\u001b[0;34m)\u001b[0m\u001b[0;34m)\u001b[0m\u001b[0;34m\u001b[0m\u001b[0m\n\u001b[0;32m----> 4\u001b[0;31m \u001b[0mprint\u001b[0m\u001b[0;34m(\u001b[0m\u001b[0;34m\"The value of pi is \"\u001b[0m \u001b[0;34m+\u001b[0m \u001b[0mpi\u001b[0m\u001b[0;34m)\u001b[0m\u001b[0;34m\u001b[0m\u001b[0m\n\u001b[0m",
      "\u001b[0;31mTypeError\u001b[0m: must be str, not float"
     ]
    }
   ],
   "source": [
    "## Casting to string\n",
    "\n",
    "print(\"The value of pi is \" + str(pi))\n",
    "print(\"The value of pi is \" + pi)"
   ]
  },
  {
   "cell_type": "code",
   "execution_count": 25,
   "metadata": {},
   "outputs": [
    {
     "name": "stdout",
     "output_type": "stream",
     "text": [
      "test\n"
     ]
    },
    {
     "data": {
      "text/plain": [
       "NoneType"
      ]
     },
     "execution_count": 25,
     "metadata": {},
     "output_type": "execute_result"
    }
   ],
   "source": [
    "type(print(\"test\"))"
   ]
  },
  {
   "cell_type": "code",
   "execution_count": 26,
   "metadata": {},
   "outputs": [
    {
     "name": "stdout",
     "output_type": "stream",
     "text": [
      "Enter your age: 33\n",
      "33\n"
     ]
    }
   ],
   "source": [
    "value_from_input = input(\"Enter your age: \")\n",
    "print (value_from_input)"
   ]
  },
  {
   "cell_type": "markdown",
   "metadata": {},
   "source": [
    "<a id=\"Flow\"></a>\n",
    "<hr>\n",
    "## Flow Control\n",
    "\n",
    "Using conditionals, you can control the flow of your code.  The general flow is:\n",
    "    \n",
    "    if <conditional statement>:\n",
    "        <code to execute if statement is true>\n",
    "    elif <different conditional statement>:\n",
    "        <code to execute if different conditional statement is true>\n",
    "    else:\n",
    "        <code if both conditionals were false>"
   ]
  },
  {
   "cell_type": "code",
   "execution_count": 27,
   "metadata": {},
   "outputs": [
    {
     "name": "stdout",
     "output_type": "stream",
     "text": [
      "Tickets are free for children under 10\n"
     ]
    }
   ],
   "source": [
    "age = 5\n",
    "\n",
    "if age < 10:\n",
    "    print (\"Tickets are free for children under 10\")\n",
    "elif age <= 65:\n",
    "    print (\"Ticket price is $15\")\n",
    "else:\n",
    "    print (\"Ticket price is $10 for Senior Citizens\")"
   ]
  },
  {
   "cell_type": "markdown",
   "metadata": {},
   "source": [
    "We can re-write this to respond to user input"
   ]
  },
  {
   "cell_type": "code",
   "execution_count": 29,
   "metadata": {},
   "outputs": [
    {
     "name": "stdout",
     "output_type": "stream",
     "text": [
      "Enter your age: 33\n",
      "Ticket price is $15\n"
     ]
    }
   ],
   "source": [
    "age = input(\"Enter your age: \")\n",
    "\n",
    "## The response from input is a string, so we have to cast it\n",
    "age = float(age)\n",
    "\n",
    "if age < 10:\n",
    "    print (\"Tickets are free for children under 10\")\n",
    "elif age <= 65:\n",
    "    print (\"Ticket price is $15\")\n",
    "else:\n",
    "    print (\"Ticket price is $10 for Senior Citizens\")"
   ]
  },
  {
   "cell_type": "markdown",
   "metadata": {
    "collapsed": true
   },
   "source": [
    "<a id=\"Exercises\"></a>\n",
    "<hr>\n",
    "## Exercise 1\n",
    "\n",
    "Get a number from the user, and print if it's even or odd.  \n",
    "\n",
    "    ##Example output\n",
    "    Enter a number: 5\n",
    "    5 is an odd number"
   ]
  },
  {
   "cell_type": "code",
   "execution_count": 30,
   "metadata": {
    "collapsed": true
   },
   "outputs": [],
   "source": [
    "## Try your code here"
   ]
  },
  {
   "cell_type": "code",
   "execution_count": null,
   "metadata": {
    "collapsed": true
   },
   "outputs": [],
   "source": []
  },
  {
   "cell_type": "markdown",
   "metadata": {},
   "source": [
    "## Exercise 2\n",
    "\n",
    "Get the users age, and tell them how old they'll be in 5 years. "
   ]
  },
  {
   "cell_type": "code",
   "execution_count": 31,
   "metadata": {
    "collapsed": true
   },
   "outputs": [],
   "source": [
    "## Try your code here"
   ]
  },
  {
   "cell_type": "code",
   "execution_count": null,
   "metadata": {
    "collapsed": true
   },
   "outputs": [],
   "source": []
  },
  {
   "cell_type": "markdown",
   "metadata": {},
   "source": [
    "## Exercise 3\n",
    "\n",
    "Get the number of a month from the user (1-12), and determine which quarter it is in. "
   ]
  },
  {
   "cell_type": "code",
   "execution_count": 32,
   "metadata": {
    "collapsed": true
   },
   "outputs": [],
   "source": [
    "### Enter your code here"
   ]
  },
  {
   "cell_type": "code",
   "execution_count": null,
   "metadata": {
    "collapsed": true
   },
   "outputs": [],
   "source": []
  },
  {
   "cell_type": "markdown",
   "metadata": {},
   "source": [
    "Modify your code above to make sure the month the user inputs is a valid month"
   ]
  },
  {
   "cell_type": "code",
   "execution_count": 33,
   "metadata": {
    "collapsed": true
   },
   "outputs": [],
   "source": [
    "### Enter your code here"
   ]
  },
  {
   "cell_type": "code",
   "execution_count": null,
   "metadata": {
    "collapsed": true
   },
   "outputs": [],
   "source": []
  },
  {
   "cell_type": "code",
   "execution_count": null,
   "metadata": {
    "collapsed": true
   },
   "outputs": [],
   "source": []
  }
 ],
 "metadata": {
  "kernelspec": {
   "display_name": "Python [default]",
   "language": "python",
   "name": "python3"
  },
  "language_info": {
   "codemirror_mode": {
    "name": "ipython",
    "version": 3
   },
   "file_extension": ".py",
   "mimetype": "text/x-python",
   "name": "python",
   "nbconvert_exporter": "python",
   "pygments_lexer": "ipython3",
   "version": "3.6.2"
  }
 },
 "nbformat": 4,
 "nbformat_minor": 2
}
