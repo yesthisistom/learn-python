{
 "cells": [
  {
   "cell_type": "markdown",
   "metadata": {},
   "source": [
    "\n",
    "\n",
    "# <center>Session 1 - Variables and Flow Control</center>\n",
    "\n",
    "<hr>"
   ]
  },
  {
   "cell_type": "markdown",
   "metadata": {},
   "source": [
    "## Table of Contents\n",
    "\n",
    "<b>\n",
    "* [Variables](#Variables)\n",
    "* [Data Types](#DataTypes)\n",
    "    * [Numbers](#Numbers)\n",
    "    * [Boolean](#Boolean)\n",
    "    * [Strings](#Strings)\n",
    "    * [None](#None)\n",
    "    \n",
    "\n",
    "* [Built in Functions](#Built)\n",
    "* [Flow Control](#Flow)\n",
    "* [Exercises](#Exercises)\n",
    "</b>"
   ]
  },
  {
   "cell_type": "markdown",
   "metadata": {},
   "source": [
    "<hr>\n",
    "## Variables\n",
    "\n",
    "Variables are like pointers to data, and can represent a number of different data types. The reason we use variables is the same reason that when talking about a book, we use its title and don't repeat its full text.  It's a *stand in* for the data, especially when we may not know what the data is exactly, like when we let a user enter data into a web form. \n",
    "\n",
    "You can assign a variable to a value using an assignment operator, which is a single equals sign.  The general format is \n",
    "\n",
    "    variable_name = data_value\n",
    "    \n",
    "If you enter the assignment statement 'pi = 3.14', then a variable named 'pi' will have the value 3.14 stored in it."
   ]
  },
  {
   "cell_type": "code",
   "execution_count": null,
   "metadata": {
    "collapsed": true
   },
   "outputs": [],
   "source": [
    "pi = 3.14\n",
    "\n",
    "pi"
   ]
  },
  {
   "cell_type": "markdown",
   "metadata": {},
   "source": [
    "A quick note about variable names - they should make sense.  You should be able to read your code later and know what the variable contains. \n",
    "\n",
    "Python has some rules for variables:\n",
    "1. It can be only one word.\n",
    "2. It can use only letters, numbers, and the underscore (_) character.\n",
    "3. It can’t begin with a number.\n",
    "\n",
    "Variable names are case-sensitive, meaning that spam, SPAM, Spam, and sPaM are four different variables. It is a Python convention for the variable names to be lowercase. \n",
    "\n",
    "[Pep-8](https://www.python.org/dev/peps/pep-0008/) defines the style guide for python code. "
   ]
  },
  {
   "cell_type": "markdown",
   "metadata": {},
   "source": [
    "<hr>\n",
    "<a id=\"DataTypes\"></a>\n",
    "## Data Types\n",
    "\n",
    "Python has a number of data types, a few of which we'll cover in this notebook.  Why bother having different types of data?  If you know a piece of data is a number, you can treat it differently than if its a block of text - there's different operations that go with it. \n",
    "\n",
    "For instance, multiplying two pieces of text together doesn't make a lot of sense, but multiplying two numbers together does.  Alternatively, searching for a word inside a number doesn't make sense, but searching for it in a block of text does. \n",
    "\n",
    "Python has some built-in data types, but it's also possible to create your own, with their own unique properties and functions. "
   ]
  },
  {
   "cell_type": "markdown",
   "metadata": {},
   "source": [
    "### Numbers\n",
    "\n",
    "**References**  \n",
    "* [Numeric Types Python Docs](https://docs.python.org/3/library/stdtypes.html#numeric-types-int-float-complex)\n",
    "\n",
    "There are two primitive data types for numbers - floating point (has decimal point) or integer"
   ]
  },
  {
   "cell_type": "code",
   "execution_count": null,
   "metadata": {
    "collapsed": true
   },
   "outputs": [],
   "source": [
    "floating_var = 3.14159\n",
    "int_var = 3"
   ]
  },
  {
   "cell_type": "code",
   "execution_count": null,
   "metadata": {
    "collapsed": true
   },
   "outputs": [],
   "source": [
    "int_var"
   ]
  },
  {
   "cell_type": "code",
   "execution_count": null,
   "metadata": {
    "collapsed": true,
    "scrolled": true
   },
   "outputs": [],
   "source": [
    "floating_var"
   ]
  },
  {
   "cell_type": "markdown",
   "metadata": {},
   "source": [
    "#### Operators\n",
    "\n",
    "\n",
    "| Operator | What it does|\n",
    "|----|-------------|\n",
    "| + |Addition |\n",
    "| - |Subraction |\n",
    "| * |Multiplication |\n",
    "| / |Division |\n",
    "| ** |To the Power of |\n",
    "| % |Modulus, gives the remainder of division|\n",
    "| // |Floor division, rounded down to the nearest number|\n"
   ]
  },
  {
   "cell_type": "code",
   "execution_count": null,
   "metadata": {
    "collapsed": true
   },
   "outputs": [],
   "source": [
    "## Assign a variable to the value 5\n",
    "square_side_length = 5\n",
    "\n",
    "## Multiply that variable by itself, and save the result to a new variable\n",
    "area_of_square = square_side_length * square_side_length\n",
    "\n",
    "## When we have a variable at the end of a jupyter notebook cell, it will print out what it contains\n",
    "area_of_square"
   ]
  },
  {
   "cell_type": "code",
   "execution_count": null,
   "metadata": {
    "collapsed": true
   },
   "outputs": [],
   "source": [
    "circle_radius = 5\n",
    "pi = 3.14159\n",
    "area_of_circle = (circle_radius**2) * pi\n",
    "\n",
    "area_of_circle"
   ]
  },
  {
   "cell_type": "markdown",
   "metadata": {},
   "source": [
    "Note that in the cell above, the order of operations we learned in elemetary school (PEMDAS) applies. "
   ]
  },
  {
   "cell_type": "markdown",
   "metadata": {},
   "source": [
    "##### Using operators and the variables in the code block below, get the remainder of dividing 13 by 2"
   ]
  },
  {
   "cell_type": "code",
   "execution_count": null,
   "metadata": {
    "collapsed": true
   },
   "outputs": [],
   "source": [
    "divisor = 2\n",
    "dividend = 13\n",
    "\n",
    "## your code here\n"
   ]
  },
  {
   "cell_type": "markdown",
   "metadata": {},
   "source": [
    "### Strings\n",
    "\n",
    "**References**  \n",
    "[Python Strings Documentation](https://docs.python.org/3/library/stdtypes.html#text-sequence-type-str)\n",
    "\n",
    "In most programming languages, the primitive type is a 'char', and strings are treated like a list of that primitive type.  In python, there's no such data type, but strings are still treated like a list, which we'll cover later.  \n",
    "\n",
    "There are three ways to assign a string in python.\n"
   ]
  },
  {
   "cell_type": "code",
   "execution_count": null,
   "metadata": {
    "collapsed": true
   },
   "outputs": [],
   "source": [
    "string_1 = 'test string 1'\n",
    "string_2 = \"test string 2\"\n",
    "string_3 = '''test string 4\n",
    "\n",
    "                multi-line string'''"
   ]
  },
  {
   "cell_type": "code",
   "execution_count": null,
   "metadata": {
    "collapsed": true
   },
   "outputs": [],
   "source": [
    "string_1"
   ]
  },
  {
   "cell_type": "markdown",
   "metadata": {},
   "source": [
    "There are a number of functions associated with strings, that can modify them or search within them. \n",
    "\n",
    "|Function|Behavior|\n",
    "|---|---|\n",
    "|lower()| returns a lower case version of the string|\n",
    "|upper()| returns an upper case version of the string|\n",
    "|replace() | takes two arguments, and replaces one with the other|\n",
    "|find() | gives the index of the first occurance of the input|\n",
    "|strip()| removes all whitespace from the beginning and end of a string|"
   ]
  },
  {
   "cell_type": "code",
   "execution_count": null,
   "metadata": {
    "collapsed": true
   },
   "outputs": [],
   "source": [
    "name = \"Humphrey\"\n",
    "name.lower()"
   ]
  },
  {
   "cell_type": "code",
   "execution_count": null,
   "metadata": {
    "collapsed": true
   },
   "outputs": [],
   "source": [
    "name.upper()"
   ]
  },
  {
   "cell_type": "code",
   "execution_count": null,
   "metadata": {
    "collapsed": true
   },
   "outputs": [],
   "source": [
    "date = \"12/25/1975\"\n",
    "date.replace(\"/\", \"-\")"
   ]
  },
  {
   "cell_type": "code",
   "execution_count": null,
   "metadata": {
    "collapsed": true
   },
   "outputs": [],
   "source": [
    "date.find(\"/\")"
   ]
  },
  {
   "cell_type": "code",
   "execution_count": null,
   "metadata": {
    "collapsed": true
   },
   "outputs": [],
   "source": [
    "username = \" test_username \"\n",
    "username.strip()"
   ]
  },
  {
   "cell_type": "code",
   "execution_count": null,
   "metadata": {
    "collapsed": true
   },
   "outputs": [],
   "source": [
    "## You can add two strings together with a '+' sign\n",
    "dogs_name = \"Lucy\"\n",
    "\n",
    "\"The dogs name is \" + dogs_name"
   ]
  },
  {
   "cell_type": "markdown",
   "metadata": {},
   "source": [
    "There are many more string related functions, and the use case for the ones we've seen will become more apparent in later notebooks."
   ]
  },
  {
   "cell_type": "markdown",
   "metadata": {},
   "source": [
    "### Boolean\n",
    "\n",
    "Boolean has two values: True or False (capitalization is important here). We can assign boolean values explicitly, OR we can create boolean expressions that will evaluate to True or False."
   ]
  },
  {
   "cell_type": "code",
   "execution_count": null,
   "metadata": {
    "collapsed": true
   },
   "outputs": [],
   "source": [
    "bool_var = False\n",
    "\n",
    "bool_var"
   ]
  },
  {
   "cell_type": "code",
   "execution_count": null,
   "metadata": {
    "collapsed": true
   },
   "outputs": [],
   "source": [
    "pi > 3"
   ]
  },
  {
   "cell_type": "markdown",
   "metadata": {},
   "source": [
    "#### Comparison Operator\n",
    "\n",
    "Use of comparison operators returns boolean values\n",
    "\n",
    "| Operator | Useage|\n",
    "|----|----|\n",
    "| == | Determine if two values are equal |\n",
    "| < | Less than|\n",
    "| > | Greater than|\n",
    "| <= | Less than or equal to |\n",
    "| >= | Greater than or equal to |\n",
    "| != | Not equals|"
   ]
  },
  {
   "cell_type": "code",
   "execution_count": null,
   "metadata": {
    "collapsed": true
   },
   "outputs": [],
   "source": [
    "5 == 2*2.5"
   ]
  },
  {
   "cell_type": "code",
   "execution_count": null,
   "metadata": {
    "collapsed": true
   },
   "outputs": [],
   "source": [
    "2 != 5"
   ]
  },
  {
   "cell_type": "code",
   "execution_count": null,
   "metadata": {
    "collapsed": true
   },
   "outputs": [],
   "source": [
    "5 > 10"
   ]
  },
  {
   "cell_type": "markdown",
   "metadata": {},
   "source": [
    "#### In\n",
    "\n",
    "The 'in' and 'not in' keywords can be used for testing membership.  Right now we can use them for strings, but they can be used for larger data structures as well. The use of these membership tests return boolean values.\n",
    "\n",
    "Strings are **case sensitive**."
   ]
  },
  {
   "cell_type": "code",
   "execution_count": null,
   "metadata": {
    "collapsed": true
   },
   "outputs": [],
   "source": [
    "'s' in 'String'"
   ]
  },
  {
   "cell_type": "code",
   "execution_count": null,
   "metadata": {
    "collapsed": true
   },
   "outputs": [],
   "source": [
    "'S' in 'String'"
   ]
  },
  {
   "cell_type": "markdown",
   "metadata": {},
   "source": [
    "#### and/or\n",
    "\n",
    "We can create longer boolean expressions using the python keywords 'and' and 'or'. \n",
    "\n",
    "With 'and', both sides of the expression have to be true, otherwise the whole larger expression evaluates to false. \n",
    "    \n",
    "    True and True -> True\n",
    "    True and False -> False\n",
    "    False and False -> False\n",
    "    \n",
    "With 'or', if *either* side is true, the whole expression is true. \n",
    "\n",
    "    True or True -> True\n",
    "    True or False -> True\n",
    "    False or True -> True\n",
    "    False or False -> False"
   ]
  },
  {
   "cell_type": "code",
   "execution_count": null,
   "metadata": {
    "collapsed": true
   },
   "outputs": [],
   "source": [
    "age = 37\n",
    "\n",
    "age > 10 and age < 65"
   ]
  },
  {
   "cell_type": "code",
   "execution_count": null,
   "metadata": {
    "collapsed": true
   },
   "outputs": [],
   "source": [
    "age < 10 and age > 5"
   ]
  },
  {
   "cell_type": "code",
   "execution_count": null,
   "metadata": {
    "collapsed": true
   },
   "outputs": [],
   "source": [
    "age < 10 or age > 65"
   ]
  },
  {
   "cell_type": "code",
   "execution_count": null,
   "metadata": {
    "collapsed": true
   },
   "outputs": [],
   "source": [
    "age = 75\n",
    "\n",
    "age < 10 or age > 65"
   ]
  },
  {
   "cell_type": "markdown",
   "metadata": {},
   "source": [
    "Depending on your use case, these expressions can get longer and be joined together. "
   ]
  },
  {
   "cell_type": "code",
   "execution_count": null,
   "metadata": {
    "collapsed": true
   },
   "outputs": [],
   "source": [
    "animal = \"Dog\"\n",
    "animal_age = 5\n",
    "\n",
    "(animal.lower() == \"dog\" and animal_age < 10) or (animal == \"cat\" and animal_age < 7)"
   ]
  },
  {
   "cell_type": "markdown",
   "metadata": {},
   "source": [
    "### None\n",
    "\n",
    "None is an interesting type, its **not** equivalent to zero or an empty string, it is its own type with only one value.  It becomes useful when we cover functions.  \n",
    "\n",
    "For instance, if your function reads a file in, if the file is *empty*, we would return an empty string.  BUT, if the file doesn't exist, returning a None makes sense.  If we returned an empty string, the user might think the file exists but is empty."
   ]
  },
  {
   "cell_type": "code",
   "execution_count": null,
   "metadata": {
    "collapsed": true
   },
   "outputs": [],
   "source": [
    "none_var = None"
   ]
  },
  {
   "cell_type": "code",
   "execution_count": null,
   "metadata": {
    "collapsed": true
   },
   "outputs": [],
   "source": [
    "none_var == 0"
   ]
  },
  {
   "cell_type": "code",
   "execution_count": null,
   "metadata": {
    "collapsed": true
   },
   "outputs": [],
   "source": [
    "none_var == ''"
   ]
  },
  {
   "cell_type": "code",
   "execution_count": null,
   "metadata": {
    "collapsed": true
   },
   "outputs": [],
   "source": [
    "## Type is a built-in function in python that gives us the data type of a variable\n",
    "type(none_var)"
   ]
  },
  {
   "cell_type": "markdown",
   "metadata": {},
   "source": [
    "<a id=\"Built\"></a>\n",
    "<hr>\n",
    "## Built in functions\n",
    "\n",
    "**References**  \n",
    "[Built In Functions Python Docs](https://docs.python.org/3/library/functions.html)\n",
    "\n",
    "Python has a number of built in functions that we can use th determine the type of a variable, its length, etc. \n",
    "A function requires arguments, which are passed in using parentheses.  \n",
    "\n",
    "| <center>Function</center> | <center>Inputs and returns</center> |\n",
    "|----|----|\n",
    "|type()|Returns to the type of the variable it is passed.  ex: type(3.5) returns float|\n",
    "|len()|Returns the length of the variable passed in.  ex: type(\"test\") returns 4|\n",
    "|print()|Takes a variable and prints it out.  If multiple variables are passed, <br>it prints them with a space between them.  It returns None as no return is required. |\n",
    "|input()|Prints whatever variable it is passed, then waits for a user to type something <br>and hit enter.  Always returns a string representation of whatever the user typed.  |\n",
    "|str()| Takes an input and returns it as a string. |\n",
    "|int()| Takes an input and returns it as an integer|\n",
    "|float()| Takes an input and returns it as a floating point number|"
   ]
  },
  {
   "cell_type": "code",
   "execution_count": null,
   "metadata": {
    "collapsed": true
   },
   "outputs": [],
   "source": [
    "pi = 3.14\n",
    "\n",
    "type(pi)"
   ]
  },
  {
   "cell_type": "code",
   "execution_count": null,
   "metadata": {
    "collapsed": true
   },
   "outputs": [],
   "source": [
    "pi_str = '3.14'\n",
    "type(pi_str) == str"
   ]
  },
  {
   "cell_type": "code",
   "execution_count": null,
   "metadata": {
    "collapsed": true
   },
   "outputs": [],
   "source": [
    "len(pi_str)"
   ]
  },
  {
   "cell_type": "markdown",
   "metadata": {},
   "source": [
    "#### Casting\n",
    "\n",
    "Converting one data type to another is called casting.  If an excel file contains a column of numbers, and they're read in as strings, you'll want to convert them to numbers before attemping math with them. \n",
    "\n",
    "Conversely, if you have a number and want to concatenate it with another string, you'll have to convert it into a string first. "
   ]
  },
  {
   "cell_type": "code",
   "execution_count": null,
   "metadata": {
    "collapsed": true
   },
   "outputs": [],
   "source": [
    "\n",
    "pi_float = float(pi_str)\n",
    "\n",
    "type(pi_float)"
   ]
  },
  {
   "cell_type": "code",
   "execution_count": null,
   "metadata": {
    "collapsed": true
   },
   "outputs": [],
   "source": [
    "## Casting to string\n",
    "\n",
    "print(\"The value of pi is \" + str(pi))\n",
    "print(\"The value of pi is \" + pi)"
   ]
  },
  {
   "cell_type": "code",
   "execution_count": null,
   "metadata": {
    "collapsed": true
   },
   "outputs": [],
   "source": [
    "type(print(\"test\"))"
   ]
  },
  {
   "cell_type": "code",
   "execution_count": null,
   "metadata": {
    "collapsed": true
   },
   "outputs": [],
   "source": [
    "value_from_input = input(\"Enter your age: \")\n",
    "print (value_from_input)"
   ]
  },
  {
   "cell_type": "markdown",
   "metadata": {},
   "source": [
    "<a id=\"Flow\"></a>\n",
    "<hr>\n",
    "## Flow Control\n",
    "\n",
    "Using conditionals, you can control the flow of your code.  The general flow is:\n",
    "    \n",
    "    if <conditional statement>:\n",
    "        <code to execute if statement is true>\n",
    "    elif <different conditional statement>:\n",
    "        <code to execute if different conditional statement is true>\n",
    "    else:\n",
    "        <code if both conditionals were false>"
   ]
  },
  {
   "cell_type": "code",
   "execution_count": null,
   "metadata": {
    "collapsed": true
   },
   "outputs": [],
   "source": [
    "age = 5\n",
    "\n",
    "if age < 10:\n",
    "    print(\"Tickets are free for children under 10\")"
   ]
  },
  {
   "cell_type": "code",
   "execution_count": null,
   "metadata": {
    "collapsed": true
   },
   "outputs": [],
   "source": [
    "age = 35\n",
    "\n",
    "if age < 10:\n",
    "    print(\"Tickets are free for children under 10\")\n",
    "else: \n",
    "    print (\"Ticket price is $15\")"
   ]
  },
  {
   "cell_type": "code",
   "execution_count": null,
   "metadata": {
    "collapsed": true
   },
   "outputs": [],
   "source": [
    "age = 65\n",
    "\n",
    "if age < 10:\n",
    "    print (\"Tickets are free for children under 10\")\n",
    "elif age <= 65:\n",
    "    print (\"Ticket price is $15\")\n",
    "else:\n",
    "    print (\"Ticket price is $10 for Senior Citizens\")"
   ]
  },
  {
   "cell_type": "markdown",
   "metadata": {},
   "source": [
    "We can re-write this to respond to user input"
   ]
  },
  {
   "cell_type": "code",
   "execution_count": null,
   "metadata": {
    "collapsed": true
   },
   "outputs": [],
   "source": [
    "age = input(\"Enter your age: \")\n",
    "\n",
    "## The response from input is a string, so we have to cast it\n",
    "age = float(age)\n",
    "\n",
    "if age < 10:\n",
    "    print (\"Tickets are free for children under 10\")\n",
    "elif age <= 65:\n",
    "    print (\"Ticket price is $15\")\n",
    "else:\n",
    "    print (\"Ticket price is $10 for Senior Citizens\")"
   ]
  },
  {
   "cell_type": "markdown",
   "metadata": {},
   "source": [
    "<a id=\"Exercises\"></a>\n",
    "<hr>\n",
    "## Exercise 1\n",
    "\n",
    "Get a number from the user, and print if it's even or odd.  \n",
    "\n",
    "    ##Example output\n",
    "    Enter a number: 5\n",
    "    5 is an odd number"
   ]
  },
  {
   "cell_type": "code",
   "execution_count": null,
   "metadata": {
    "collapsed": true
   },
   "outputs": [],
   "source": [
    "## Try your code here"
   ]
  },
  {
   "cell_type": "code",
   "execution_count": null,
   "metadata": {
    "collapsed": true
   },
   "outputs": [],
   "source": []
  },
  {
   "cell_type": "markdown",
   "metadata": {},
   "source": [
    "## Exercise 2\n",
    "\n",
    "Get the users age, and tell them how old they'll be in 5 years. "
   ]
  },
  {
   "cell_type": "code",
   "execution_count": null,
   "metadata": {
    "collapsed": true
   },
   "outputs": [],
   "source": [
    "## Try your code here"
   ]
  },
  {
   "cell_type": "code",
   "execution_count": null,
   "metadata": {
    "collapsed": true
   },
   "outputs": [],
   "source": []
  },
  {
   "cell_type": "markdown",
   "metadata": {},
   "source": [
    "## Exercise 3\n",
    "\n",
    "Get the number of a month from the user (1-12), and determine which quarter it is in. "
   ]
  },
  {
   "cell_type": "code",
   "execution_count": null,
   "metadata": {
    "collapsed": true
   },
   "outputs": [],
   "source": [
    "### Enter your code here"
   ]
  },
  {
   "cell_type": "code",
   "execution_count": null,
   "metadata": {
    "collapsed": true
   },
   "outputs": [],
   "source": []
  },
  {
   "cell_type": "markdown",
   "metadata": {},
   "source": [
    "Modify your code above to make sure the month the user inputs is a valid month"
   ]
  },
  {
   "cell_type": "code",
   "execution_count": null,
   "metadata": {
    "collapsed": true
   },
   "outputs": [],
   "source": [
    "### Enter your code here"
   ]
  },
  {
   "cell_type": "code",
   "execution_count": null,
   "metadata": {
    "collapsed": true
   },
   "outputs": [],
   "source": []
  },
  {
   "cell_type": "code",
   "execution_count": null,
   "metadata": {
    "collapsed": true
   },
   "outputs": [],
   "source": []
  }
 ],
 "metadata": {
  "kernelspec": {
   "display_name": "Python [default]",
   "language": "python",
   "name": "python3"
  },
  "language_info": {
   "codemirror_mode": {
    "name": "ipython",
    "version": 3
   },
   "file_extension": ".py",
   "mimetype": "text/x-python",
   "name": "python",
   "nbconvert_exporter": "python",
   "pygments_lexer": "ipython3",
   "version": "3.6.2"
  }
 },
 "nbformat": 4,
 "nbformat_minor": 2
}
